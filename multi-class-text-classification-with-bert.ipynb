{
 "cells": [
  {
   "cell_type": "code",
   "execution_count": 1,
   "id": "6159825d",
   "metadata": {
    "execution": {
     "iopub.execute_input": "2023-02-01T08:42:29.539779Z",
     "iopub.status.busy": "2023-02-01T08:42:29.539260Z",
     "iopub.status.idle": "2023-02-01T08:42:33.014959Z",
     "shell.execute_reply": "2023-02-01T08:42:33.013745Z"
    },
    "papermill": {
     "duration": 3.513624,
     "end_time": "2023-02-01T08:42:33.017659",
     "exception": false,
     "start_time": "2023-02-01T08:42:29.504035",
     "status": "completed"
    },
    "tags": []
   },
   "outputs": [],
   "source": [
    "import torch\n",
    "from tqdm.notebook import tqdm\n",
    "\n",
    "from transformers import BertTokenizer\n",
    "from torch.utils.data import TensorDataset\n",
    "\n",
    "from transformers import BertForSequenceClassification"
   ]
  },
  {
   "cell_type": "code",
   "execution_count": 2,
   "id": "6b6a9a2a",
   "metadata": {
    "execution": {
     "iopub.execute_input": "2023-02-01T08:42:33.047302Z",
     "iopub.status.busy": "2023-02-01T08:42:33.046953Z",
     "iopub.status.idle": "2023-02-01T08:42:33.051740Z",
     "shell.execute_reply": "2023-02-01T08:42:33.050779Z"
    },
    "papermill": {
     "duration": 0.021022,
     "end_time": "2023-02-01T08:42:33.053735",
     "exception": false,
     "start_time": "2023-02-01T08:42:33.032713",
     "status": "completed"
    },
    "tags": []
   },
   "outputs": [],
   "source": [
    "import pandas as pd"
   ]
  },
  {
   "cell_type": "code",
   "execution_count": 3,
   "id": "01b4aea2",
   "metadata": {
    "execution": {
     "iopub.execute_input": "2023-02-01T08:42:33.081089Z",
     "iopub.status.busy": "2023-02-01T08:42:33.080320Z",
     "iopub.status.idle": "2023-02-01T08:42:33.108217Z",
     "shell.execute_reply": "2023-02-01T08:42:33.107277Z"
    },
    "papermill": {
     "duration": 0.044223,
     "end_time": "2023-02-01T08:42:33.110812",
     "exception": false,
     "start_time": "2023-02-01T08:42:33.066589",
     "status": "completed"
    },
    "tags": []
   },
   "outputs": [],
   "source": [
    "df = pd.read_csv('/kaggle/input/minedataset/cleaned data - Sheet1.csv')"
   ]
  },
  {
   "cell_type": "code",
   "execution_count": 4,
   "id": "d7b18038",
   "metadata": {
    "execution": {
     "iopub.execute_input": "2023-02-01T08:42:33.137600Z",
     "iopub.status.busy": "2023-02-01T08:42:33.137332Z",
     "iopub.status.idle": "2023-02-01T08:42:33.153474Z",
     "shell.execute_reply": "2023-02-01T08:42:33.152497Z"
    },
    "papermill": {
     "duration": 0.031904,
     "end_time": "2023-02-01T08:42:33.155509",
     "exception": false,
     "start_time": "2023-02-01T08:42:33.123605",
     "status": "completed"
    },
    "tags": []
   },
   "outputs": [
    {
     "data": {
      "text/plain": [
       "0    116\n",
       "1     76\n",
       "2     30\n",
       "4     29\n",
       "5     27\n",
       "3     24\n",
       "Name: classes_id, dtype: int64"
      ]
     },
     "execution_count": 4,
     "metadata": {},
     "output_type": "execute_result"
    }
   ],
   "source": [
    "df['classes_id'].value_counts()"
   ]
  },
  {
   "cell_type": "code",
   "execution_count": 5,
   "id": "e911d9fb",
   "metadata": {
    "execution": {
     "iopub.execute_input": "2023-02-01T08:42:33.183209Z",
     "iopub.status.busy": "2023-02-01T08:42:33.182409Z",
     "iopub.status.idle": "2023-02-01T08:42:33.203204Z",
     "shell.execute_reply": "2023-02-01T08:42:33.202162Z"
    },
    "papermill": {
     "duration": 0.036683,
     "end_time": "2023-02-01T08:42:33.205126",
     "exception": false,
     "start_time": "2023-02-01T08:42:33.168443",
     "status": "completed"
    },
    "tags": []
   },
   "outputs": [
    {
     "data": {
      "text/html": [
       "<div>\n",
       "<style scoped>\n",
       "    .dataframe tbody tr th:only-of-type {\n",
       "        vertical-align: middle;\n",
       "    }\n",
       "\n",
       "    .dataframe tbody tr th {\n",
       "        vertical-align: top;\n",
       "    }\n",
       "\n",
       "    .dataframe thead th {\n",
       "        text-align: right;\n",
       "    }\n",
       "</style>\n",
       "<table border=\"1\" class=\"dataframe\">\n",
       "  <thead>\n",
       "    <tr style=\"text-align: right;\">\n",
       "      <th></th>\n",
       "      <th>accident_code</th>\n",
       "      <th>accident_type</th>\n",
       "      <th>accident_classes</th>\n",
       "      <th>classes_id</th>\n",
       "      <th>reason</th>\n",
       "    </tr>\n",
       "  </thead>\n",
       "  <tbody>\n",
       "    <tr>\n",
       "      <th>0</th>\n",
       "      <td>335</td>\n",
       "      <td>Dumpers</td>\n",
       "      <td>Dumpers</td>\n",
       "      <td>0</td>\n",
       "      <td>While dumpers were being guided by an official...</td>\n",
       "    </tr>\n",
       "    <tr>\n",
       "      <th>1</th>\n",
       "      <td>335</td>\n",
       "      <td>Dumpers</td>\n",
       "      <td>Dumpers</td>\n",
       "      <td>0</td>\n",
       "      <td>While a helper of a tipper was removing stop b...</td>\n",
       "    </tr>\n",
       "    <tr>\n",
       "      <th>2</th>\n",
       "      <td>335</td>\n",
       "      <td>Dumpers</td>\n",
       "      <td>Dumpers</td>\n",
       "      <td>0</td>\n",
       "      <td>While a loaded dumper having a capacity of 85 ...</td>\n",
       "    </tr>\n",
       "    <tr>\n",
       "      <th>3</th>\n",
       "      <td>335</td>\n",
       "      <td>Dumpers</td>\n",
       "      <td>Dumpers</td>\n",
       "      <td>0</td>\n",
       "      <td>While a loaded dumper having a capacity of 170...</td>\n",
       "    </tr>\n",
       "    <tr>\n",
       "      <th>4</th>\n",
       "      <td>335</td>\n",
       "      <td>Dumpers</td>\n",
       "      <td>Dumpers</td>\n",
       "      <td>0</td>\n",
       "      <td>While a 35T dumper was being reversed on coal ...</td>\n",
       "    </tr>\n",
       "    <tr>\n",
       "      <th>...</th>\n",
       "      <td>...</td>\n",
       "      <td>...</td>\n",
       "      <td>...</td>\n",
       "      <td>...</td>\n",
       "      <td>...</td>\n",
       "    </tr>\n",
       "    <tr>\n",
       "      <th>297</th>\n",
       "      <td>449</td>\n",
       "      <td>Other Non-Transportation Machinery</td>\n",
       "      <td>Other Heavy Earth Moving Machinery and non tra...</td>\n",
       "      <td>5</td>\n",
       "      <td>While a Powered Support was being raised in a ...</td>\n",
       "    </tr>\n",
       "    <tr>\n",
       "      <th>298</th>\n",
       "      <td>449</td>\n",
       "      <td>Other Non-Transportation Machinery</td>\n",
       "      <td>Other Heavy Earth Moving Machinery and non tra...</td>\n",
       "      <td>5</td>\n",
       "      <td>While a helper had approached in the close pro...</td>\n",
       "    </tr>\n",
       "    <tr>\n",
       "      <th>299</th>\n",
       "      <td>449</td>\n",
       "      <td>Other Non-Transportation Machinery</td>\n",
       "      <td>Other Heavy Earth Moving Machinery and non tra...</td>\n",
       "      <td>5</td>\n",
       "      <td>While a fan attendant approached near the driv...</td>\n",
       "    </tr>\n",
       "    <tr>\n",
       "      <th>300</th>\n",
       "      <td>449</td>\n",
       "      <td>Other Non-Transportation Machinery</td>\n",
       "      <td>Other Heavy Earth Moving Machinery and non tra...</td>\n",
       "      <td>5</td>\n",
       "      <td>While a crew of five persons, engaged in measu...</td>\n",
       "    </tr>\n",
       "    <tr>\n",
       "      <th>301</th>\n",
       "      <td>449</td>\n",
       "      <td>Other Non-Transportation Machinery</td>\n",
       "      <td>Other Heavy Earth Moving Machinery and non tra...</td>\n",
       "      <td>5</td>\n",
       "      <td>While operating a pump in an underground coal ...</td>\n",
       "    </tr>\n",
       "  </tbody>\n",
       "</table>\n",
       "<p>302 rows × 5 columns</p>\n",
       "</div>"
      ],
      "text/plain": [
       "     accident_code                       accident_type  \\\n",
       "0              335                             Dumpers   \n",
       "1              335                             Dumpers   \n",
       "2              335                             Dumpers   \n",
       "3              335                             Dumpers   \n",
       "4              335                             Dumpers   \n",
       "..             ...                                 ...   \n",
       "297            449  Other Non-Transportation Machinery   \n",
       "298            449  Other Non-Transportation Machinery   \n",
       "299            449  Other Non-Transportation Machinery   \n",
       "300            449  Other Non-Transportation Machinery   \n",
       "301            449  Other Non-Transportation Machinery   \n",
       "\n",
       "                                      accident_classes  classes_id  \\\n",
       "0                                              Dumpers           0   \n",
       "1                                              Dumpers           0   \n",
       "2                                              Dumpers           0   \n",
       "3                                              Dumpers           0   \n",
       "4                                              Dumpers           0   \n",
       "..                                                 ...         ...   \n",
       "297  Other Heavy Earth Moving Machinery and non tra...           5   \n",
       "298  Other Heavy Earth Moving Machinery and non tra...           5   \n",
       "299  Other Heavy Earth Moving Machinery and non tra...           5   \n",
       "300  Other Heavy Earth Moving Machinery and non tra...           5   \n",
       "301  Other Heavy Earth Moving Machinery and non tra...           5   \n",
       "\n",
       "                                                reason  \n",
       "0    While dumpers were being guided by an official...  \n",
       "1    While a helper of a tipper was removing stop b...  \n",
       "2    While a loaded dumper having a capacity of 85 ...  \n",
       "3    While a loaded dumper having a capacity of 170...  \n",
       "4    While a 35T dumper was being reversed on coal ...  \n",
       "..                                                 ...  \n",
       "297  While a Powered Support was being raised in a ...  \n",
       "298  While a helper had approached in the close pro...  \n",
       "299  While a fan attendant approached near the driv...  \n",
       "300  While a crew of five persons, engaged in measu...  \n",
       "301  While operating a pump in an underground coal ...  \n",
       "\n",
       "[302 rows x 5 columns]"
      ]
     },
     "execution_count": 5,
     "metadata": {},
     "output_type": "execute_result"
    }
   ],
   "source": [
    "df"
   ]
  },
  {
   "cell_type": "code",
   "execution_count": 6,
   "id": "9a812c9d",
   "metadata": {
    "execution": {
     "iopub.execute_input": "2023-02-01T08:42:33.232903Z",
     "iopub.status.busy": "2023-02-01T08:42:33.232061Z",
     "iopub.status.idle": "2023-02-01T08:42:33.237449Z",
     "shell.execute_reply": "2023-02-01T08:42:33.236527Z"
    },
    "papermill": {
     "duration": 0.021199,
     "end_time": "2023-02-01T08:42:33.239458",
     "exception": false,
     "start_time": "2023-02-01T08:42:33.218259",
     "status": "completed"
    },
    "tags": []
   },
   "outputs": [],
   "source": [
    "df=df[['reason','accident_classes']]"
   ]
  },
  {
   "cell_type": "code",
   "execution_count": 7,
   "id": "6b656a9e",
   "metadata": {
    "execution": {
     "iopub.execute_input": "2023-02-01T08:42:33.266494Z",
     "iopub.status.busy": "2023-02-01T08:42:33.265634Z",
     "iopub.status.idle": "2023-02-01T08:42:33.275900Z",
     "shell.execute_reply": "2023-02-01T08:42:33.274897Z"
    },
    "papermill": {
     "duration": 0.025664,
     "end_time": "2023-02-01T08:42:33.277867",
     "exception": false,
     "start_time": "2023-02-01T08:42:33.252203",
     "status": "completed"
    },
    "tags": []
   },
   "outputs": [
    {
     "data": {
      "text/html": [
       "<div>\n",
       "<style scoped>\n",
       "    .dataframe tbody tr th:only-of-type {\n",
       "        vertical-align: middle;\n",
       "    }\n",
       "\n",
       "    .dataframe tbody tr th {\n",
       "        vertical-align: top;\n",
       "    }\n",
       "\n",
       "    .dataframe thead th {\n",
       "        text-align: right;\n",
       "    }\n",
       "</style>\n",
       "<table border=\"1\" class=\"dataframe\">\n",
       "  <thead>\n",
       "    <tr style=\"text-align: right;\">\n",
       "      <th></th>\n",
       "      <th>reason</th>\n",
       "      <th>accident_classes</th>\n",
       "    </tr>\n",
       "  </thead>\n",
       "  <tbody>\n",
       "    <tr>\n",
       "      <th>0</th>\n",
       "      <td>While dumpers were being guided by an official...</td>\n",
       "      <td>Dumpers</td>\n",
       "    </tr>\n",
       "    <tr>\n",
       "      <th>1</th>\n",
       "      <td>While a helper of a tipper was removing stop b...</td>\n",
       "      <td>Dumpers</td>\n",
       "    </tr>\n",
       "    <tr>\n",
       "      <th>2</th>\n",
       "      <td>While a loaded dumper having a capacity of 85 ...</td>\n",
       "      <td>Dumpers</td>\n",
       "    </tr>\n",
       "    <tr>\n",
       "      <th>3</th>\n",
       "      <td>While a loaded dumper having a capacity of 170...</td>\n",
       "      <td>Dumpers</td>\n",
       "    </tr>\n",
       "    <tr>\n",
       "      <th>4</th>\n",
       "      <td>While a 35T dumper was being reversed on coal ...</td>\n",
       "      <td>Dumpers</td>\n",
       "    </tr>\n",
       "    <tr>\n",
       "      <th>...</th>\n",
       "      <td>...</td>\n",
       "      <td>...</td>\n",
       "    </tr>\n",
       "    <tr>\n",
       "      <th>297</th>\n",
       "      <td>While a Powered Support was being raised in a ...</td>\n",
       "      <td>Other Heavy Earth Moving Machinery and non tra...</td>\n",
       "    </tr>\n",
       "    <tr>\n",
       "      <th>298</th>\n",
       "      <td>While a helper had approached in the close pro...</td>\n",
       "      <td>Other Heavy Earth Moving Machinery and non tra...</td>\n",
       "    </tr>\n",
       "    <tr>\n",
       "      <th>299</th>\n",
       "      <td>While a fan attendant approached near the driv...</td>\n",
       "      <td>Other Heavy Earth Moving Machinery and non tra...</td>\n",
       "    </tr>\n",
       "    <tr>\n",
       "      <th>300</th>\n",
       "      <td>While a crew of five persons, engaged in measu...</td>\n",
       "      <td>Other Heavy Earth Moving Machinery and non tra...</td>\n",
       "    </tr>\n",
       "    <tr>\n",
       "      <th>301</th>\n",
       "      <td>While operating a pump in an underground coal ...</td>\n",
       "      <td>Other Heavy Earth Moving Machinery and non tra...</td>\n",
       "    </tr>\n",
       "  </tbody>\n",
       "</table>\n",
       "<p>302 rows × 2 columns</p>\n",
       "</div>"
      ],
      "text/plain": [
       "                                                reason  \\\n",
       "0    While dumpers were being guided by an official...   \n",
       "1    While a helper of a tipper was removing stop b...   \n",
       "2    While a loaded dumper having a capacity of 85 ...   \n",
       "3    While a loaded dumper having a capacity of 170...   \n",
       "4    While a 35T dumper was being reversed on coal ...   \n",
       "..                                                 ...   \n",
       "297  While a Powered Support was being raised in a ...   \n",
       "298  While a helper had approached in the close pro...   \n",
       "299  While a fan attendant approached near the driv...   \n",
       "300  While a crew of five persons, engaged in measu...   \n",
       "301  While operating a pump in an underground coal ...   \n",
       "\n",
       "                                      accident_classes  \n",
       "0                                              Dumpers  \n",
       "1                                              Dumpers  \n",
       "2                                              Dumpers  \n",
       "3                                              Dumpers  \n",
       "4                                              Dumpers  \n",
       "..                                                 ...  \n",
       "297  Other Heavy Earth Moving Machinery and non tra...  \n",
       "298  Other Heavy Earth Moving Machinery and non tra...  \n",
       "299  Other Heavy Earth Moving Machinery and non tra...  \n",
       "300  Other Heavy Earth Moving Machinery and non tra...  \n",
       "301  Other Heavy Earth Moving Machinery and non tra...  \n",
       "\n",
       "[302 rows x 2 columns]"
      ]
     },
     "execution_count": 7,
     "metadata": {},
     "output_type": "execute_result"
    }
   ],
   "source": [
    "df"
   ]
  },
  {
   "cell_type": "code",
   "execution_count": 8,
   "id": "99b9ee6e",
   "metadata": {
    "execution": {
     "iopub.execute_input": "2023-02-01T08:42:33.306098Z",
     "iopub.status.busy": "2023-02-01T08:42:33.305348Z",
     "iopub.status.idle": "2023-02-01T08:42:33.313938Z",
     "shell.execute_reply": "2023-02-01T08:42:33.312875Z"
    },
    "papermill": {
     "duration": 0.025069,
     "end_time": "2023-02-01T08:42:33.316026",
     "exception": false,
     "start_time": "2023-02-01T08:42:33.290957",
     "status": "completed"
    },
    "tags": []
   },
   "outputs": [
    {
     "data": {
      "text/plain": [
       "{'Dumpers': 0,\n",
       " 'Fall of roof_sides_overhangs': 1,\n",
       " 'Wheeled Trackless': 2,\n",
       " 'Loading Machines': 3,\n",
       " 'Fall of Person from Height/into Depth and on same level': 4,\n",
       " 'Other Heavy Earth Moving Machinery and non transportation machinery': 5}"
      ]
     },
     "execution_count": 8,
     "metadata": {},
     "output_type": "execute_result"
    }
   ],
   "source": [
    "possible_labels = df.accident_classes.unique()\n",
    "\n",
    "label_dict = {}\n",
    "for index, possible_label in enumerate(possible_labels):\n",
    "    label_dict[possible_label] = index\n",
    "label_dict"
   ]
  },
  {
   "cell_type": "code",
   "execution_count": 9,
   "id": "e48e143b",
   "metadata": {
    "execution": {
     "iopub.execute_input": "2023-02-01T08:42:33.344351Z",
     "iopub.status.busy": "2023-02-01T08:42:33.343501Z",
     "iopub.status.idle": "2023-02-01T08:42:33.351636Z",
     "shell.execute_reply": "2023-02-01T08:42:33.350001Z"
    },
    "papermill": {
     "duration": 0.024542,
     "end_time": "2023-02-01T08:42:33.354137",
     "exception": false,
     "start_time": "2023-02-01T08:42:33.329595",
     "status": "completed"
    },
    "tags": []
   },
   "outputs": [
    {
     "name": "stderr",
     "output_type": "stream",
     "text": [
      "/opt/conda/lib/python3.7/site-packages/ipykernel_launcher.py:1: SettingWithCopyWarning: \n",
      "A value is trying to be set on a copy of a slice from a DataFrame.\n",
      "Try using .loc[row_indexer,col_indexer] = value instead\n",
      "\n",
      "See the caveats in the documentation: https://pandas.pydata.org/pandas-docs/stable/user_guide/indexing.html#returning-a-view-versus-a-copy\n",
      "  \"\"\"Entry point for launching an IPython kernel.\n"
     ]
    }
   ],
   "source": [
    "df['label'] = df.accident_classes.replace(label_dict)"
   ]
  },
  {
   "cell_type": "code",
   "execution_count": 10,
   "id": "a0919e47",
   "metadata": {
    "execution": {
     "iopub.execute_input": "2023-02-01T08:42:33.382944Z",
     "iopub.status.busy": "2023-02-01T08:42:33.382062Z",
     "iopub.status.idle": "2023-02-01T08:42:33.391319Z",
     "shell.execute_reply": "2023-02-01T08:42:33.390335Z"
    },
    "papermill": {
     "duration": 0.025329,
     "end_time": "2023-02-01T08:42:33.393252",
     "exception": false,
     "start_time": "2023-02-01T08:42:33.367923",
     "status": "completed"
    },
    "tags": []
   },
   "outputs": [
    {
     "data": {
      "text/html": [
       "<div>\n",
       "<style scoped>\n",
       "    .dataframe tbody tr th:only-of-type {\n",
       "        vertical-align: middle;\n",
       "    }\n",
       "\n",
       "    .dataframe tbody tr th {\n",
       "        vertical-align: top;\n",
       "    }\n",
       "\n",
       "    .dataframe thead th {\n",
       "        text-align: right;\n",
       "    }\n",
       "</style>\n",
       "<table border=\"1\" class=\"dataframe\">\n",
       "  <thead>\n",
       "    <tr style=\"text-align: right;\">\n",
       "      <th></th>\n",
       "      <th>reason</th>\n",
       "      <th>accident_classes</th>\n",
       "      <th>label</th>\n",
       "    </tr>\n",
       "  </thead>\n",
       "  <tbody>\n",
       "    <tr>\n",
       "      <th>0</th>\n",
       "      <td>While dumpers were being guided by an official...</td>\n",
       "      <td>Dumpers</td>\n",
       "      <td>0</td>\n",
       "    </tr>\n",
       "    <tr>\n",
       "      <th>1</th>\n",
       "      <td>While a helper of a tipper was removing stop b...</td>\n",
       "      <td>Dumpers</td>\n",
       "      <td>0</td>\n",
       "    </tr>\n",
       "    <tr>\n",
       "      <th>2</th>\n",
       "      <td>While a loaded dumper having a capacity of 85 ...</td>\n",
       "      <td>Dumpers</td>\n",
       "      <td>0</td>\n",
       "    </tr>\n",
       "    <tr>\n",
       "      <th>3</th>\n",
       "      <td>While a loaded dumper having a capacity of 170...</td>\n",
       "      <td>Dumpers</td>\n",
       "      <td>0</td>\n",
       "    </tr>\n",
       "    <tr>\n",
       "      <th>4</th>\n",
       "      <td>While a 35T dumper was being reversed on coal ...</td>\n",
       "      <td>Dumpers</td>\n",
       "      <td>0</td>\n",
       "    </tr>\n",
       "  </tbody>\n",
       "</table>\n",
       "</div>"
      ],
      "text/plain": [
       "                                              reason accident_classes  label\n",
       "0  While dumpers were being guided by an official...          Dumpers      0\n",
       "1  While a helper of a tipper was removing stop b...          Dumpers      0\n",
       "2  While a loaded dumper having a capacity of 85 ...          Dumpers      0\n",
       "3  While a loaded dumper having a capacity of 170...          Dumpers      0\n",
       "4  While a 35T dumper was being reversed on coal ...          Dumpers      0"
      ]
     },
     "execution_count": 10,
     "metadata": {},
     "output_type": "execute_result"
    }
   ],
   "source": [
    "df.head()"
   ]
  },
  {
   "cell_type": "code",
   "execution_count": 11,
   "id": "fedc2bce",
   "metadata": {
    "execution": {
     "iopub.execute_input": "2023-02-01T08:42:33.421921Z",
     "iopub.status.busy": "2023-02-01T08:42:33.421636Z",
     "iopub.status.idle": "2023-02-01T08:42:34.309361Z",
     "shell.execute_reply": "2023-02-01T08:42:34.308285Z"
    },
    "papermill": {
     "duration": 0.905035,
     "end_time": "2023-02-01T08:42:34.312396",
     "exception": false,
     "start_time": "2023-02-01T08:42:33.407361",
     "status": "completed"
    },
    "tags": []
   },
   "outputs": [],
   "source": [
    "# from sklearn.model_selection import train_test_split\n",
    "\n",
    "# X_train, X_val, y_train, y_val = train_test_split(df.index.values, \n",
    "#                                                   df.label.values, \n",
    "#                                                   test_size=0.15, \n",
    "#                                                   random_state=42,\n",
    "#                                                   stratify=df.label.values\n",
    "#                                                   )\n",
    "from sklearn.model_selection import KFold\n",
    "\n",
    "# Define the number of folds\n",
    "kf = KFold(n_splits=5, shuffle=True, random_state=42)\n",
    "\n",
    "# Split the data into folds\n",
    "for train_index, val_index in kf.split(df):\n",
    "    X_train, X_val = df.index.values[train_index], df.index.values[val_index]\n",
    "    y_train, y_val = df.label.values[train_index], df.label.values[val_index]"
   ]
  },
  {
   "cell_type": "code",
   "execution_count": 12,
   "id": "5b784262",
   "metadata": {
    "execution": {
     "iopub.execute_input": "2023-02-01T08:42:34.343790Z",
     "iopub.status.busy": "2023-02-01T08:42:34.342284Z",
     "iopub.status.idle": "2023-02-01T08:42:34.354172Z",
     "shell.execute_reply": "2023-02-01T08:42:34.352467Z"
    },
    "papermill": {
     "duration": 0.028615,
     "end_time": "2023-02-01T08:42:34.356329",
     "exception": false,
     "start_time": "2023-02-01T08:42:34.327714",
     "status": "completed"
    },
    "tags": []
   },
   "outputs": [
    {
     "name": "stderr",
     "output_type": "stream",
     "text": [
      "/opt/conda/lib/python3.7/site-packages/ipykernel_launcher.py:1: SettingWithCopyWarning: \n",
      "A value is trying to be set on a copy of a slice from a DataFrame.\n",
      "Try using .loc[row_indexer,col_indexer] = value instead\n",
      "\n",
      "See the caveats in the documentation: https://pandas.pydata.org/pandas-docs/stable/user_guide/indexing.html#returning-a-view-versus-a-copy\n",
      "  \"\"\"Entry point for launching an IPython kernel.\n",
      "/opt/conda/lib/python3.7/site-packages/pandas/core/indexing.py:1817: SettingWithCopyWarning: \n",
      "A value is trying to be set on a copy of a slice from a DataFrame.\n",
      "Try using .loc[row_indexer,col_indexer] = value instead\n",
      "\n",
      "See the caveats in the documentation: https://pandas.pydata.org/pandas-docs/stable/user_guide/indexing.html#returning-a-view-versus-a-copy\n",
      "  self._setitem_single_column(loc, value, pi)\n"
     ]
    }
   ],
   "source": [
    "df['data_type'] = ['not_set']*df.shape[0]\n",
    "\n",
    "df.loc[X_train, 'data_type'] = 'train'\n",
    "df.loc[X_val, 'data_type'] = 'val'"
   ]
  },
  {
   "cell_type": "code",
   "execution_count": 13,
   "id": "7598cd64",
   "metadata": {
    "execution": {
     "iopub.execute_input": "2023-02-01T08:42:34.386525Z",
     "iopub.status.busy": "2023-02-01T08:42:34.385608Z",
     "iopub.status.idle": "2023-02-01T08:42:34.400655Z",
     "shell.execute_reply": "2023-02-01T08:42:34.399591Z"
    },
    "papermill": {
     "duration": 0.031802,
     "end_time": "2023-02-01T08:42:34.402889",
     "exception": false,
     "start_time": "2023-02-01T08:42:34.371087",
     "status": "completed"
    },
    "tags": []
   },
   "outputs": [
    {
     "data": {
      "text/html": [
       "<div>\n",
       "<style scoped>\n",
       "    .dataframe tbody tr th:only-of-type {\n",
       "        vertical-align: middle;\n",
       "    }\n",
       "\n",
       "    .dataframe tbody tr th {\n",
       "        vertical-align: top;\n",
       "    }\n",
       "\n",
       "    .dataframe thead th {\n",
       "        text-align: right;\n",
       "    }\n",
       "</style>\n",
       "<table border=\"1\" class=\"dataframe\">\n",
       "  <thead>\n",
       "    <tr style=\"text-align: right;\">\n",
       "      <th></th>\n",
       "      <th></th>\n",
       "      <th></th>\n",
       "      <th>reason</th>\n",
       "    </tr>\n",
       "    <tr>\n",
       "      <th>accident_classes</th>\n",
       "      <th>label</th>\n",
       "      <th>data_type</th>\n",
       "      <th></th>\n",
       "    </tr>\n",
       "  </thead>\n",
       "  <tbody>\n",
       "    <tr>\n",
       "      <th rowspan=\"2\" valign=\"top\">Dumpers</th>\n",
       "      <th rowspan=\"2\" valign=\"top\">0</th>\n",
       "      <th>train</th>\n",
       "      <td>92</td>\n",
       "    </tr>\n",
       "    <tr>\n",
       "      <th>val</th>\n",
       "      <td>24</td>\n",
       "    </tr>\n",
       "    <tr>\n",
       "      <th rowspan=\"2\" valign=\"top\">Fall of Person from Height/into Depth and on same level</th>\n",
       "      <th rowspan=\"2\" valign=\"top\">4</th>\n",
       "      <th>train</th>\n",
       "      <td>24</td>\n",
       "    </tr>\n",
       "    <tr>\n",
       "      <th>val</th>\n",
       "      <td>5</td>\n",
       "    </tr>\n",
       "    <tr>\n",
       "      <th rowspan=\"2\" valign=\"top\">Fall of roof_sides_overhangs</th>\n",
       "      <th rowspan=\"2\" valign=\"top\">1</th>\n",
       "      <th>train</th>\n",
       "      <td>60</td>\n",
       "    </tr>\n",
       "    <tr>\n",
       "      <th>val</th>\n",
       "      <td>16</td>\n",
       "    </tr>\n",
       "    <tr>\n",
       "      <th rowspan=\"2\" valign=\"top\">Loading Machines</th>\n",
       "      <th rowspan=\"2\" valign=\"top\">3</th>\n",
       "      <th>train</th>\n",
       "      <td>20</td>\n",
       "    </tr>\n",
       "    <tr>\n",
       "      <th>val</th>\n",
       "      <td>4</td>\n",
       "    </tr>\n",
       "    <tr>\n",
       "      <th rowspan=\"2\" valign=\"top\">Other Heavy Earth Moving Machinery and non transportation machinery</th>\n",
       "      <th rowspan=\"2\" valign=\"top\">5</th>\n",
       "      <th>train</th>\n",
       "      <td>21</td>\n",
       "    </tr>\n",
       "    <tr>\n",
       "      <th>val</th>\n",
       "      <td>6</td>\n",
       "    </tr>\n",
       "    <tr>\n",
       "      <th rowspan=\"2\" valign=\"top\">Wheeled Trackless</th>\n",
       "      <th rowspan=\"2\" valign=\"top\">2</th>\n",
       "      <th>train</th>\n",
       "      <td>25</td>\n",
       "    </tr>\n",
       "    <tr>\n",
       "      <th>val</th>\n",
       "      <td>5</td>\n",
       "    </tr>\n",
       "  </tbody>\n",
       "</table>\n",
       "</div>"
      ],
      "text/plain": [
       "                                                                    reason\n",
       "accident_classes                                   label data_type        \n",
       "Dumpers                                            0     train          92\n",
       "                                                         val            24\n",
       "Fall of Person from Height/into Depth and on sa... 4     train          24\n",
       "                                                         val             5\n",
       "Fall of roof_sides_overhangs                       1     train          60\n",
       "                                                         val            16\n",
       "Loading Machines                                   3     train          20\n",
       "                                                         val             4\n",
       "Other Heavy Earth Moving Machinery and non tran... 5     train          21\n",
       "                                                         val             6\n",
       "Wheeled Trackless                                  2     train          25\n",
       "                                                         val             5"
      ]
     },
     "execution_count": 13,
     "metadata": {},
     "output_type": "execute_result"
    }
   ],
   "source": [
    "df.groupby(['accident_classes', 'label', 'data_type']).count()"
   ]
  },
  {
   "cell_type": "code",
   "execution_count": 14,
   "id": "b6e0e853",
   "metadata": {
    "execution": {
     "iopub.execute_input": "2023-02-01T08:42:34.434634Z",
     "iopub.status.busy": "2023-02-01T08:42:34.433567Z",
     "iopub.status.idle": "2023-02-01T08:42:37.809325Z",
     "shell.execute_reply": "2023-02-01T08:42:37.808404Z"
    },
    "papermill": {
     "duration": 3.393418,
     "end_time": "2023-02-01T08:42:37.811464",
     "exception": false,
     "start_time": "2023-02-01T08:42:34.418046",
     "status": "completed"
    },
    "tags": []
   },
   "outputs": [
    {
     "data": {
      "application/vnd.jupyter.widget-view+json": {
       "model_id": "0f7607e85d4544dfb34941cba4b68044",
       "version_major": 2,
       "version_minor": 0
      },
      "text/plain": [
       "Downloading:   0%|          | 0.00/226k [00:00<?, ?B/s]"
      ]
     },
     "metadata": {},
     "output_type": "display_data"
    },
    {
     "data": {
      "application/vnd.jupyter.widget-view+json": {
       "model_id": "67263766b58847a78325566052e31dff",
       "version_major": 2,
       "version_minor": 0
      },
      "text/plain": [
       "Downloading:   0%|          | 0.00/28.0 [00:00<?, ?B/s]"
      ]
     },
     "metadata": {},
     "output_type": "display_data"
    },
    {
     "data": {
      "application/vnd.jupyter.widget-view+json": {
       "model_id": "749ca90a7f2f46a0ab2ec554cad4c49c",
       "version_major": 2,
       "version_minor": 0
      },
      "text/plain": [
       "Downloading:   0%|          | 0.00/570 [00:00<?, ?B/s]"
      ]
     },
     "metadata": {},
     "output_type": "display_data"
    }
   ],
   "source": [
    "tokenizer = BertTokenizer.from_pretrained('bert-base-uncased', \n",
    "                                          do_lower_case=True)"
   ]
  },
  {
   "cell_type": "markdown",
   "id": "7a548415",
   "metadata": {
    "papermill": {
     "duration": 0.014472,
     "end_time": "2023-02-01T08:42:37.840451",
     "exception": false,
     "start_time": "2023-02-01T08:42:37.825979",
     "status": "completed"
    },
    "tags": []
   },
   "source": [
    "This code is using the BertTokenizer to tokenize and encode the training and validation text data. The batch_encode_plus method is being used to process the text data in batches. The text data is stored in the 'reason' column of the dataframe df, and the method is only selecting the rows where the 'data_type' column is 'train' for the training data and 'val' for the validation data.\n",
    "\n",
    "The method is also being passed several parameters:\n",
    "\n",
    "add_special_tokens is set to True, which adds special tokens to the beginning and end of the encoded text to indicate the start and end of the sentence.\n",
    "return_attention_mask is set to True, which returns a binary mask indicating which tokens are padding and which are not.\n",
    "pad_to_max_length is set to True, which pads the encoded text to a maximum length of 256 tokens.\n",
    "max_length is set to 256, which is the maximum length of the encoded text.\n",
    "return_tensors is set to 'pt', which returns the encoded text as PyTorch tensors.\n",
    "After encoding the data, the code creates several variables to store the encoded data:\n",
    "\n",
    "input_ids_train and input_ids_val store the input ids for the training and validation data.\n",
    "attention_masks_train and attention_masks_val store the attention masks for the training and validation data.\n",
    "labels_train and labels_val store the labels for the training and validation data. The labels are converted to PyTorch tensors using the torch.tensor method.\n",
    "\n",
    "\n",
    "\n"
   ]
  },
  {
   "cell_type": "code",
   "execution_count": 15,
   "id": "0a13304c",
   "metadata": {
    "execution": {
     "iopub.execute_input": "2023-02-01T08:42:37.871447Z",
     "iopub.status.busy": "2023-02-01T08:42:37.870618Z",
     "iopub.status.idle": "2023-02-01T08:42:38.406165Z",
     "shell.execute_reply": "2023-02-01T08:42:38.404934Z"
    },
    "papermill": {
     "duration": 0.55409,
     "end_time": "2023-02-01T08:42:38.409088",
     "exception": false,
     "start_time": "2023-02-01T08:42:37.854998",
     "status": "completed"
    },
    "tags": []
   },
   "outputs": [
    {
     "name": "stderr",
     "output_type": "stream",
     "text": [
      "Truncation was not explicitly activated but `max_length` is provided a specific value, please use `truncation=True` to explicitly truncate examples to max length. Defaulting to 'longest_first' truncation strategy. If you encode pairs of sequences (GLUE-style) with the tokenizer you can select this strategy more precisely by providing a specific strategy to `truncation`.\n",
      "/opt/conda/lib/python3.7/site-packages/transformers/tokenization_utils_base.py:2307: FutureWarning: The `pad_to_max_length` argument is deprecated and will be removed in a future version, use `padding=True` or `padding='longest'` to pad to the longest sequence in the batch, or use `padding='max_length'` to pad to a max length. In this case, you can give a specific length with `max_length` (e.g. `max_length=45`) or leave max_length to None to pad to the maximal input size of the model (e.g. 512 for Bert).\n",
      "  FutureWarning,\n"
     ]
    }
   ],
   "source": [
    "encoded_data_train = tokenizer.batch_encode_plus(\n",
    "    df[df.data_type=='train'].reason.values, \n",
    "    add_special_tokens=True, \n",
    "    return_attention_mask=True, \n",
    "    pad_to_max_length=True, \n",
    "    max_length=256, \n",
    "    return_tensors='pt'\n",
    ")\n",
    "\n",
    "encoded_data_val = tokenizer.batch_encode_plus(\n",
    "    df[df.data_type=='val'].reason.values, \n",
    "    add_special_tokens=True, \n",
    "    return_attention_mask=True, \n",
    "    pad_to_max_length=True, \n",
    "    max_length=256, \n",
    "    return_tensors='pt'\n",
    ")\n",
    "\n",
    "\n",
    "input_ids_train = encoded_data_train['input_ids']\n",
    "attention_masks_train = encoded_data_train['attention_mask']\n",
    "labels_train = torch.tensor(df[df.data_type=='train'].label.values)\n",
    "\n",
    "input_ids_val = encoded_data_val['input_ids']\n",
    "attention_masks_val = encoded_data_val['attention_mask']\n",
    "labels_val = torch.tensor(df[df.data_type=='val'].label.values)"
   ]
  },
  {
   "cell_type": "code",
   "execution_count": 16,
   "id": "e11558a4",
   "metadata": {
    "execution": {
     "iopub.execute_input": "2023-02-01T08:42:38.440823Z",
     "iopub.status.busy": "2023-02-01T08:42:38.440507Z",
     "iopub.status.idle": "2023-02-01T08:42:38.444982Z",
     "shell.execute_reply": "2023-02-01T08:42:38.444011Z"
    },
    "papermill": {
     "duration": 0.022617,
     "end_time": "2023-02-01T08:42:38.447248",
     "exception": false,
     "start_time": "2023-02-01T08:42:38.424631",
     "status": "completed"
    },
    "tags": []
   },
   "outputs": [],
   "source": [
    "dataset_train = TensorDataset(input_ids_train, attention_masks_train, labels_train)\n",
    "dataset_val = TensorDataset(input_ids_val, attention_masks_val, labels_val)"
   ]
  },
  {
   "cell_type": "code",
   "execution_count": 17,
   "id": "5397cc68",
   "metadata": {
    "execution": {
     "iopub.execute_input": "2023-02-01T08:42:38.478009Z",
     "iopub.status.busy": "2023-02-01T08:42:38.477722Z",
     "iopub.status.idle": "2023-02-01T08:42:38.483751Z",
     "shell.execute_reply": "2023-02-01T08:42:38.482596Z"
    },
    "papermill": {
     "duration": 0.024191,
     "end_time": "2023-02-01T08:42:38.485803",
     "exception": false,
     "start_time": "2023-02-01T08:42:38.461612",
     "status": "completed"
    },
    "tags": []
   },
   "outputs": [
    {
     "data": {
      "text/plain": [
       "(242, 60)"
      ]
     },
     "execution_count": 17,
     "metadata": {},
     "output_type": "execute_result"
    }
   ],
   "source": [
    "len(dataset_train), len(dataset_val)"
   ]
  },
  {
   "cell_type": "code",
   "execution_count": 18,
   "id": "e96099d5",
   "metadata": {
    "execution": {
     "iopub.execute_input": "2023-02-01T08:42:38.515558Z",
     "iopub.status.busy": "2023-02-01T08:42:38.514835Z",
     "iopub.status.idle": "2023-02-01T08:42:56.710237Z",
     "shell.execute_reply": "2023-02-01T08:42:56.709060Z"
    },
    "papermill": {
     "duration": 18.213057,
     "end_time": "2023-02-01T08:42:56.712765",
     "exception": false,
     "start_time": "2023-02-01T08:42:38.499708",
     "status": "completed"
    },
    "tags": []
   },
   "outputs": [
    {
     "data": {
      "application/vnd.jupyter.widget-view+json": {
       "model_id": "a48a554169e44c1c9d753f6a7db48e56",
       "version_major": 2,
       "version_minor": 0
      },
      "text/plain": [
       "Downloading:   0%|          | 0.00/420M [00:00<?, ?B/s]"
      ]
     },
     "metadata": {},
     "output_type": "display_data"
    },
    {
     "name": "stderr",
     "output_type": "stream",
     "text": [
      "Some weights of the model checkpoint at bert-base-uncased were not used when initializing BertForSequenceClassification: ['cls.predictions.transform.dense.weight', 'cls.predictions.decoder.weight', 'cls.predictions.transform.LayerNorm.weight', 'cls.seq_relationship.bias', 'cls.predictions.bias', 'cls.seq_relationship.weight', 'cls.predictions.transform.LayerNorm.bias', 'cls.predictions.transform.dense.bias']\n",
      "- This IS expected if you are initializing BertForSequenceClassification from the checkpoint of a model trained on another task or with another architecture (e.g. initializing a BertForSequenceClassification model from a BertForPreTraining model).\n",
      "- This IS NOT expected if you are initializing BertForSequenceClassification from the checkpoint of a model that you expect to be exactly identical (initializing a BertForSequenceClassification model from a BertForSequenceClassification model).\n",
      "Some weights of BertForSequenceClassification were not initialized from the model checkpoint at bert-base-uncased and are newly initialized: ['classifier.weight', 'classifier.bias']\n",
      "You should probably TRAIN this model on a down-stream task to be able to use it for predictions and inference.\n"
     ]
    }
   ],
   "source": [
    "model = BertForSequenceClassification.from_pretrained(\"bert-base-uncased\",\n",
    "                                                      num_labels=len(label_dict),\n",
    "                                                      output_attentions=False,\n",
    "                                                      output_hidden_states=False)"
   ]
  },
  {
   "cell_type": "markdown",
   "id": "7e853fe7",
   "metadata": {
    "papermill": {
     "duration": 0.014202,
     "end_time": "2023-02-01T08:42:56.742507",
     "exception": false,
     "start_time": "2023-02-01T08:42:56.728305",
     "status": "completed"
    },
    "tags": []
   },
   "source": [
    "****This code creates two data loaders, one for the training data and one for the validation data, using the DataLoader class from PyTorch's torch.utils.data library. The data loaders allow the data to be fed into the model in small batches.\n",
    "\n",
    "**The first data loader, dataloader_train, is created using the dataset_train variable, and it's passed a RandomSampler object and a batch size of 3. The RandomSampler is used to randomly select samples from the dataset for each iteration.\n",
    "\n",
    "**The second data loader, dataloader_validation, is created using the dataset_val variable, and it's passed a SequentialSampler object and a batch size of 3. The SequentialSampler is used to select samples from the dataset in a sequential order, one after the other, for each iteration.\n",
    "**\n",
    "Both data loaders will be used to iterate over the data during training and validation phases.******"
   ]
  },
  {
   "cell_type": "code",
   "execution_count": 19,
   "id": "db408fed",
   "metadata": {
    "execution": {
     "iopub.execute_input": "2023-02-01T08:42:56.773932Z",
     "iopub.status.busy": "2023-02-01T08:42:56.772756Z",
     "iopub.status.idle": "2023-02-01T08:42:56.779261Z",
     "shell.execute_reply": "2023-02-01T08:42:56.778365Z"
    },
    "papermill": {
     "duration": 0.024219,
     "end_time": "2023-02-01T08:42:56.781276",
     "exception": false,
     "start_time": "2023-02-01T08:42:56.757057",
     "status": "completed"
    },
    "tags": []
   },
   "outputs": [],
   "source": [
    "from torch.utils.data import DataLoader, RandomSampler, SequentialSampler\n",
    "\n",
    "batch_size = 3\n",
    "\n",
    "dataloader_train = DataLoader(dataset_train, \n",
    "                              sampler=RandomSampler(dataset_train), \n",
    "                              batch_size=batch_size)\n",
    "\n",
    "dataloader_validation = DataLoader(dataset_val, \n",
    "                                   sampler=SequentialSampler(dataset_val), \n",
    "                                   batch_size=batch_size)"
   ]
  },
  {
   "cell_type": "code",
   "execution_count": 20,
   "id": "712c4cbf",
   "metadata": {
    "execution": {
     "iopub.execute_input": "2023-02-01T08:42:56.812137Z",
     "iopub.status.busy": "2023-02-01T08:42:56.811246Z",
     "iopub.status.idle": "2023-02-01T08:43:01.355023Z",
     "shell.execute_reply": "2023-02-01T08:43:01.353835Z"
    },
    "papermill": {
     "duration": 4.56247,
     "end_time": "2023-02-01T08:43:01.358401",
     "exception": false,
     "start_time": "2023-02-01T08:42:56.795931",
     "status": "completed"
    },
    "tags": []
   },
   "outputs": [
    {
     "name": "stderr",
     "output_type": "stream",
     "text": [
      "/opt/conda/lib/python3.7/site-packages/transformers/optimization.py:310: FutureWarning: This implementation of AdamW is deprecated and will be removed in a future version. Use the PyTorch implementation torch.optim.AdamW instead, or set `no_deprecation_warning=True` to disable this warning\n",
      "  FutureWarning,\n"
     ]
    }
   ],
   "source": [
    "from transformers import AdamW, get_linear_schedule_with_warmup\n",
    "\n",
    "optimizer = AdamW(model.parameters(),\n",
    "                  lr=5e-5, \n",
    "                  eps=1e-8)"
   ]
  },
  {
   "cell_type": "code",
   "execution_count": 21,
   "id": "b773328e",
   "metadata": {
    "execution": {
     "iopub.execute_input": "2023-02-01T08:43:01.391561Z",
     "iopub.status.busy": "2023-02-01T08:43:01.391199Z",
     "iopub.status.idle": "2023-02-01T08:43:01.396478Z",
     "shell.execute_reply": "2023-02-01T08:43:01.395322Z"
    },
    "papermill": {
     "duration": 0.023617,
     "end_time": "2023-02-01T08:43:01.398728",
     "exception": false,
     "start_time": "2023-02-01T08:43:01.375111",
     "status": "completed"
    },
    "tags": []
   },
   "outputs": [],
   "source": [
    "epochs = 10\n",
    "\n",
    "scheduler = get_linear_schedule_with_warmup(optimizer, \n",
    "                                            num_warmup_steps=0,\n",
    "                                            num_training_steps=len(dataloader_train)*epochs)"
   ]
  },
  {
   "cell_type": "code",
   "execution_count": 22,
   "id": "00121bbf",
   "metadata": {
    "execution": {
     "iopub.execute_input": "2023-02-01T08:43:01.432997Z",
     "iopub.status.busy": "2023-02-01T08:43:01.432049Z",
     "iopub.status.idle": "2023-02-01T08:43:01.440618Z",
     "shell.execute_reply": "2023-02-01T08:43:01.439641Z"
    },
    "papermill": {
     "duration": 0.02792,
     "end_time": "2023-02-01T08:43:01.442731",
     "exception": false,
     "start_time": "2023-02-01T08:43:01.414811",
     "status": "completed"
    },
    "tags": []
   },
   "outputs": [],
   "source": [
    "from sklearn.metrics import f1_score\n",
    "\n",
    "def f1_score_func(preds, labels):\n",
    "    preds_flat = np.argmax(preds, axis=1).flatten()\n",
    "    labels_flat = labels.flatten()\n",
    "    return f1_score(labels_flat, preds_flat, average='weighted')\n",
    "\n",
    "def accuracy_per_class(preds, labels):\n",
    "    label_dict_inverse = {v: k for k, v in label_dict.items()}\n",
    "    \n",
    "    preds_flat = np.argmax(preds, axis=1).flatten()\n",
    "    labels_flat = labels.flatten()\n",
    "\n",
    "    for label in np.unique(labels_flat):\n",
    "        y_preds = preds_flat[labels_flat==label]\n",
    "        y_true = labels_flat[labels_flat==label]\n",
    "        print(f'Class: {label_dict_inverse[label]}')\n",
    "        print(f'Accuracy: {len(y_preds[y_preds==label])}/{len(y_true)}\\n')"
   ]
  },
  {
   "cell_type": "code",
   "execution_count": 23,
   "id": "9c7f35eb",
   "metadata": {
    "execution": {
     "iopub.execute_input": "2023-02-01T08:43:01.478079Z",
     "iopub.status.busy": "2023-02-01T08:43:01.477256Z",
     "iopub.status.idle": "2023-02-01T08:43:01.482884Z",
     "shell.execute_reply": "2023-02-01T08:43:01.481988Z"
    },
    "papermill": {
     "duration": 0.026868,
     "end_time": "2023-02-01T08:43:01.485192",
     "exception": false,
     "start_time": "2023-02-01T08:43:01.458324",
     "status": "completed"
    },
    "tags": []
   },
   "outputs": [],
   "source": [
    "import numpy as np"
   ]
  },
  {
   "cell_type": "code",
   "execution_count": 24,
   "id": "726ee5fa",
   "metadata": {
    "execution": {
     "iopub.execute_input": "2023-02-01T08:43:01.516918Z",
     "iopub.status.busy": "2023-02-01T08:43:01.516626Z",
     "iopub.status.idle": "2023-02-01T08:43:01.524322Z",
     "shell.execute_reply": "2023-02-01T08:43:01.523438Z"
    },
    "papermill": {
     "duration": 0.026103,
     "end_time": "2023-02-01T08:43:01.526386",
     "exception": false,
     "start_time": "2023-02-01T08:43:01.500283",
     "status": "completed"
    },
    "tags": []
   },
   "outputs": [],
   "source": [
    "import random\n",
    "\n",
    "seed_val = 17\n",
    "random.seed(seed_val)\n",
    "np.random.seed(seed_val)\n",
    "torch.manual_seed(seed_val)\n",
    "torch.cuda.manual_seed_all(seed_val)"
   ]
  },
  {
   "cell_type": "code",
   "execution_count": 25,
   "id": "3b61d337",
   "metadata": {
    "execution": {
     "iopub.execute_input": "2023-02-01T08:43:01.557781Z",
     "iopub.status.busy": "2023-02-01T08:43:01.557100Z",
     "iopub.status.idle": "2023-02-01T08:43:06.970807Z",
     "shell.execute_reply": "2023-02-01T08:43:06.969793Z"
    },
    "papermill": {
     "duration": 5.432259,
     "end_time": "2023-02-01T08:43:06.973346",
     "exception": false,
     "start_time": "2023-02-01T08:43:01.541087",
     "status": "completed"
    },
    "tags": []
   },
   "outputs": [
    {
     "name": "stdout",
     "output_type": "stream",
     "text": [
      "cuda\n"
     ]
    }
   ],
   "source": [
    "device = torch.device('cuda' if torch.cuda.is_available() else 'cpu')\n",
    "model.to(device)\n",
    "\n",
    "print(device)"
   ]
  },
  {
   "cell_type": "code",
   "execution_count": 26,
   "id": "0e02c9ea",
   "metadata": {
    "execution": {
     "iopub.execute_input": "2023-02-01T08:43:07.005707Z",
     "iopub.status.busy": "2023-02-01T08:43:07.004772Z",
     "iopub.status.idle": "2023-02-01T08:43:07.014052Z",
     "shell.execute_reply": "2023-02-01T08:43:07.013003Z"
    },
    "papermill": {
     "duration": 0.027761,
     "end_time": "2023-02-01T08:43:07.016240",
     "exception": false,
     "start_time": "2023-02-01T08:43:06.988479",
     "status": "completed"
    },
    "tags": []
   },
   "outputs": [],
   "source": [
    "def evaluate(dataloader_val):\n",
    "\n",
    "    model.eval()\n",
    "    \n",
    "    loss_val_total = 0\n",
    "    predictions, true_vals = [], []\n",
    "    \n",
    "    for batch in dataloader_val:\n",
    "        \n",
    "        batch = tuple(b.to(device) for b in batch)\n",
    "        \n",
    "        inputs = {'input_ids':      batch[0],\n",
    "                  'attention_mask': batch[1],\n",
    "                  'labels':         batch[2],\n",
    "                 }\n",
    "\n",
    "        with torch.no_grad():        \n",
    "            outputs = model(**inputs)\n",
    "            \n",
    "        loss = outputs[0]\n",
    "        logits = outputs[1]\n",
    "        loss_val_total += loss.item()\n",
    "\n",
    "        logits = logits.detach().cpu().numpy()\n",
    "        label_ids = inputs['labels'].cpu().numpy()\n",
    "        predictions.append(logits)\n",
    "        true_vals.append(label_ids)\n",
    "    \n",
    "    loss_val_avg = loss_val_total/len(dataloader_val) \n",
    "    \n",
    "    predictions = np.concatenate(predictions, axis=0)\n",
    "    true_vals = np.concatenate(true_vals, axis=0)\n",
    "            \n",
    "    return loss_val_avg, predictions, true_vals"
   ]
  },
  {
   "cell_type": "code",
   "execution_count": 27,
   "id": "a7332975",
   "metadata": {
    "execution": {
     "iopub.execute_input": "2023-02-01T08:43:07.049335Z",
     "iopub.status.busy": "2023-02-01T08:43:07.048755Z",
     "iopub.status.idle": "2023-02-01T08:43:07.054536Z",
     "shell.execute_reply": "2023-02-01T08:43:07.053497Z"
    },
    "papermill": {
     "duration": 0.025009,
     "end_time": "2023-02-01T08:43:07.056613",
     "exception": false,
     "start_time": "2023-02-01T08:43:07.031604",
     "status": "completed"
    },
    "tags": []
   },
   "outputs": [],
   "source": [
    "import os\n",
    "\n",
    "output_dir = 'data_volume'\n",
    "if not os.path.exists(output_dir):\n",
    "    os.makedirs(output_dir)\n"
   ]
  },
  {
   "cell_type": "code",
   "execution_count": 28,
   "id": "bd386c8c",
   "metadata": {
    "execution": {
     "iopub.execute_input": "2023-02-01T08:43:07.087541Z",
     "iopub.status.busy": "2023-02-01T08:43:07.086754Z",
     "iopub.status.idle": "2023-02-01T08:43:07.091330Z",
     "shell.execute_reply": "2023-02-01T08:43:07.090363Z"
    },
    "papermill": {
     "duration": 0.022272,
     "end_time": "2023-02-01T08:43:07.093326",
     "exception": false,
     "start_time": "2023-02-01T08:43:07.071054",
     "status": "completed"
    },
    "tags": []
   },
   "outputs": [],
   "source": [
    "\n",
    "from sklearn.metrics import f1_score"
   ]
  },
  {
   "cell_type": "code",
   "execution_count": 29,
   "id": "88995168",
   "metadata": {
    "execution": {
     "iopub.execute_input": "2023-02-01T08:43:07.123492Z",
     "iopub.status.busy": "2023-02-01T08:43:07.123229Z",
     "iopub.status.idle": "2023-02-01T08:43:07.127578Z",
     "shell.execute_reply": "2023-02-01T08:43:07.126418Z"
    },
    "papermill": {
     "duration": 0.022176,
     "end_time": "2023-02-01T08:43:07.129904",
     "exception": false,
     "start_time": "2023-02-01T08:43:07.107728",
     "status": "completed"
    },
    "tags": []
   },
   "outputs": [],
   "source": [
    "from sklearn.metrics import accuracy_score\n"
   ]
  },
  {
   "cell_type": "code",
   "execution_count": 30,
   "id": "e46d631a",
   "metadata": {
    "execution": {
     "iopub.execute_input": "2023-02-01T08:43:07.162355Z",
     "iopub.status.busy": "2023-02-01T08:43:07.162089Z",
     "iopub.status.idle": "2023-02-01T08:45:36.901413Z",
     "shell.execute_reply": "2023-02-01T08:45:36.899733Z"
    },
    "papermill": {
     "duration": 149.75929,
     "end_time": "2023-02-01T08:45:36.905163",
     "exception": false,
     "start_time": "2023-02-01T08:43:07.145873",
     "status": "completed"
    },
    "tags": []
   },
   "outputs": [
    {
     "data": {
      "application/vnd.jupyter.widget-view+json": {
       "model_id": "c19c1d499f9b47fba3a8efd336d39da1",
       "version_major": 2,
       "version_minor": 0
      },
      "text/plain": [
       "  0%|          | 0/10 [00:00<?, ?it/s]"
      ]
     },
     "metadata": {},
     "output_type": "display_data"
    },
    {
     "data": {
      "application/vnd.jupyter.widget-view+json": {
       "model_id": "04973bf91613416db41a583de54b0631",
       "version_major": 2,
       "version_minor": 0
      },
      "text/plain": [
       "Epoch 1:   0%|          | 0/81 [00:00<?, ?it/s]"
      ]
     },
     "metadata": {},
     "output_type": "display_data"
    },
    {
     "name": "stdout",
     "output_type": "stream",
     "text": [
      "\n",
      "Epoch 1\n",
      "Training loss: 1.350366179957802\n",
      "Validation loss: 0.8893568702042103\n",
      "F1 Score (Weighted): 0.6058651026392962\n"
     ]
    },
    {
     "data": {
      "application/vnd.jupyter.widget-view+json": {
       "model_id": "ed435fe6c93048738298a5fa450449b1",
       "version_major": 2,
       "version_minor": 0
      },
      "text/plain": [
       "Epoch 2:   0%|          | 0/81 [00:00<?, ?it/s]"
      ]
     },
     "metadata": {},
     "output_type": "display_data"
    },
    {
     "name": "stdout",
     "output_type": "stream",
     "text": [
      "\n",
      "Epoch 2\n",
      "Training loss: 0.7671692288354223\n",
      "Validation loss: 0.8222366701811552\n",
      "F1 Score (Weighted): 0.8204242424242423\n"
     ]
    },
    {
     "data": {
      "application/vnd.jupyter.widget-view+json": {
       "model_id": "78ac9014b9c9443eab85a27fbe5d8802",
       "version_major": 2,
       "version_minor": 0
      },
      "text/plain": [
       "Epoch 3:   0%|          | 0/81 [00:00<?, ?it/s]"
      ]
     },
     "metadata": {},
     "output_type": "display_data"
    },
    {
     "name": "stdout",
     "output_type": "stream",
     "text": [
      "\n",
      "Epoch 3\n",
      "Training loss: 0.46853629791718204\n",
      "Validation loss: 0.6724491474567913\n",
      "F1 Score (Weighted): 0.8536649831649832\n"
     ]
    },
    {
     "data": {
      "application/vnd.jupyter.widget-view+json": {
       "model_id": "f0e82c9d425b401cae30300a82a086cb",
       "version_major": 2,
       "version_minor": 0
      },
      "text/plain": [
       "Epoch 4:   0%|          | 0/81 [00:00<?, ?it/s]"
      ]
     },
     "metadata": {},
     "output_type": "display_data"
    },
    {
     "name": "stdout",
     "output_type": "stream",
     "text": [
      "\n",
      "Epoch 4\n",
      "Training loss: 0.2186998947793733\n",
      "Validation loss: 0.48550759530044163\n",
      "F1 Score (Weighted): 0.8791015531660694\n"
     ]
    },
    {
     "data": {
      "application/vnd.jupyter.widget-view+json": {
       "model_id": "41a243e75caa4f79a4308b79f8069d33",
       "version_major": 2,
       "version_minor": 0
      },
      "text/plain": [
       "Epoch 5:   0%|          | 0/81 [00:00<?, ?it/s]"
      ]
     },
     "metadata": {},
     "output_type": "display_data"
    },
    {
     "name": "stdout",
     "output_type": "stream",
     "text": [
      "\n",
      "Epoch 5\n",
      "Training loss: 0.06864279000962406\n",
      "Validation loss: 0.5272231046605157\n",
      "F1 Score (Weighted): 0.8620166315166314\n"
     ]
    },
    {
     "data": {
      "application/vnd.jupyter.widget-view+json": {
       "model_id": "2596d1a42e1949d78491bd6da048ca6d",
       "version_major": 2,
       "version_minor": 0
      },
      "text/plain": [
       "Epoch 6:   0%|          | 0/81 [00:00<?, ?it/s]"
      ]
     },
     "metadata": {},
     "output_type": "display_data"
    },
    {
     "name": "stdout",
     "output_type": "stream",
     "text": [
      "\n",
      "Epoch 6\n",
      "Training loss: 0.054247853875786844\n",
      "Validation loss: 0.5343828647397458\n",
      "F1 Score (Weighted): 0.8395744876390038\n"
     ]
    },
    {
     "data": {
      "application/vnd.jupyter.widget-view+json": {
       "model_id": "3a3bccb2028a4631aa0869619465b72e",
       "version_major": 2,
       "version_minor": 0
      },
      "text/plain": [
       "Epoch 7:   0%|          | 0/81 [00:00<?, ?it/s]"
      ]
     },
     "metadata": {},
     "output_type": "display_data"
    },
    {
     "name": "stdout",
     "output_type": "stream",
     "text": [
      "\n",
      "Epoch 7\n",
      "Training loss: 0.03329039486858097\n",
      "Validation loss: 0.6050614720064914\n",
      "F1 Score (Weighted): 0.8647026927672089\n"
     ]
    },
    {
     "data": {
      "application/vnd.jupyter.widget-view+json": {
       "model_id": "56db6bbc28314d90ba0c8553f8747bf1",
       "version_major": 2,
       "version_minor": 0
      },
      "text/plain": [
       "Epoch 8:   0%|          | 0/81 [00:00<?, ?it/s]"
      ]
     },
     "metadata": {},
     "output_type": "display_data"
    },
    {
     "name": "stdout",
     "output_type": "stream",
     "text": [
      "\n",
      "Epoch 8\n",
      "Training loss: 0.019379885094728964\n",
      "Validation loss: 0.5711934437858872\n",
      "F1 Score (Weighted): 0.879183049012271\n"
     ]
    },
    {
     "data": {
      "application/vnd.jupyter.widget-view+json": {
       "model_id": "7abff0ef30f44e03b9ed754883e9574a",
       "version_major": 2,
       "version_minor": 0
      },
      "text/plain": [
       "Epoch 9:   0%|          | 0/81 [00:00<?, ?it/s]"
      ]
     },
     "metadata": {},
     "output_type": "display_data"
    },
    {
     "name": "stdout",
     "output_type": "stream",
     "text": [
      "\n",
      "Epoch 9\n",
      "Training loss: 0.002094887094255997\n",
      "Validation loss: 0.5942695161007577\n",
      "F1 Score (Weighted): 0.8633710832003051\n"
     ]
    },
    {
     "data": {
      "application/vnd.jupyter.widget-view+json": {
       "model_id": "8841ccfea46143768b6f40d9b091e98e",
       "version_major": 2,
       "version_minor": 0
      },
      "text/plain": [
       "Epoch 10:   0%|          | 0/81 [00:00<?, ?it/s]"
      ]
     },
     "metadata": {},
     "output_type": "display_data"
    },
    {
     "name": "stdout",
     "output_type": "stream",
     "text": [
      "\n",
      "Epoch 10\n",
      "Training loss: 0.0017835379241862232\n",
      "Validation loss: 0.5889249770974857\n",
      "F1 Score (Weighted): 0.86823880806803\n"
     ]
    }
   ],
   "source": [
    "for epoch in tqdm(range(1, epochs+1)):\n",
    "    \n",
    "    model.train()\n",
    "    \n",
    "    loss_train_total = 0\n",
    "\n",
    "    progress_bar = tqdm(dataloader_train, desc='Epoch {:1d}'.format(epoch), leave=False, disable=False)\n",
    "    for batch in progress_bar:\n",
    "\n",
    "        model.zero_grad()\n",
    "        \n",
    "        batch = tuple(b.to(device) for b in batch)\n",
    "        \n",
    "        inputs = {'input_ids':      batch[0],\n",
    "                  'attention_mask': batch[1],\n",
    "                  'labels':         batch[2],\n",
    "                 }       \n",
    "\n",
    "        outputs = model(**inputs)\n",
    "        \n",
    "        loss = outputs[0]\n",
    "        loss_train_total += loss.item()\n",
    "        loss.backward()\n",
    "\n",
    "        torch.nn.utils.clip_grad_norm_(model.parameters(), 1.0)\n",
    "\n",
    "        optimizer.step()\n",
    "        scheduler.step()\n",
    "        \n",
    "        progress_bar.set_postfix({'training_loss': '{:.3f}'.format(loss.item()/len(batch))})\n",
    "         \n",
    "        \n",
    "    torch.save(model.state_dict(), f'data_volume/finetuned_BERT_epoch_{epoch}.model')\n",
    "        \n",
    "    tqdm.write(f'\\nEpoch {epoch}')\n",
    "    \n",
    "    loss_train_avg = loss_train_total/len(dataloader_train)            \n",
    "    tqdm.write(f'Training loss: {loss_train_avg}')\n",
    "    \n",
    "    val_loss, predictions, true_vals = evaluate(dataloader_validation)\n",
    "    val_f1 = f1_score_func(predictions, true_vals)\n",
    "    \n",
    "    \n",
    "\n",
    "   \n",
    "    tqdm.write(f'Validation loss: {val_loss}')\n",
    "    tqdm.write(f'F1 Score (Weighted): {val_f1}')\n",
    "   \n",
    "    "
   ]
  },
  {
   "cell_type": "code",
   "execution_count": 31,
   "id": "3b4b29cf",
   "metadata": {
    "execution": {
     "iopub.execute_input": "2023-02-01T08:45:36.970294Z",
     "iopub.status.busy": "2023-02-01T08:45:36.969803Z",
     "iopub.status.idle": "2023-02-01T08:45:43.639258Z",
     "shell.execute_reply": "2023-02-01T08:45:43.637008Z"
    },
    "papermill": {
     "duration": 6.705595,
     "end_time": "2023-02-01T08:45:43.642186",
     "exception": false,
     "start_time": "2023-02-01T08:45:36.936591",
     "status": "completed"
    },
    "tags": []
   },
   "outputs": [
    {
     "name": "stderr",
     "output_type": "stream",
     "text": [
      "Some weights of the model checkpoint at bert-base-uncased were not used when initializing BertForSequenceClassification: ['cls.predictions.transform.dense.weight', 'cls.predictions.decoder.weight', 'cls.predictions.transform.LayerNorm.weight', 'cls.seq_relationship.bias', 'cls.predictions.bias', 'cls.seq_relationship.weight', 'cls.predictions.transform.LayerNorm.bias', 'cls.predictions.transform.dense.bias']\n",
      "- This IS expected if you are initializing BertForSequenceClassification from the checkpoint of a model trained on another task or with another architecture (e.g. initializing a BertForSequenceClassification model from a BertForPreTraining model).\n",
      "- This IS NOT expected if you are initializing BertForSequenceClassification from the checkpoint of a model that you expect to be exactly identical (initializing a BertForSequenceClassification model from a BertForSequenceClassification model).\n",
      "Some weights of BertForSequenceClassification were not initialized from the model checkpoint at bert-base-uncased and are newly initialized: ['classifier.weight', 'classifier.bias']\n",
      "You should probably TRAIN this model on a down-stream task to be able to use it for predictions and inference.\n"
     ]
    },
    {
     "name": "stdout",
     "output_type": "stream",
     "text": [
      "Class: Dumpers\n",
      "Accuracy: 23/24\n",
      "\n",
      "Class: Fall of roof_sides_overhangs\n",
      "Accuracy: 15/16\n",
      "\n",
      "Class: Wheeled Trackless\n",
      "Accuracy: 0/5\n",
      "\n",
      "Class: Loading Machines\n",
      "Accuracy: 0/4\n",
      "\n",
      "Class: Fall of Person from Height/into Depth and on same level\n",
      "Accuracy: 4/5\n",
      "\n",
      "Class: Other Heavy Earth Moving Machinery and non transportation machinery\n",
      "Accuracy: 0/6\n",
      "\n"
     ]
    }
   ],
   "source": [
    "model = BertForSequenceClassification.from_pretrained(\"bert-base-uncased\",\n",
    "                                                      num_labels=len(label_dict),\n",
    "                                                      output_attentions=False,\n",
    "                                                      output_hidden_states=False)\n",
    "\n",
    "model.to(device)\n",
    "\n",
    "model.load_state_dict(torch.load('data_volume/finetuned_BERT_epoch_1.model', map_location=torch.device('cpu')))\n",
    "\n",
    "_, predictions, true_vals = evaluate(dataloader_validation)\n",
    "accuracy_per_class(predictions, true_vals)"
   ]
  },
  {
   "cell_type": "code",
   "execution_count": 32,
   "id": "c3480dbe",
   "metadata": {
    "execution": {
     "iopub.execute_input": "2023-02-01T08:45:43.679772Z",
     "iopub.status.busy": "2023-02-01T08:45:43.679466Z",
     "iopub.status.idle": "2023-02-01T08:45:43.695205Z",
     "shell.execute_reply": "2023-02-01T08:45:43.693520Z"
    },
    "papermill": {
     "duration": 0.037707,
     "end_time": "2023-02-01T08:45:43.698567",
     "exception": false,
     "start_time": "2023-02-01T08:45:43.660860",
     "status": "completed"
    },
    "tags": []
   },
   "outputs": [
    {
     "name": "stdout",
     "output_type": "stream",
     "text": [
      "                                                                     precision    recall  f1-score   support\n",
      "\n",
      "                                                            Dumpers       0.61      0.96      0.74        24\n",
      "                                       Fall of roof_sides_overhangs       0.88      0.94      0.91        16\n",
      "                                                  Wheeled Trackless       0.00      0.00      0.00         5\n",
      "                                                   Loading Machines       0.00      0.00      0.00         4\n",
      "            Fall of Person from Height/into Depth and on same level       0.80      0.80      0.80         5\n",
      "Other Heavy Earth Moving Machinery and non transportation machinery       0.00      0.00      0.00         6\n",
      "\n",
      "                                                           accuracy                           0.70        60\n",
      "                                                          macro avg       0.38      0.45      0.41        60\n",
      "                                                       weighted avg       0.54      0.70      0.61        60\n",
      "\n"
     ]
    },
    {
     "name": "stderr",
     "output_type": "stream",
     "text": [
      "/opt/conda/lib/python3.7/site-packages/sklearn/metrics/_classification.py:1318: UndefinedMetricWarning: Precision and F-score are ill-defined and being set to 0.0 in labels with no predicted samples. Use `zero_division` parameter to control this behavior.\n",
      "  _warn_prf(average, modifier, msg_start, len(result))\n",
      "/opt/conda/lib/python3.7/site-packages/sklearn/metrics/_classification.py:1318: UndefinedMetricWarning: Precision and F-score are ill-defined and being set to 0.0 in labels with no predicted samples. Use `zero_division` parameter to control this behavior.\n",
      "  _warn_prf(average, modifier, msg_start, len(result))\n",
      "/opt/conda/lib/python3.7/site-packages/sklearn/metrics/_classification.py:1318: UndefinedMetricWarning: Precision and F-score are ill-defined and being set to 0.0 in labels with no predicted samples. Use `zero_division` parameter to control this behavior.\n",
      "  _warn_prf(average, modifier, msg_start, len(result))\n"
     ]
    }
   ],
   "source": [
    "from sklearn.metrics import classification_report\n",
    "\n",
    "val_predictions = predictions.argmax(axis=1)\n",
    "val_true_vals = true_vals\n",
    "\n",
    "val_classification_report = classification_report(val_true_vals, val_predictions, target_names=label_dict.keys())\n",
    "print(val_classification_report)\n"
   ]
  },
  {
   "cell_type": "code",
   "execution_count": 33,
   "id": "56a9f0ce",
   "metadata": {
    "execution": {
     "iopub.execute_input": "2023-02-01T08:45:43.736376Z",
     "iopub.status.busy": "2023-02-01T08:45:43.735521Z",
     "iopub.status.idle": "2023-02-01T08:45:43.967991Z",
     "shell.execute_reply": "2023-02-01T08:45:43.967049Z"
    },
    "papermill": {
     "duration": 0.253619,
     "end_time": "2023-02-01T08:45:43.970258",
     "exception": false,
     "start_time": "2023-02-01T08:45:43.716639",
     "status": "completed"
    },
    "tags": []
   },
   "outputs": [
    {
     "data": {
      "text/plain": [
       "[<matplotlib.lines.Line2D at 0x7f9e2be1cd50>]"
      ]
     },
     "execution_count": 33,
     "metadata": {},
     "output_type": "execute_result"
    },
    {
     "data": {
      "image/png": "[encoded data removed]",
      "text/plain": [
       "<Figure size 432x288 with 1 Axes>"
      ]
     },
     "metadata": {
      "needs_background": "light"
     },
     "output_type": "display_data"
    }
   ],
   "source": [
    "import matplotlib.pyplot as plt\n",
    "\n",
    "# Initialize lists to store the training loss, validation loss, and F1 score for each epoch\n",
    "training_loss = []\n",
    "validation_loss = []\n",
    "f1_score = []\n",
    "\n",
    "# Add the training loss, validation loss, and F1 score for each epoch to the corresponding list\n",
    "for epoch in range(1, epochs+1):\n",
    "    # ... code for training and evaluating the model ...\n",
    "    training_loss.append(loss_train_avg)\n",
    "    validation_loss.append(val_loss)\n",
    "    f1_score.append(val_f1)\n",
    "\n",
    "# Plot the training loss, validation loss, and F1 score over the number of epochs\n",
    "plt.plot(range(1, epochs+1), training_loss, label='Training Loss')\n",
    "plt.plot(range(1, epochs+1), validation_loss, label='Validation Loss')\n",
    "plt.plot(range(1, epochs+1), f1_score, label='F1 Score')\n"
   ]
  },
  {
   "cell_type": "code",
   "execution_count": 34,
   "id": "98062660",
   "metadata": {
    "execution": {
     "iopub.execute_input": "2023-02-01T08:45:44.007190Z",
     "iopub.status.busy": "2023-02-01T08:45:44.006877Z",
     "iopub.status.idle": "2023-02-01T08:45:44.061762Z",
     "shell.execute_reply": "2023-02-01T08:45:44.060884Z"
    },
    "papermill": {
     "duration": 0.074903,
     "end_time": "2023-02-01T08:45:44.063769",
     "exception": false,
     "start_time": "2023-02-01T08:45:43.988866",
     "status": "completed"
    },
    "tags": []
   },
   "outputs": [],
   "source": [
    "import pandas as pd\n",
    "import matplotlib.pyplot as plt\n",
    "\n",
    "# Read the data into a pandas DataFrame\n",
    "df = pd.read_csv(\"/kaggle/input/minenotcleaned/data_2010_to_2015.csv\")"
   ]
  },
  {
   "cell_type": "code",
   "execution_count": 35,
   "id": "c24985c5",
   "metadata": {
    "execution": {
     "iopub.execute_input": "2023-02-01T08:45:44.101191Z",
     "iopub.status.busy": "2023-02-01T08:45:44.099716Z",
     "iopub.status.idle": "2023-02-01T08:45:44.125740Z",
     "shell.execute_reply": "2023-02-01T08:45:44.124860Z"
    },
    "papermill": {
     "duration": 0.046461,
     "end_time": "2023-02-01T08:45:44.127809",
     "exception": false,
     "start_time": "2023-02-01T08:45:44.081348",
     "status": "completed"
    },
    "tags": []
   },
   "outputs": [
    {
     "data": {
      "text/html": [
       "<div>\n",
       "<style scoped>\n",
       "    .dataframe tbody tr th:only-of-type {\n",
       "        vertical-align: middle;\n",
       "    }\n",
       "\n",
       "    .dataframe tbody tr th {\n",
       "        vertical-align: top;\n",
       "    }\n",
       "\n",
       "    .dataframe thead th {\n",
       "        text-align: right;\n",
       "    }\n",
       "</style>\n",
       "<table border=\"1\" class=\"dataframe\">\n",
       "  <thead>\n",
       "    <tr style=\"text-align: right;\">\n",
       "      <th></th>\n",
       "      <th>Accident Code</th>\n",
       "      <th>Accident Reason</th>\n",
       "      <th>Date</th>\n",
       "      <th>Time</th>\n",
       "      <th>State</th>\n",
       "      <th>Mine</th>\n",
       "      <th>District</th>\n",
       "      <th>Owner Company</th>\n",
       "      <th>No. of persons died along</th>\n",
       "      <th>Name of person</th>\n",
       "      <th>Occupation of the person</th>\n",
       "      <th>Gender of the person</th>\n",
       "      <th>Age of the person</th>\n",
       "      <th>Reason</th>\n",
       "      <th>Remedy</th>\n",
       "      <th>Shift</th>\n",
       "      <th>SubShifts</th>\n",
       "    </tr>\n",
       "  </thead>\n",
       "  <tbody>\n",
       "    <tr>\n",
       "      <th>0</th>\n",
       "      <td>111</td>\n",
       "      <td>Fall of Roof</td>\n",
       "      <td>2010-01-02</td>\n",
       "      <td>12:00:00</td>\n",
       "      <td>West Bengal</td>\n",
       "      <td>SHANKARPUR</td>\n",
       "      <td>Burdwan</td>\n",
       "      <td>Eastern Coalfields Ltd.</td>\n",
       "      <td>0</td>\n",
       "      <td>Ismail Mia</td>\n",
       "      <td>Dresser</td>\n",
       "      <td>Male</td>\n",
       "      <td>40</td>\n",
       "      <td>While a dresser was engaged for dressing coal ...</td>\n",
       "      <td>Had the roof of the gallery been made and kept...</td>\n",
       "      <td>2</td>\n",
       "      <td>1C</td>\n",
       "    </tr>\n",
       "    <tr>\n",
       "      <th>1</th>\n",
       "      <td>111</td>\n",
       "      <td>Fall of Roof</td>\n",
       "      <td>2010-02-24</td>\n",
       "      <td>13:30:00</td>\n",
       "      <td>Madhya Pradesh</td>\n",
       "      <td>BARTARAI</td>\n",
       "      <td>Anuppur</td>\n",
       "      <td>South Eastern Coalfields Ltd.</td>\n",
       "      <td>0</td>\n",
       "      <td>Poshan Das</td>\n",
       "      <td>Support Mistry</td>\n",
       "      <td>Male</td>\n",
       "      <td>44</td>\n",
       "      <td>While a driller was pulling a drilling cable a...</td>\n",
       "      <td>Had the roof of the working place been made an...</td>\n",
       "      <td>2</td>\n",
       "      <td>1D</td>\n",
       "    </tr>\n",
       "    <tr>\n",
       "      <th>2</th>\n",
       "      <td>111</td>\n",
       "      <td>Fall of Roof</td>\n",
       "      <td>2010-03-20</td>\n",
       "      <td>09:45:00</td>\n",
       "      <td>Chhattisgarh</td>\n",
       "      <td>BALGI PROJECT</td>\n",
       "      <td>Korba</td>\n",
       "      <td>South Eastern Coalfields Ltd.</td>\n",
       "      <td>0</td>\n",
       "      <td>Dhani Ram</td>\n",
       "      <td>Explosive Carrier</td>\n",
       "      <td>Male</td>\n",
       "      <td>47</td>\n",
       "      <td>While an explosive carrier in stooping positio...</td>\n",
       "      <td>Had i) the person carefully examined his worki...</td>\n",
       "      <td>2</td>\n",
       "      <td>1B</td>\n",
       "    </tr>\n",
       "    <tr>\n",
       "      <th>3</th>\n",
       "      <td>111</td>\n",
       "      <td>Fall of Roof</td>\n",
       "      <td>2010-04-03</td>\n",
       "      <td>14:40:00</td>\n",
       "      <td>Madhya Pradesh</td>\n",
       "      <td>BIRSINGHPUR</td>\n",
       "      <td>Umaria</td>\n",
       "      <td>South Eastern Coalfields Ltd.</td>\n",
       "      <td>0</td>\n",
       "      <td>Daya Ram</td>\n",
       "      <td>Roof Stitcher</td>\n",
       "      <td>Male</td>\n",
       "      <td>56</td>\n",
       "      <td>While a roof stitcher was drinking water from ...</td>\n",
       "      <td>Had the roof of the gallery been made and kept...</td>\n",
       "      <td>2</td>\n",
       "      <td>2A</td>\n",
       "    </tr>\n",
       "    <tr>\n",
       "      <th>4</th>\n",
       "      <td>111</td>\n",
       "      <td>Fall of Roof</td>\n",
       "      <td>2010-04-16</td>\n",
       "      <td>11:30:00</td>\n",
       "      <td>Chhattisgarh</td>\n",
       "      <td>RAJGAMAR 1&amp;2 (PAWAN INCLINE )</td>\n",
       "      <td>Bilaspur</td>\n",
       "      <td>South Eastern Coalfields Ltd.</td>\n",
       "      <td>0</td>\n",
       "      <td>Kitab Singh</td>\n",
       "      <td>Cableman</td>\n",
       "      <td>Male</td>\n",
       "      <td>40</td>\n",
       "      <td>While SDL reached the junction of split and or...</td>\n",
       "      <td>Had i) the working place been carefully examin...</td>\n",
       "      <td>2</td>\n",
       "      <td>1C</td>\n",
       "    </tr>\n",
       "    <tr>\n",
       "      <th>...</th>\n",
       "      <td>...</td>\n",
       "      <td>...</td>\n",
       "      <td>...</td>\n",
       "      <td>...</td>\n",
       "      <td>...</td>\n",
       "      <td>...</td>\n",
       "      <td>...</td>\n",
       "      <td>...</td>\n",
       "      <td>...</td>\n",
       "      <td>...</td>\n",
       "      <td>...</td>\n",
       "      <td>...</td>\n",
       "      <td>...</td>\n",
       "      <td>...</td>\n",
       "      <td>...</td>\n",
       "      <td>...</td>\n",
       "      <td>...</td>\n",
       "    </tr>\n",
       "    <tr>\n",
       "      <th>460</th>\n",
       "      <td>991</td>\n",
       "      <td>Irruption of Water</td>\n",
       "      <td>2015-04-06</td>\n",
       "      <td>12:04:00</td>\n",
       "      <td>Telangana</td>\n",
       "      <td>SRIRAMPUR NO.3 &amp; 3 A</td>\n",
       "      <td>Adilabad</td>\n",
       "      <td>Singareni Collieries Company Ltd.</td>\n",
       "      <td>0</td>\n",
       "      <td>Pesaru Satyanarayana</td>\n",
       "      <td>Mining Sirdar</td>\n",
       "      <td>Male</td>\n",
       "      <td>51</td>\n",
       "      <td>While a mining sirdar was walking along a dip ...</td>\n",
       "      <td>-</td>\n",
       "      <td>2</td>\n",
       "      <td>1D</td>\n",
       "    </tr>\n",
       "    <tr>\n",
       "      <th>461</th>\n",
       "      <td>993</td>\n",
       "      <td>Drowning in Water</td>\n",
       "      <td>2015-03-01</td>\n",
       "      <td>07:55:00</td>\n",
       "      <td>Jharkhand</td>\n",
       "      <td>BASANTIMATA</td>\n",
       "      <td>Dhanbad</td>\n",
       "      <td>Bharat Coking Coal Ltd.</td>\n",
       "      <td>0</td>\n",
       "      <td>Manoranjan Pradhan</td>\n",
       "      <td>Shovel Optr( Con)</td>\n",
       "      <td>Male</td>\n",
       "      <td>26</td>\n",
       "      <td>While a shovel was deployed for working on an ...</td>\n",
       "      <td>Had i) the system of dividing the mine into 4 ...</td>\n",
       "      <td>1</td>\n",
       "      <td>1A</td>\n",
       "    </tr>\n",
       "    <tr>\n",
       "      <th>462</th>\n",
       "      <td>993</td>\n",
       "      <td>Drowning in Water</td>\n",
       "      <td>2015-06-21</td>\n",
       "      <td>14:00:00</td>\n",
       "      <td>Maharashtra</td>\n",
       "      <td>CHANDA RAYATWARI</td>\n",
       "      <td>Chandrapur</td>\n",
       "      <td>Western Coalfields Ltd.</td>\n",
       "      <td>0</td>\n",
       "      <td>Sarnath Bapu Dhoble</td>\n",
       "      <td>Engineer</td>\n",
       "      <td>Male</td>\n",
       "      <td>55</td>\n",
       "      <td>While an engineer went alone at the sump area ...</td>\n",
       "      <td>Had the deceased not gone alone near the under...</td>\n",
       "      <td>2</td>\n",
       "      <td>1D</td>\n",
       "    </tr>\n",
       "    <tr>\n",
       "      <th>463</th>\n",
       "      <td>993</td>\n",
       "      <td>Drowning in Water</td>\n",
       "      <td>2015-10-15</td>\n",
       "      <td>08:03:00</td>\n",
       "      <td>Gujarat</td>\n",
       "      <td>SURKHA(NORTH) LIGNITE MINE,</td>\n",
       "      <td>Bhavanagar</td>\n",
       "      <td>Gujarat Mineral Development Corpn. Ltd.</td>\n",
       "      <td>0</td>\n",
       "      <td>Paresh Kr. Samantray</td>\n",
       "      <td>Agent</td>\n",
       "      <td>Male</td>\n",
       "      <td>42</td>\n",
       "      <td>While an agent-cum-manager of the mine during ...</td>\n",
       "      <td>Had the person during inspection of opencast w...</td>\n",
       "      <td>2</td>\n",
       "      <td>1B</td>\n",
       "    </tr>\n",
       "    <tr>\n",
       "      <th>464</th>\n",
       "      <td>994</td>\n",
       "      <td>Buried in Sands, etc.</td>\n",
       "      <td>2015-06-24</td>\n",
       "      <td>09:00:00</td>\n",
       "      <td>Telangana</td>\n",
       "      <td>SRIRAMPUR OCP, SRP</td>\n",
       "      <td>Adilabad</td>\n",
       "      <td>Singareni Collieries Company Ltd.</td>\n",
       "      <td>0</td>\n",
       "      <td>Merugu Srikanth</td>\n",
       "      <td>Contract Workman</td>\n",
       "      <td>Male</td>\n",
       "      <td>28</td>\n",
       "      <td>While a group of eight contractor's work perso...</td>\n",
       "      <td>Had i) the spilled coal been not allowed to ac...</td>\n",
       "      <td>2</td>\n",
       "      <td>1B</td>\n",
       "    </tr>\n",
       "  </tbody>\n",
       "</table>\n",
       "<p>465 rows × 17 columns</p>\n",
       "</div>"
      ],
      "text/plain": [
       "     Accident Code         Accident Reason        Date      Time  \\\n",
       "0              111           Fall of Roof   2010-01-02  12:00:00   \n",
       "1              111           Fall of Roof   2010-02-24  13:30:00   \n",
       "2              111           Fall of Roof   2010-03-20  09:45:00   \n",
       "3              111           Fall of Roof   2010-04-03  14:40:00   \n",
       "4              111           Fall of Roof   2010-04-16  11:30:00   \n",
       "..             ...                     ...         ...       ...   \n",
       "460            991     Irruption of Water   2015-04-06  12:04:00   \n",
       "461            993      Drowning in Water   2015-03-01  07:55:00   \n",
       "462            993      Drowning in Water   2015-06-21  14:00:00   \n",
       "463            993      Drowning in Water   2015-10-15  08:03:00   \n",
       "464            994  Buried in Sands, etc.   2015-06-24  09:00:00   \n",
       "\n",
       "              State                           Mine    District  \\\n",
       "0       West Bengal                     SHANKARPUR     Burdwan   \n",
       "1    Madhya Pradesh                       BARTARAI     Anuppur   \n",
       "2      Chhattisgarh                  BALGI PROJECT       Korba   \n",
       "3    Madhya Pradesh                    BIRSINGHPUR      Umaria   \n",
       "4      Chhattisgarh  RAJGAMAR 1&2 (PAWAN INCLINE )    Bilaspur   \n",
       "..              ...                            ...         ...   \n",
       "460       Telangana           SRIRAMPUR NO.3 & 3 A    Adilabad   \n",
       "461       Jharkhand                    BASANTIMATA     Dhanbad   \n",
       "462     Maharashtra               CHANDA RAYATWARI  Chandrapur   \n",
       "463         Gujarat    SURKHA(NORTH) LIGNITE MINE,  Bhavanagar   \n",
       "464       Telangana             SRIRAMPUR OCP, SRP    Adilabad   \n",
       "\n",
       "                               Owner Company  No. of persons died along  \\\n",
       "0                    Eastern Coalfields Ltd.                          0   \n",
       "1              South Eastern Coalfields Ltd.                          0   \n",
       "2              South Eastern Coalfields Ltd.                          0   \n",
       "3              South Eastern Coalfields Ltd.                          0   \n",
       "4              South Eastern Coalfields Ltd.                          0   \n",
       "..                                       ...                        ...   \n",
       "460        Singareni Collieries Company Ltd.                          0   \n",
       "461                  Bharat Coking Coal Ltd.                          0   \n",
       "462                  Western Coalfields Ltd.                          0   \n",
       "463  Gujarat Mineral Development Corpn. Ltd.                          0   \n",
       "464        Singareni Collieries Company Ltd.                          0   \n",
       "\n",
       "           Name of person Occupation of the person Gender of the person  \\\n",
       "0              Ismail Mia                  Dresser                 Male   \n",
       "1              Poshan Das           Support Mistry                 Male   \n",
       "2               Dhani Ram        Explosive Carrier                 Male   \n",
       "3                Daya Ram            Roof Stitcher                 Male   \n",
       "4             Kitab Singh                 Cableman                 Male   \n",
       "..                    ...                      ...                  ...   \n",
       "460  Pesaru Satyanarayana            Mining Sirdar                 Male   \n",
       "461    Manoranjan Pradhan        Shovel Optr( Con)                 Male   \n",
       "462   Sarnath Bapu Dhoble                 Engineer                 Male   \n",
       "463  Paresh Kr. Samantray                    Agent                 Male   \n",
       "464       Merugu Srikanth         Contract Workman                 Male   \n",
       "\n",
       "     Age of the person                                             Reason  \\\n",
       "0                   40  While a dresser was engaged for dressing coal ...   \n",
       "1                   44  While a driller was pulling a drilling cable a...   \n",
       "2                   47  While an explosive carrier in stooping positio...   \n",
       "3                   56  While a roof stitcher was drinking water from ...   \n",
       "4                   40  While SDL reached the junction of split and or...   \n",
       "..                 ...                                                ...   \n",
       "460                 51  While a mining sirdar was walking along a dip ...   \n",
       "461                 26  While a shovel was deployed for working on an ...   \n",
       "462                 55  While an engineer went alone at the sump area ...   \n",
       "463                 42  While an agent-cum-manager of the mine during ...   \n",
       "464                 28  While a group of eight contractor's work perso...   \n",
       "\n",
       "                                                Remedy  Shift SubShifts  \n",
       "0    Had the roof of the gallery been made and kept...      2        1C  \n",
       "1    Had the roof of the working place been made an...      2        1D  \n",
       "2    Had i) the person carefully examined his worki...      2        1B  \n",
       "3    Had the roof of the gallery been made and kept...      2        2A  \n",
       "4    Had i) the working place been carefully examin...      2        1C  \n",
       "..                                                 ...    ...       ...  \n",
       "460                                                  -      2        1D  \n",
       "461  Had i) the system of dividing the mine into 4 ...      1        1A  \n",
       "462  Had the deceased not gone alone near the under...      2        1D  \n",
       "463  Had the person during inspection of opencast w...      2        1B  \n",
       "464  Had i) the spilled coal been not allowed to ac...      2        1B  \n",
       "\n",
       "[465 rows x 17 columns]"
      ]
     },
     "execution_count": 35,
     "metadata": {},
     "output_type": "execute_result"
    }
   ],
   "source": [
    "df"
   ]
  },
  {
   "cell_type": "code",
   "execution_count": 36,
   "id": "b28a5a67",
   "metadata": {
    "execution": {
     "iopub.execute_input": "2023-02-01T08:45:44.167783Z",
     "iopub.status.busy": "2023-02-01T08:45:44.166237Z",
     "iopub.status.idle": "2023-02-01T08:45:49.390980Z",
     "shell.execute_reply": "2023-02-01T08:45:49.389900Z"
    },
    "papermill": {
     "duration": 5.246469,
     "end_time": "2023-02-01T08:45:49.393410",
     "exception": false,
     "start_time": "2023-02-01T08:45:44.146941",
     "status": "completed"
    },
    "tags": []
   },
   "outputs": [
    {
     "data": {
      "image/png": "[encoded data removed]",
      "text/plain": [
       "<Figure size 432x288 with 1 Axes>"
      ]
     },
     "metadata": {
      "needs_background": "light"
     },
     "output_type": "display_data"
    },
    {
     "data": {
      "image/png": "[encoded data removed]",
      "text/plain": [
       "<Figure size 432x288 with 1 Axes>"
      ]
     },
     "metadata": {
      "needs_background": "light"
     },
     "output_type": "display_data"
    },
    {
     "data": {
      "image/png": "[encoded data removed]",
      "text/plain": [
       "<Figure size 432x288 with 1 Axes>"
      ]
     },
     "metadata": {
      "needs_background": "light"
     },
     "output_type": "display_data"
    }
   ],
   "source": [
    "\n",
    "\n",
    "# Group the data by state and calculate the number of accidents in each state\n",
    "state_group = df.groupby(\"State\").count()[\"Accident Reason\"]\n",
    "\n",
    "# Plot the number of accidents by state in a bar chart\n",
    "state_group.plot(kind=\"bar\")\n",
    "plt.xlabel(\"State\")\n",
    "plt.ylabel(\"Number of Accidents\")\n",
    "plt.title(\"Number of Accidents by State\")\n",
    "plt.show()\n",
    "\n",
    "# Group the data by mine and calculate the number of accidents in each mine\n",
    "mine_group = df.groupby(\"Mine\").count()[\"Accident Reason\"]\n",
    "\n",
    "# Plot the number of accidents by mine in a bar chart\n",
    "mine_group.plot(kind=\"bar\")\n",
    "plt.xlabel(\"mine\")\n",
    "plt.ylabel(\"Number of Accidents\")\n",
    "plt.title(\"Number of Accidents by mine\")\n",
    "plt.show()\n",
    "\n",
    "# Group the data by owner company and calculate the number of accidents in each owner company\n",
    "owner_company_group = df.groupby(\"Owner Company\").count()[\"Accident Reason\"]\n",
    "\n",
    "# Plot the number of accidents by owner company in a bar chart\n",
    "owner_company_group.plot(kind=\"bar\")\n",
    "plt.xlabel(\"owner company\")\n",
    "plt.ylabel(\"Number of Accidents\")\n",
    "plt.title(\"Number of Accidents by owner company\")\n",
    "plt.show()\n",
    "\n"
   ]
  },
  {
   "cell_type": "code",
   "execution_count": 37,
   "id": "b5952b0c",
   "metadata": {
    "execution": {
     "iopub.execute_input": "2023-02-01T08:45:49.441775Z",
     "iopub.status.busy": "2023-02-01T08:45:49.441452Z",
     "iopub.status.idle": "2023-02-01T08:45:49.910064Z",
     "shell.execute_reply": "2023-02-01T08:45:49.908884Z"
    },
    "papermill": {
     "duration": 0.493453,
     "end_time": "2023-02-01T08:45:49.912307",
     "exception": false,
     "start_time": "2023-02-01T08:45:49.418854",
     "status": "completed"
    },
    "tags": []
   },
   "outputs": [
    {
     "data": {
      "image/png": "[encoded data removed]",
      "text/plain": [
       "<Figure size 432x288 with 2 Axes>"
      ]
     },
     "metadata": {
      "needs_background": "light"
     },
     "output_type": "display_data"
    }
   ],
   "source": [
    "import seaborn as sns\n",
    "\n",
    "# Create a pivot table to show the number of accidents by state\n",
    "pivot_table = df.pivot_table(index='State', values='Accident Reason', aggfunc='count')\n",
    "\n",
    "# Create a heatmap of the pivot table\n",
    "sns.heatmap(pivot_table, annot=True, cmap=\"YlGnBu\")\n",
    "plt.xlabel(\"State\")\n",
    "plt.ylabel(\"Number of Accidents\")\n",
    "plt.title(\"Number of Accidents by State\")\n",
    "plt.show()\n"
   ]
  },
  {
   "cell_type": "code",
   "execution_count": 38,
   "id": "5554bac6",
   "metadata": {
    "execution": {
     "iopub.execute_input": "2023-02-01T08:45:49.961303Z",
     "iopub.status.busy": "2023-02-01T08:45:49.960972Z",
     "iopub.status.idle": "2023-02-01T08:45:50.940475Z",
     "shell.execute_reply": "2023-02-01T08:45:50.938903Z"
    },
    "papermill": {
     "duration": 1.003614,
     "end_time": "2023-02-01T08:45:50.942600",
     "exception": false,
     "start_time": "2023-02-01T08:45:49.938986",
     "status": "completed"
    },
    "tags": []
   },
   "outputs": [
    {
     "data": {
      "image/png": "[encoded data removed]",
      "text/plain": [
       "<Figure size 432x288 with 1 Axes>"
      ]
     },
     "metadata": {
      "needs_background": "light"
     },
     "output_type": "display_data"
    }
   ],
   "source": [
    "# Create a scatter plot to show the relationship between the age of the person and the number of accidents\n",
    "plt.scatter(df[\"Age of the person\"], df[\"Accident Reason\"])\n",
    "plt.xlabel(\"Age of Person\")\n",
    "plt.ylabel(\"Number of Accidents\")\n",
    "plt.title(\"Number of Accidents by Age of Person\")\n",
    "\n",
    "\n",
    "plt.show()\n"
   ]
  },
  {
   "cell_type": "code",
   "execution_count": 39,
   "id": "c7e9a0b4",
   "metadata": {
    "execution": {
     "iopub.execute_input": "2023-02-01T08:45:50.988840Z",
     "iopub.status.busy": "2023-02-01T08:45:50.987969Z",
     "iopub.status.idle": "2023-02-01T08:45:51.240817Z",
     "shell.execute_reply": "2023-02-01T08:45:51.239897Z"
    },
    "papermill": {
     "duration": 0.27787,
     "end_time": "2023-02-01T08:45:51.242926",
     "exception": false,
     "start_time": "2023-02-01T08:45:50.965056",
     "status": "completed"
    },
    "tags": []
   },
   "outputs": [
    {
     "data": {
      "image/png": "[encoded data removed]",
      "text/plain": [
       "<Figure size 432x288 with 1 Axes>"
      ]
     },
     "metadata": {
      "needs_background": "light"
     },
     "output_type": "display_data"
    }
   ],
   "source": [
    "# convert date column to date format\n",
    "df[\"date\"] = pd.to_datetime(df[\"Date\"])\n",
    "\n",
    "# Create a line plot to show the trend of accidents over time\n",
    "df.groupby(\"date\").count()[\"Accident Reason\"].plot()\n",
    "plt.xlabel(\"Date\")\n",
    "plt.ylabel(\"Number of Accidents\")\n",
    "plt.title(\"Number of Accidents over Time\")\n",
    "plt.show()\n"
   ]
  },
  {
   "cell_type": "code",
   "execution_count": 40,
   "id": "f582965b",
   "metadata": {
    "execution": {
     "iopub.execute_input": "2023-02-01T08:45:51.289464Z",
     "iopub.status.busy": "2023-02-01T08:45:51.288844Z",
     "iopub.status.idle": "2023-02-01T08:45:52.865711Z",
     "shell.execute_reply": "2023-02-01T08:45:52.864768Z"
    },
    "papermill": {
     "duration": 1.602693,
     "end_time": "2023-02-01T08:45:52.868416",
     "exception": false,
     "start_time": "2023-02-01T08:45:51.265723",
     "status": "completed"
    },
    "tags": []
   },
   "outputs": [
    {
     "data": {
      "image/png": "[encoded data removed]",
      "text/plain": [
       "<Figure size 432x288 with 1 Axes>"
      ]
     },
     "metadata": {
      "needs_background": "light"
     },
     "output_type": "display_data"
    }
   ],
   "source": [
    "# Create a pivot table to show the number of accidents by date and accident reason\n",
    "pivot_table = df.pivot_table(index='Date', columns='Accident Reason', values='No. of persons died along', aggfunc='sum')\n",
    "\n",
    "# Plot the pivot table as a stacked area chart\n",
    "pivot_table.plot(kind='area', stacked=True)\n",
    "plt.xlabel(\"Date\")\n",
    "plt.ylabel(\"Number of Accidents\")\n",
    "plt.title(\"Number of Accidents by Date and Accident Reason\")\n",
    "plt.show()\n"
   ]
  },
  {
   "cell_type": "markdown",
   "id": "e3bdfed0",
   "metadata": {
    "papermill": {
     "duration": 0.023113,
     "end_time": "2023-02-01T08:45:52.914613",
     "exception": false,
     "start_time": "2023-02-01T08:45:52.891500",
     "status": "completed"
    },
    "tags": []
   },
   "source": [
    "**Accident rate by mine or state: Instead of calculating the probability of an accident occurring in a certain mine or state, you can calculate the accident rate (number of accidents per year) in each mine or state. This will give you an idea of which mines or states have the highest accident rates.**"
   ]
  },
  {
   "cell_type": "code",
   "execution_count": 41,
   "id": "2c5965eb",
   "metadata": {
    "execution": {
     "iopub.execute_input": "2023-02-01T08:45:52.966097Z",
     "iopub.status.busy": "2023-02-01T08:45:52.963855Z",
     "iopub.status.idle": "2023-02-01T08:45:53.000758Z",
     "shell.execute_reply": "2023-02-01T08:45:52.999737Z"
    },
    "papermill": {
     "duration": 0.065018,
     "end_time": "2023-02-01T08:45:53.003055",
     "exception": false,
     "start_time": "2023-02-01T08:45:52.938037",
     "status": "completed"
    },
    "tags": []
   },
   "outputs": [
    {
     "data": {
      "text/html": [
       "<div>\n",
       "<style scoped>\n",
       "    .dataframe tbody tr th:only-of-type {\n",
       "        vertical-align: middle;\n",
       "    }\n",
       "\n",
       "    .dataframe tbody tr th {\n",
       "        vertical-align: top;\n",
       "    }\n",
       "\n",
       "    .dataframe thead th {\n",
       "        text-align: right;\n",
       "    }\n",
       "</style>\n",
       "<table border=\"1\" class=\"dataframe\">\n",
       "  <thead>\n",
       "    <tr style=\"text-align: right;\">\n",
       "      <th></th>\n",
       "      <th></th>\n",
       "      <th>Accident Reason</th>\n",
       "      <th>accident rate</th>\n",
       "    </tr>\n",
       "    <tr>\n",
       "      <th>State</th>\n",
       "      <th>Year</th>\n",
       "      <th></th>\n",
       "      <th></th>\n",
       "    </tr>\n",
       "  </thead>\n",
       "  <tbody>\n",
       "    <tr>\n",
       "      <th rowspan=\"2\" valign=\"top\">Jharkhand</th>\n",
       "      <th>2013</th>\n",
       "      <td>27</td>\n",
       "      <td>4.500000</td>\n",
       "    </tr>\n",
       "    <tr>\n",
       "      <th>2010</th>\n",
       "      <td>27</td>\n",
       "      <td>4.500000</td>\n",
       "    </tr>\n",
       "    <tr>\n",
       "      <th>Chhattisgarh</th>\n",
       "      <th>2010</th>\n",
       "      <td>25</td>\n",
       "      <td>4.166667</td>\n",
       "    </tr>\n",
       "    <tr>\n",
       "      <th>Jharkhand</th>\n",
       "      <th>2012</th>\n",
       "      <td>23</td>\n",
       "      <td>3.833333</td>\n",
       "    </tr>\n",
       "    <tr>\n",
       "      <th>Madhya Pradesh</th>\n",
       "      <th>2010</th>\n",
       "      <td>20</td>\n",
       "      <td>3.333333</td>\n",
       "    </tr>\n",
       "    <tr>\n",
       "      <th>...</th>\n",
       "      <th>...</th>\n",
       "      <td>...</td>\n",
       "      <td>...</td>\n",
       "    </tr>\n",
       "    <tr>\n",
       "      <th>Assam</th>\n",
       "      <th>2012</th>\n",
       "      <td>1</td>\n",
       "      <td>0.166667</td>\n",
       "    </tr>\n",
       "    <tr>\n",
       "      <th>Orissa</th>\n",
       "      <th>2014</th>\n",
       "      <td>1</td>\n",
       "      <td>0.166667</td>\n",
       "    </tr>\n",
       "    <tr>\n",
       "      <th>Assam</th>\n",
       "      <th>2010</th>\n",
       "      <td>1</td>\n",
       "      <td>0.166667</td>\n",
       "    </tr>\n",
       "    <tr>\n",
       "      <th>Orissa</th>\n",
       "      <th>2013</th>\n",
       "      <td>1</td>\n",
       "      <td>0.166667</td>\n",
       "    </tr>\n",
       "    <tr>\n",
       "      <th>Tamil Nadu</th>\n",
       "      <th>2015</th>\n",
       "      <td>1</td>\n",
       "      <td>0.166667</td>\n",
       "    </tr>\n",
       "  </tbody>\n",
       "</table>\n",
       "<p>63 rows × 2 columns</p>\n",
       "</div>"
      ],
      "text/plain": [
       "                     Accident Reason  accident rate\n",
       "State          Year                                \n",
       "Jharkhand      2013               27       4.500000\n",
       "               2010               27       4.500000\n",
       "Chhattisgarh   2010               25       4.166667\n",
       "Jharkhand      2012               23       3.833333\n",
       "Madhya Pradesh 2010               20       3.333333\n",
       "...                              ...            ...\n",
       "Assam          2012                1       0.166667\n",
       "Orissa         2014                1       0.166667\n",
       "Assam          2010                1       0.166667\n",
       "Orissa         2013                1       0.166667\n",
       "Tamil Nadu     2015                1       0.166667\n",
       "\n",
       "[63 rows x 2 columns]"
      ]
     },
     "execution_count": 41,
     "metadata": {},
     "output_type": "execute_result"
    }
   ],
   "source": [
    "df['date'] = pd.to_datetime(df['Date'])\n",
    "df['Year'] = pd.DatetimeIndex(df['Date']).year\n",
    "\n",
    "# Create a pivot table to show the number of accidents by mine or state and year\n",
    "mine_pivot = df.pivot_table(index=['Mine','Year'], values='Accident Reason', aggfunc='count')\n",
    "# or\n",
    "state_pivot = df.pivot_table(index=['State','Year'], values='Accident Reason', aggfunc='count')\n",
    "\n",
    "# Divide the number of accidents by the number of years in the dataset to get the accident rate\n",
    "mine_pivot[\"accident rate\"] = mine_pivot[\"Accident Reason\"] / (df[\"Year\"].max() - df[\"Year\"].min() + 1)\n",
    "# or\n",
    "state_pivot[\"accident rate\"] = state_pivot[\"Accident Reason\"] / (df[\"Year\"].max() - df[\"Year\"].min() + 1)\n",
    "\n",
    "# Sort the pivot table by accident rate in descending order to see which mines or states have the highest accident rates\n",
    "mine_pivot.sort_values(\"accident rate\", ascending=False)\n",
    "#or\n",
    "state_pivot.sort_values(\"accident rate\", ascending=False)\n"
   ]
  },
  {
   "cell_type": "markdown",
   "id": "c79213eb",
   "metadata": {
    "papermill": {
     "duration": 0.023343,
     "end_time": "2023-02-01T08:45:53.049358",
     "exception": false,
     "start_time": "2023-02-01T08:45:53.026015",
     "status": "completed"
    },
    "tags": []
   },
   "source": [
    "**Accident rate by occupation: you can group the data by occupation of the person, and calculate the accident rate (number of accidents per year) for each occupation. This will give you an idea of which occupations are at the highest risk of accidents***\n",
    "*"
   ]
  },
  {
   "cell_type": "code",
   "execution_count": 42,
   "id": "6cfd2ee5",
   "metadata": {
    "execution": {
     "iopub.execute_input": "2023-02-01T08:45:53.096364Z",
     "iopub.status.busy": "2023-02-01T08:45:53.096055Z",
     "iopub.status.idle": "2023-02-01T08:45:53.120987Z",
     "shell.execute_reply": "2023-02-01T08:45:53.119909Z"
    },
    "papermill": {
     "duration": 0.051177,
     "end_time": "2023-02-01T08:45:53.123130",
     "exception": false,
     "start_time": "2023-02-01T08:45:53.071953",
     "status": "completed"
    },
    "tags": []
   },
   "outputs": [
    {
     "data": {
      "text/html": [
       "<div>\n",
       "<style scoped>\n",
       "    .dataframe tbody tr th:only-of-type {\n",
       "        vertical-align: middle;\n",
       "    }\n",
       "\n",
       "    .dataframe tbody tr th {\n",
       "        vertical-align: top;\n",
       "    }\n",
       "\n",
       "    .dataframe thead th {\n",
       "        text-align: right;\n",
       "    }\n",
       "</style>\n",
       "<table border=\"1\" class=\"dataframe\">\n",
       "  <thead>\n",
       "    <tr style=\"text-align: right;\">\n",
       "      <th></th>\n",
       "      <th></th>\n",
       "      <th>Accident Reason</th>\n",
       "      <th>accident rate</th>\n",
       "    </tr>\n",
       "    <tr>\n",
       "      <th>Occupation of the person</th>\n",
       "      <th>year</th>\n",
       "      <th></th>\n",
       "      <th></th>\n",
       "    </tr>\n",
       "  </thead>\n",
       "  <tbody>\n",
       "    <tr>\n",
       "      <th>Contractor Worker</th>\n",
       "      <th>2010</th>\n",
       "      <td>8</td>\n",
       "      <td>1.333333</td>\n",
       "    </tr>\n",
       "    <tr>\n",
       "      <th>Dumper Operator</th>\n",
       "      <th>2013</th>\n",
       "      <td>7</td>\n",
       "      <td>1.166667</td>\n",
       "    </tr>\n",
       "    <tr>\n",
       "      <th rowspan=\"2\" valign=\"top\">General Mazdoor</th>\n",
       "      <th>2012</th>\n",
       "      <td>6</td>\n",
       "      <td>1.000000</td>\n",
       "    </tr>\n",
       "    <tr>\n",
       "      <th>2010</th>\n",
       "      <td>6</td>\n",
       "      <td>1.000000</td>\n",
       "    </tr>\n",
       "    <tr>\n",
       "      <th>Dumper Operator</th>\n",
       "      <th>2010</th>\n",
       "      <td>5</td>\n",
       "      <td>0.833333</td>\n",
       "    </tr>\n",
       "    <tr>\n",
       "      <th>...</th>\n",
       "      <th>...</th>\n",
       "      <td>...</td>\n",
       "      <td>...</td>\n",
       "    </tr>\n",
       "    <tr>\n",
       "      <th>E. P. Fitter Grade- D</th>\n",
       "      <th>2013</th>\n",
       "      <td>1</td>\n",
       "      <td>0.166667</td>\n",
       "    </tr>\n",
       "    <tr>\n",
       "      <th rowspan=\"2\" valign=\"top\">E. P. Fitter</th>\n",
       "      <th>2013</th>\n",
       "      <td>1</td>\n",
       "      <td>0.166667</td>\n",
       "    </tr>\n",
       "    <tr>\n",
       "      <th>2010</th>\n",
       "      <td>1</td>\n",
       "      <td>0.166667</td>\n",
       "    </tr>\n",
       "    <tr>\n",
       "      <th>E P. Operator</th>\n",
       "      <th>2014</th>\n",
       "      <td>1</td>\n",
       "      <td>0.166667</td>\n",
       "    </tr>\n",
       "    <tr>\n",
       "      <th>Welder</th>\n",
       "      <th>2015</th>\n",
       "      <td>1</td>\n",
       "      <td>0.166667</td>\n",
       "    </tr>\n",
       "  </tbody>\n",
       "</table>\n",
       "<p>345 rows × 2 columns</p>\n",
       "</div>"
      ],
      "text/plain": [
       "                               Accident Reason  accident rate\n",
       "Occupation of the person year                                \n",
       "Contractor Worker        2010                8       1.333333\n",
       "Dumper Operator          2013                7       1.166667\n",
       "General Mazdoor          2012                6       1.000000\n",
       "                         2010                6       1.000000\n",
       "Dumper Operator          2010                5       0.833333\n",
       "...                                        ...            ...\n",
       "E. P. Fitter Grade- D    2013                1       0.166667\n",
       "E. P. Fitter             2013                1       0.166667\n",
       "                         2010                1       0.166667\n",
       "E P. Operator            2014                1       0.166667\n",
       "Welder                   2015                1       0.166667\n",
       "\n",
       "[345 rows x 2 columns]"
      ]
     },
     "execution_count": 42,
     "metadata": {},
     "output_type": "execute_result"
    }
   ],
   "source": [
    "df['date'] = pd.to_datetime(df['Date'])\n",
    "df['year'] = pd.DatetimeIndex(df['Date']).year\n",
    "# Create a pivot table to show the number of accidents by occupation and year\n",
    "occupation_pivot = df.pivot_table(index=['Occupation of the person','year'], values='Accident Reason', aggfunc='count')\n",
    "\n",
    "# Divide the number of accidents by the number of years in the dataset to get the accident rate\n",
    "occupation_pivot[\"accident rate\"] = occupation_pivot[\"Accident Reason\"] / (df[\"year\"].max() - df[\"year\"].min() + 1)\n",
    "\n",
    "# Sort the pivot table by accident rate in descending order to see which occupation have the highest accident rates\n",
    "occupation_pivot.sort_values(\"accident rate\", ascending=False)\n"
   ]
  },
  {
   "cell_type": "code",
   "execution_count": 43,
   "id": "5663a13e",
   "metadata": {
    "execution": {
     "iopub.execute_input": "2023-02-01T08:45:53.172475Z",
     "iopub.status.busy": "2023-02-01T08:45:53.171667Z",
     "iopub.status.idle": "2023-02-01T08:45:57.640034Z",
     "shell.execute_reply": "2023-02-01T08:45:57.639034Z"
    },
    "papermill": {
     "duration": 4.495282,
     "end_time": "2023-02-01T08:45:57.642282",
     "exception": false,
     "start_time": "2023-02-01T08:45:53.147000",
     "status": "completed"
    },
    "tags": []
   },
   "outputs": [
    {
     "data": {
      "text/plain": [
       "<AxesSubplot:ylabel='accident rate'>"
      ]
     },
     "execution_count": 43,
     "metadata": {},
     "output_type": "execute_result"
    },
    {
     "data": {
      "image/png": "[encoded data removed]",
      "text/plain": [
       "<Figure size 432x288 with 1 Axes>"
      ]
     },
     "metadata": {
      "needs_background": "light"
     },
     "output_type": "display_data"
    }
   ],
   "source": [
    "occupation_pivot_df = occupation_pivot[\"accident rate\"].to_frame()\n",
    "occupation_pivot_df.reset_index(inplace=True)\n",
    "sns.barplot(x = occupation_pivot_df.index, y = occupation_pivot_df[\"accident rate\"])\n"
   ]
  },
  {
   "cell_type": "markdown",
   "id": "b699be4e",
   "metadata": {
    "papermill": {
     "duration": 0.025569,
     "end_time": "2023-02-01T08:45:57.692460",
     "exception": false,
     "start_time": "2023-02-01T08:45:57.666891",
     "status": "completed"
    },
    "tags": []
   },
   "source": [
    "**Accident rate by gender: you can group the data by gender, and calculate the accident rate (number of accidents per year) for each gender. This will give you an idea of whether there are any differences in accident rates between men and women**"
   ]
  },
  {
   "cell_type": "code",
   "execution_count": 44,
   "id": "5acb1520",
   "metadata": {
    "execution": {
     "iopub.execute_input": "2023-02-01T08:45:57.744783Z",
     "iopub.status.busy": "2023-02-01T08:45:57.743786Z",
     "iopub.status.idle": "2023-02-01T08:45:57.933112Z",
     "shell.execute_reply": "2023-02-01T08:45:57.932227Z"
    },
    "papermill": {
     "duration": 0.217959,
     "end_time": "2023-02-01T08:45:57.935231",
     "exception": false,
     "start_time": "2023-02-01T08:45:57.717272",
     "status": "completed"
    },
    "tags": []
   },
   "outputs": [
    {
     "data": {
      "text/plain": [
       "Text(0.5, 1.0, 'Accident Rate by Gender')"
      ]
     },
     "execution_count": 44,
     "metadata": {},
     "output_type": "execute_result"
    },
    {
     "data": {
      "image/png": "[encoded data removed]",
      "text/plain": [
       "<Figure size 432x288 with 1 Axes>"
      ]
     },
     "metadata": {
      "needs_background": "light"
     },
     "output_type": "display_data"
    }
   ],
   "source": [
    "# Group the data by gender and calculate the number of accidents\n",
    "gender_group = df.groupby(\"Gender of the person\").count()[\"Accident Reason\"]\n",
    "\n",
    "# Calculate the accident rate by dividing the number of accidents by the total number of accidents\n",
    "accident_rate_by_gender = gender_group / len(df)\n",
    "\n",
    "# Plot the accident rate by gender in a bar chart\n",
    "plt.bar(accident_rate_by_gender.index, accident_rate_by_gender)\n",
    "plt.xlabel(\"Gender\")\n",
    "plt.ylabel(\"Accident Rate\")\n",
    "plt.title(\"Accident Rate by Gender\")\n"
   ]
  },
  {
   "cell_type": "markdown",
   "id": "3db7ecfe",
   "metadata": {
    "papermill": {
     "duration": 0.023387,
     "end_time": "2023-02-01T08:45:57.982311",
     "exception": false,
     "start_time": "2023-02-01T08:45:57.958924",
     "status": "completed"
    },
    "tags": []
   },
   "source": [
    "**Accident rate by age: you can group the data by age of the person, and calculate the accident rate (number of accidents per year) for each age group. This will give you an idea of whether there are any differences in accident rates between different age groups**"
   ]
  },
  {
   "cell_type": "code",
   "execution_count": 45,
   "id": "aefb0842",
   "metadata": {
    "execution": {
     "iopub.execute_input": "2023-02-01T08:45:58.031103Z",
     "iopub.status.busy": "2023-02-01T08:45:58.030260Z",
     "iopub.status.idle": "2023-02-01T08:45:58.264870Z",
     "shell.execute_reply": "2023-02-01T08:45:58.263998Z"
    },
    "papermill": {
     "duration": 0.26092,
     "end_time": "2023-02-01T08:45:58.266970",
     "exception": false,
     "start_time": "2023-02-01T08:45:58.006050",
     "status": "completed"
    },
    "tags": []
   },
   "outputs": [
    {
     "data": {
      "text/plain": [
       "Text(0.5, 1.0, 'Accident Rate by Age Group')"
      ]
     },
     "execution_count": 45,
     "metadata": {},
     "output_type": "execute_result"
    },
    {
     "data": {
      "image/png": "[encoded data removed]",
      "text/plain": [
       "<Figure size 432x288 with 1 Axes>"
      ]
     },
     "metadata": {
      "needs_background": "light"
     },
     "output_type": "display_data"
    }
   ],
   "source": [
    "# Create age groups by dividing age into bins\n",
    "df[\"age_group\"] = pd.cut(df[\"Age of the person\"], bins=[0, 20, 30, 40, 50, 60, 70, 80, 90, 100], labels=[\"<20\", \"20-30\", \"30-40\", \"40-50\", \"50-60\", \"60-70\", \"70-80\", \"80-90\", \">90\"])\n",
    "\n",
    "# Group the data by age group and calculate the number of accidents\n",
    "age_group = df.groupby(\"age_group\").count()[\"Accident Reason\"]\n",
    "\n",
    "# Calculate the accident rate by dividing the number of accidents by the total number of accidents\n",
    "accident_rate_by_age = age_group / len(df)\n",
    "\n",
    "# Plot the accident rate by age group in a bar chart\n",
    "plt.bar(accident_rate_by_age.index, accident_rate_by_age)\n",
    "plt.xlabel(\"Age Group\")\n",
    "plt.ylabel(\"Accident Rate\")\n",
    "plt.title(\"Accident Rate by Age Group\")\n"
   ]
  },
  {
   "cell_type": "markdown",
   "id": "6f6f64b9",
   "metadata": {
    "papermill": {
     "duration": 0.024697,
     "end_time": "2023-02-01T08:45:58.315863",
     "exception": false,
     "start_time": "2023-02-01T08:45:58.291166",
     "status": "completed"
    },
    "tags": []
   },
   "source": [
    " use seaborn  for plotting"
   ]
  },
  {
   "cell_type": "code",
   "execution_count": 46,
   "id": "df836db1",
   "metadata": {
    "execution": {
     "iopub.execute_input": "2023-02-01T08:45:58.367605Z",
     "iopub.status.busy": "2023-02-01T08:45:58.367283Z",
     "iopub.status.idle": "2023-02-01T08:45:58.709612Z",
     "shell.execute_reply": "2023-02-01T08:45:58.708148Z"
    },
    "papermill": {
     "duration": 0.371722,
     "end_time": "2023-02-01T08:45:58.712919",
     "exception": false,
     "start_time": "2023-02-01T08:45:58.341197",
     "status": "completed"
    },
    "tags": []
   },
   "outputs": [
    {
     "data": {
      "text/plain": [
       "Text(0.5, 1.0, 'Accident Rate by Age Group')"
      ]
     },
     "execution_count": 46,
     "metadata": {},
     "output_type": "execute_result"
    },
    {
     "data": {
      "image/png": "[encoded data removed]",
      "text/plain": [
       "<Figure size 432x288 with 1 Axes>"
      ]
     },
     "metadata": {
      "needs_background": "light"
     },
     "output_type": "display_data"
    }
   ],
   "source": [
    "sns.barplot(x = accident_rate_by_age.index, y = accident_rate_by_age)\n",
    "plt.xlabel(\"Age Group\")\n",
    "plt.ylabel(\"Accident Rate\")\n",
    "plt.title(\"Accident Rate by Age Group\")\n"
   ]
  },
  {
   "cell_type": "markdown",
   "id": "111af2e9",
   "metadata": {
    "papermill": {
     "duration": 0.036893,
     "end_time": "2023-02-01T08:45:58.788736",
     "exception": false,
     "start_time": "2023-02-01T08:45:58.751843",
     "status": "completed"
    },
    "tags": []
   },
   "source": [
    "**Study the relationship between month and accident: accidents may be repeated due to some specific weather conditions**"
   ]
  },
  {
   "cell_type": "code",
   "execution_count": 47,
   "id": "cc262de3",
   "metadata": {
    "execution": {
     "iopub.execute_input": "2023-02-01T08:45:58.862610Z",
     "iopub.status.busy": "2023-02-01T08:45:58.862184Z",
     "iopub.status.idle": "2023-02-01T08:45:58.872419Z",
     "shell.execute_reply": "2023-02-01T08:45:58.871492Z"
    },
    "papermill": {
     "duration": 0.050543,
     "end_time": "2023-02-01T08:45:58.875331",
     "exception": false,
     "start_time": "2023-02-01T08:45:58.824788",
     "status": "completed"
    },
    "tags": []
   },
   "outputs": [],
   "source": [
    "df['Date'] = pd.to_datetime(df['Date'])\n",
    "df['month'] = df['Date'].dt.month\n"
   ]
  },
  {
   "cell_type": "code",
   "execution_count": 48,
   "id": "13a14b3a",
   "metadata": {
    "execution": {
     "iopub.execute_input": "2023-02-01T08:45:58.950169Z",
     "iopub.status.busy": "2023-02-01T08:45:58.949716Z",
     "iopub.status.idle": "2023-02-01T08:45:59.227511Z",
     "shell.execute_reply": "2023-02-01T08:45:59.226577Z"
    },
    "papermill": {
     "duration": 0.317729,
     "end_time": "2023-02-01T08:45:59.229912",
     "exception": false,
     "start_time": "2023-02-01T08:45:58.912183",
     "status": "completed"
    },
    "tags": []
   },
   "outputs": [
    {
     "data": {
      "text/plain": [
       "<AxesSubplot:xlabel='month', ylabel='count'>"
      ]
     },
     "execution_count": 48,
     "metadata": {},
     "output_type": "execute_result"
    },
    {
     "data": {
      "image/png": "[encoded data removed]",
      "text/plain": [
       "<Figure size 432x288 with 1 Axes>"
      ]
     },
     "metadata": {
      "needs_background": "light"
     },
     "output_type": "display_data"
    }
   ],
   "source": [
    "import seaborn as sns\n",
    "sns.countplot(x='month', data=df)\n"
   ]
  },
  {
   "cell_type": "code",
   "execution_count": 49,
   "id": "df1e3cbe",
   "metadata": {
    "execution": {
     "iopub.execute_input": "2023-02-01T08:45:59.281393Z",
     "iopub.status.busy": "2023-02-01T08:45:59.281097Z",
     "iopub.status.idle": "2023-02-01T08:45:59.504137Z",
     "shell.execute_reply": "2023-02-01T08:45:59.502922Z"
    },
    "papermill": {
     "duration": 0.251214,
     "end_time": "2023-02-01T08:45:59.506650",
     "exception": false,
     "start_time": "2023-02-01T08:45:59.255436",
     "status": "completed"
    },
    "tags": []
   },
   "outputs": [
    {
     "data": {
      "image/png": "[encoded data removed]",
      "text/plain": [
       "<Figure size 432x288 with 1 Axes>"
      ]
     },
     "metadata": {
      "needs_background": "light"
     },
     "output_type": "display_data"
    }
   ],
   "source": [
    "# import pandas as pd\n",
    "# import matplotlib.pyplot as plt\n",
    "\n",
    "# # Read in the mining fatality dataset\n",
    "# df = pd.read_csv('mining_fatality_dataset.csv')\n",
    "\n",
    "# Extract the month from the date column\n",
    "\n",
    "\n",
    "# Group the data by month and count the number of accidents in each month\n",
    "monthly_accidents = df.groupby('month').size()\n",
    "\n",
    "# Plot the data in a bar chart\n",
    "monthly_accidents.plot(kind='bar')\n",
    "plt.xlabel('Month')\n",
    "plt.ylabel('Number of Accidents')\n",
    "plt.title('Accidents by Month')\n",
    "plt.show()\n"
   ]
  },
  {
   "cell_type": "markdown",
   "id": "858a28be",
   "metadata": {
    "papermill": {
     "duration": 0.024786,
     "end_time": "2023-02-01T08:45:59.559549",
     "exception": false,
     "start_time": "2023-02-01T08:45:59.534763",
     "status": "completed"
    },
    "tags": []
   },
   "source": [
    "** Study the relationship between date and accident: accidents may be taking place during some specific dates like month end or month start where more attention would have been given to administrative work.**"
   ]
  },
  {
   "cell_type": "code",
   "execution_count": 50,
   "id": "71c47a45",
   "metadata": {
    "execution": {
     "iopub.execute_input": "2023-02-01T08:45:59.611628Z",
     "iopub.status.busy": "2023-02-01T08:45:59.611290Z",
     "iopub.status.idle": "2023-02-01T08:45:59.621658Z",
     "shell.execute_reply": "2023-02-01T08:45:59.620644Z"
    },
    "papermill": {
     "duration": 0.039427,
     "end_time": "2023-02-01T08:45:59.623792",
     "exception": false,
     "start_time": "2023-02-01T08:45:59.584365",
     "status": "completed"
    },
    "tags": []
   },
   "outputs": [],
   "source": [
    "df['day_of_week'] = df['Date'].dt.dayofweek\n",
    "days = {0:'Monday', 1:'Tuesday', 2:'Wednesday', 3:'Thursday', 4:'Friday', 5:'Saturday', 6:'Sunday'}\n",
    "df['day_of_week'] = df['day_of_week'].map(days)\n"
   ]
  },
  {
   "cell_type": "code",
   "execution_count": 51,
   "id": "e10f3724",
   "metadata": {
    "execution": {
     "iopub.execute_input": "2023-02-01T08:45:59.676695Z",
     "iopub.status.busy": "2023-02-01T08:45:59.675715Z",
     "iopub.status.idle": "2023-02-01T08:45:59.683973Z",
     "shell.execute_reply": "2023-02-01T08:45:59.683092Z"
    },
    "papermill": {
     "duration": 0.036462,
     "end_time": "2023-02-01T08:45:59.686023",
     "exception": false,
     "start_time": "2023-02-01T08:45:59.649561",
     "status": "completed"
    },
    "tags": []
   },
   "outputs": [],
   "source": [
    "from calendar import day_name\n",
    "\n",
    "df['day_of_week'] = df['Date'].dt.dayofweek\n",
    "df['day_of_week'] = df['day_of_week'].apply(lambda x: day_name[x])\n"
   ]
  },
  {
   "cell_type": "code",
   "execution_count": 52,
   "id": "d90b9764",
   "metadata": {
    "execution": {
     "iopub.execute_input": "2023-02-01T08:45:59.739830Z",
     "iopub.status.busy": "2023-02-01T08:45:59.739552Z",
     "iopub.status.idle": "2023-02-01T08:45:59.747985Z",
     "shell.execute_reply": "2023-02-01T08:45:59.746904Z"
    },
    "papermill": {
     "duration": 0.038052,
     "end_time": "2023-02-01T08:45:59.750132",
     "exception": false,
     "start_time": "2023-02-01T08:45:59.712080",
     "status": "completed"
    },
    "tags": []
   },
   "outputs": [],
   "source": [
    "df['Date'] = pd.to_datetime(df['Date'])\n"
   ]
  },
  {
   "cell_type": "code",
   "execution_count": 53,
   "id": "56d598fd",
   "metadata": {
    "execution": {
     "iopub.execute_input": "2023-02-01T08:45:59.801106Z",
     "iopub.status.busy": "2023-02-01T08:45:59.800246Z",
     "iopub.status.idle": "2023-02-01T08:45:59.806825Z",
     "shell.execute_reply": "2023-02-01T08:45:59.805980Z"
    },
    "papermill": {
     "duration": 0.034608,
     "end_time": "2023-02-01T08:45:59.809081",
     "exception": false,
     "start_time": "2023-02-01T08:45:59.774473",
     "status": "completed"
    },
    "tags": []
   },
   "outputs": [],
   "source": [
    "df['month'] = df['Date'].dt.month\n",
    "df['day_of_week'] = df['Date'].dt.dayofweek\n"
   ]
  },
  {
   "cell_type": "code",
   "execution_count": 54,
   "id": "809a920c",
   "metadata": {
    "execution": {
     "iopub.execute_input": "2023-02-01T08:45:59.859829Z",
     "iopub.status.busy": "2023-02-01T08:45:59.859560Z",
     "iopub.status.idle": "2023-02-01T08:46:00.101963Z",
     "shell.execute_reply": "2023-02-01T08:46:00.100867Z"
    },
    "papermill": {
     "duration": 0.271083,
     "end_time": "2023-02-01T08:46:00.104257",
     "exception": false,
     "start_time": "2023-02-01T08:45:59.833174",
     "status": "completed"
    },
    "tags": []
   },
   "outputs": [
    {
     "data": {
      "text/plain": [
       "<AxesSubplot:xlabel='day_of_week'>"
      ]
     },
     "execution_count": 54,
     "metadata": {},
     "output_type": "execute_result"
    },
    {
     "data": {
      "image/png": "[encoded data removed]",
      "text/plain": [
       "<Figure size 432x288 with 1 Axes>"
      ]
     },
     "metadata": {
      "needs_background": "light"
     },
     "output_type": "display_data"
    }
   ],
   "source": [
    "month_accidents = df.groupby('month').size()\n",
    "month_accidents.plot(kind='bar')\n",
    "\n",
    "# Group by day of the week and visualize the number of accidents that took place during each day\n",
    "day_accidents = df.groupby('day_of_week').size()\n",
    "day_accidents.plot(kind='bar')"
   ]
  },
  {
   "cell_type": "code",
   "execution_count": 55,
   "id": "8f3e7960",
   "metadata": {
    "execution": {
     "iopub.execute_input": "2023-02-01T08:46:00.157430Z",
     "iopub.status.busy": "2023-02-01T08:46:00.156680Z",
     "iopub.status.idle": "2023-02-01T08:46:00.164691Z",
     "shell.execute_reply": "2023-02-01T08:46:00.163771Z"
    },
    "papermill": {
     "duration": 0.036729,
     "end_time": "2023-02-01T08:46:00.166758",
     "exception": false,
     "start_time": "2023-02-01T08:46:00.130029",
     "status": "completed"
    },
    "tags": []
   },
   "outputs": [],
   "source": [
    "# Filter data for specific month\n",
    "df_june = df[df['month'] == 6]\n",
    "\n",
    "# Filter data for specific day of the week\n",
    "df_wednesday = df[df['day_of_week'] == 'Wednesday']"
   ]
  },
  {
   "cell_type": "markdown",
   "id": "51c8ba22",
   "metadata": {
    "papermill": {
     "duration": 0.024952,
     "end_time": "2023-02-01T08:46:00.217059",
     "exception": false,
     "start_time": "2023-02-01T08:46:00.192107",
     "status": "completed"
    },
    "tags": []
   },
   "source": [
    "**Study the relationship between age and shift, subshift: persons of a specific age group may not able to perform their work during a specific shift or subshift**"
   ]
  },
  {
   "cell_type": "code",
   "execution_count": 56,
   "id": "77d51f60",
   "metadata": {
    "execution": {
     "iopub.execute_input": "2023-02-01T08:46:00.269678Z",
     "iopub.status.busy": "2023-02-01T08:46:00.269394Z",
     "iopub.status.idle": "2023-02-01T08:46:00.280166Z",
     "shell.execute_reply": "2023-02-01T08:46:00.278919Z"
    },
    "papermill": {
     "duration": 0.040277,
     "end_time": "2023-02-01T08:46:00.283016",
     "exception": false,
     "start_time": "2023-02-01T08:46:00.242739",
     "status": "completed"
    },
    "tags": []
   },
   "outputs": [
    {
     "name": "stdout",
     "output_type": "stream",
     "text": [
      "Shift  SubShifts\n",
      "1      1A           41.069231\n",
      "2      1B           41.461538\n",
      "       1C           43.493671\n",
      "       1D           43.194030\n",
      "       2A           39.681818\n",
      "3      2B           39.681818\n",
      "       2C           45.903226\n",
      "       2D           40.642857\n",
      "Name: Age of the person, dtype: float64\n"
     ]
    }
   ],
   "source": [
    "# Group data by shift and subshift\n",
    "grouped_data = df.groupby(['Shift', 'SubShifts'])\n",
    "\n",
    "# Calculate mean age for each group\n",
    "mean_age = grouped_data['Age of the person'].mean()\n",
    "print(mean_age)\n"
   ]
  },
  {
   "cell_type": "markdown",
   "id": "bd72a6a4",
   "metadata": {
    "papermill": {
     "duration": 0.025615,
     "end_time": "2023-02-01T08:46:00.335746",
     "exception": false,
     "start_time": "2023-02-01T08:46:00.310131",
     "status": "completed"
    },
    "tags": []
   },
   "source": [
    "**Study the relationship between No. of persons died along and occupation: accidents may take place in case of specific group work using previous mining fatality dataset**"
   ]
  },
  {
   "cell_type": "code",
   "execution_count": 57,
   "id": "9dee4bff",
   "metadata": {
    "execution": {
     "iopub.execute_input": "2023-02-01T08:46:00.391080Z",
     "iopub.status.busy": "2023-02-01T08:46:00.390158Z",
     "iopub.status.idle": "2023-02-01T08:46:00.401188Z",
     "shell.execute_reply": "2023-02-01T08:46:00.399365Z"
    },
    "papermill": {
     "duration": 0.041461,
     "end_time": "2023-02-01T08:46:00.403591",
     "exception": false,
     "start_time": "2023-02-01T08:46:00.362130",
     "status": "completed"
    },
    "tags": []
   },
   "outputs": [
    {
     "name": "stdout",
     "output_type": "stream",
     "text": [
      "Occupation of the person\n",
      "Agent                 0.0\n",
      "Assistant Chainman    0.0\n",
      "Asst. Foreman         0.0\n",
      "Asst. Manager         1.0\n",
      "Asstt. Foreman        0.0\n",
      "                     ... \n",
      "Under Manager         1.5\n",
      "Underground Loader    0.0\n",
      "Unloading Mazdoor     0.0\n",
      "W. Tanker Helper      0.0\n",
      "Welder                0.0\n",
      "Name: No. of persons died along, Length: 232, dtype: float64\n"
     ]
    }
   ],
   "source": [
    "import pandas as pd\n",
    "\n",
    "# Read in the mining fatality dataset\n",
    "\n",
    "\n",
    "# Group the data by occupation and calculate the mean number of persons involved in an accident for each occupation\n",
    "data_grouped = df.groupby(\"Occupation of the person\").mean()[\"No. of persons died along\"]\n",
    "\n",
    "# Print the resulting data\n",
    "print(data_grouped)\n"
   ]
  },
  {
   "cell_type": "code",
   "execution_count": 58,
   "id": "18f8444e",
   "metadata": {
    "execution": {
     "iopub.execute_input": "2023-02-01T08:46:00.457690Z",
     "iopub.status.busy": "2023-02-01T08:46:00.457383Z",
     "iopub.status.idle": "2023-02-01T08:46:03.378737Z",
     "shell.execute_reply": "2023-02-01T08:46:03.377863Z"
    },
    "papermill": {
     "duration": 2.949767,
     "end_time": "2023-02-01T08:46:03.380808",
     "exception": false,
     "start_time": "2023-02-01T08:46:00.431041",
     "status": "completed"
    },
    "tags": []
   },
   "outputs": [
    {
     "data": {
      "image/png": "[encoded data removed]",
      "text/plain": [
       "<Figure size 432x288 with 1 Axes>"
      ]
     },
     "metadata": {
      "needs_background": "light"
     },
     "output_type": "display_data"
    }
   ],
   "source": [
    "import matplotlib.pyplot as plt\n",
    "data_grouped.plot(kind='bar')\n",
    "plt.xlabel(\"Occupation\")\n",
    "plt.ylabel(\"No. of persons died along\")\n",
    "plt.title(\"Relation between occupation and No. of persons died along\")\n",
    "plt.show()\n"
   ]
  },
  {
   "cell_type": "code",
   "execution_count": 59,
   "id": "837ea50e",
   "metadata": {
    "execution": {
     "iopub.execute_input": "2023-02-01T08:46:03.437133Z",
     "iopub.status.busy": "2023-02-01T08:46:03.436426Z",
     "iopub.status.idle": "2023-02-01T08:46:03.447246Z",
     "shell.execute_reply": "2023-02-01T08:46:03.446072Z"
    },
    "papermill": {
     "duration": 0.042511,
     "end_time": "2023-02-01T08:46:03.450151",
     "exception": false,
     "start_time": "2023-02-01T08:46:03.407640",
     "status": "completed"
    },
    "tags": []
   },
   "outputs": [
    {
     "name": "stdout",
     "output_type": "stream",
     "text": [
      "Owner Company            Age of the person\n",
      " Western Coalfields Ltd  25                   1\n",
      "Bharat Coking Coal Lt    22                   1\n",
      "                         24                   1\n",
      "                         25                   1\n",
      "                         36                   1\n",
      "                                             ..\n",
      "Western Coalfields Ltd.  55                   3\n",
      "                         56                   2\n",
      "                         57                   1\n",
      "                         58                   3\n",
      "                         60                   1\n",
      "Name: Accident Reason, Length: 307, dtype: int64\n"
     ]
    }
   ],
   "source": [
    "\n",
    "# Group the data by company and age\n",
    "grouped_data = df.groupby([\"Owner Company\", \"Age of the person\"])\n",
    "\n",
    "# Count the number of accidents for each group\n",
    "accident_counts = grouped_data[\"Accident Reason\"].count()\n",
    "\n",
    "# Print the results\n",
    "print(accident_counts)"
   ]
  },
  {
   "cell_type": "code",
   "execution_count": null,
   "id": "3e9329b5",
   "metadata": {
    "papermill": {
     "duration": 0.02696,
     "end_time": "2023-02-01T08:46:03.505547",
     "exception": false,
     "start_time": "2023-02-01T08:46:03.478587",
     "status": "completed"
    },
    "tags": []
   },
   "outputs": [],
   "source": []
  },
  {
   "cell_type": "code",
   "execution_count": null,
   "id": "977f59ff",
   "metadata": {
    "papermill": {
     "duration": 0.026635,
     "end_time": "2023-02-01T08:46:03.559291",
     "exception": false,
     "start_time": "2023-02-01T08:46:03.532656",
     "status": "completed"
    },
    "tags": []
   },
   "outputs": [],
   "source": []
  }
 ],
 "metadata": {
  "kernelspec": {
   "display_name": "Python 3",
   "language": "python",
   "name": "python3"
  },
  "language_info": {
   "codemirror_mode": {
    "name": "ipython",
    "version": 3
   },
   "file_extension": ".py",
   "mimetype": "text/x-python",
   "name": "python",
   "nbconvert_exporter": "python",
   "pygments_lexer": "ipython3",
   "version": "3.7.12"
  },
  "papermill": {
   "default_parameters": {},
   "duration": 226.618836,
   "end_time": "2023-02-01T08:46:07.435653",
   "environment_variables": {},
   "exception": null,
   "input_path": "__notebook__.ipynb",
   "output_path": "__notebook__.ipynb",
   "parameters": {},
   "start_time": "2023-02-01T08:42:20.816817",
   "version": "2.3.4"
  },
  "widgets": {
   "application/vnd.jupyter.widget-state+json": {
    "state": {
     "009ffa1f78504fd6a5eef2414d2bec36": {
      "model_module": "@jupyter-widgets/base",
      "model_module_version": "1.2.0",
      "model_name": "LayoutModel",
      "state": {
       "_model_module": "@jupyter-widgets/base",
       "_model_module_version": "1.2.0",
       "_model_name": "LayoutModel",
       "_view_count": null,
       "_view_module": "@jupyter-widgets/base",
       "_view_module_version": "1.2.0",
       "_view_name": "LayoutView",
       "align_content": null,
       "align_items": null,
       "align_self": null,
       "border": null,
       "bottom": null,
       "display": null,
       "flex": null,
       "flex_flow": null,
       "grid_area": null,
       "grid_auto_columns": null,
       "grid_auto_flow": null,
       "grid_auto_rows": null,
       "grid_column": null,
       "grid_gap": null,
       "grid_row": null,
       "grid_template_areas": null,
       "grid_template_columns": null,
       "grid_template_rows": null,
       "height": null,
       "justify_content": null,
       "justify_items": null,
       "left": null,
       "margin": null,
       "max_height": null,
       "max_width": null,
       "min_height": null,
       "min_width": null,
       "object_fit": null,
       "object_position": null,
       "order": null,
       "overflow": null,
       "overflow_x": null,
       "overflow_y": null,
       "padding": null,
       "right": null,
       "top": null,
       "visibility": null,
       "width": null
      }
     },
     "03a2676d061c4b3c89bd59f1c4a25142": {
      "model_module": "@jupyter-widgets/base",
      "model_module_version": "1.2.0",
      "model_name": "LayoutModel",
      "state": {
       "_model_module": "@jupyter-widgets/base",
       "_model_module_version": "1.2.0",
       "_model_name": "LayoutModel",
       "_view_count": null,
       "_view_module": "@jupyter-widgets/base",
       "_view_module_version": "1.2.0",
       "_view_name": "LayoutView",
       "align_content": null,
       "align_items": null,
       "align_self": null,
       "border": null,
       "bottom": null,
       "display": null,
       "flex": null,
       "flex_flow": null,
       "grid_area": null,
       "grid_auto_columns": null,
       "grid_auto_flow": null,
       "grid_auto_rows": null,
       "grid_column": null,
       "grid_gap": null,
       "grid_row": null,
       "grid_template_areas": null,
       "grid_template_columns": null,
       "grid_template_rows": null,
       "height": null,
       "justify_content": null,
       "justify_items": null,
       "left": null,
       "margin": null,
       "max_height": null,
       "max_width": null,
       "min_height": null,
       "min_width": null,
       "object_fit": null,
       "object_position": null,
       "order": null,
       "overflow": null,
       "overflow_x": null,
       "overflow_y": null,
       "padding": null,
       "right": null,
       "top": null,
       "visibility": null,
       "width": null
      }
     },
     "04973bf91613416db41a583de54b0631": {
      "model_module": "@jupyter-widgets/controls",
      "model_module_version": "1.5.0",
      "model_name": "HBoxModel",
      "state": {
       "_dom_classes": [],
       "_model_module": "@jupyter-widgets/controls",
       "_model_module_version": "1.5.0",
       "_model_name": "HBoxModel",
       "_view_count": null,
       "_view_module": "@jupyter-widgets/controls",
       "_view_module_version": "1.5.0",
       "_view_name": "HBoxView",
       "box_style": "",
       "children": [
        "IPY_MODEL_145be8191d604dc3b59c4dd53981a9e9",
        "IPY_MODEL_b1037c25e1374e5a928e3135fad89eae",
        "IPY_MODEL_bcfd3c56ef8d4b8ab07df84d7e3f8fdb"
       ],
       "layout": "IPY_MODEL_e3b2aa93b2bc44c0bf1aa27ba33e3a83"
      }
     },
     "08360bb2a92843b282488410194bac3c": {
      "model_module": "@jupyter-widgets/controls",
      "model_module_version": "1.5.0",
      "model_name": "HTMLModel",
      "state": {
       "_dom_classes": [],
       "_model_module": "@jupyter-widgets/controls",
       "_model_module_version": "1.5.0",
       "_model_name": "HTMLModel",
       "_view_count": null,
       "_view_module": "@jupyter-widgets/controls",
       "_view_module_version": "1.5.0",
       "_view_name": "HTMLView",
       "description": "",
       "description_tooltip": null,
       "layout": "IPY_MODEL_dc471968738e4a36bb99ded486f6471b",
       "placeholder": "​",
       "style": "IPY_MODEL_5e9d54514e83493687d9cf3b4f3af850",
       "value": "Epoch 7: 100%"
      }
     },
     "0a77bf2c21e14118ba7433beb8e14ef9": {
      "model_module": "@jupyter-widgets/controls",
      "model_module_version": "1.5.0",
      "model_name": "FloatProgressModel",
      "state": {
       "_dom_classes": [],
       "_model_module": "@jupyter-widgets/controls",
       "_model_module_version": "1.5.0",
       "_model_name": "FloatProgressModel",
       "_view_count": null,
       "_view_module": "@jupyter-widgets/controls",
       "_view_module_version": "1.5.0",
       "_view_name": "ProgressView",
       "bar_style": "",
       "description": "",
       "description_tooltip": null,
       "layout": "IPY_MODEL_607dd534312b4e0daf736c53fba4f602",
       "max": 81.0,
       "min": 0.0,
       "orientation": "horizontal",
       "style": "IPY_MODEL_74eb0dc596474df78a13c8fc5fa960b9",
       "value": 81.0
      }
     },
     "0ce9c9e0785940dc8d29acc38e1388cf": {
      "model_module": "@jupyter-widgets/controls",
      "model_module_version": "1.5.0",
      "model_name": "DescriptionStyleModel",
      "state": {
       "_model_module": "@jupyter-widgets/controls",
       "_model_module_version": "1.5.0",
       "_model_name": "DescriptionStyleModel",
       "_view_count": null,
       "_view_module": "@jupyter-widgets/base",
       "_view_module_version": "1.2.0",
       "_view_name": "StyleView",
       "description_width": ""
      }
     },
     "0efb6e01ddda4337afe67a5f9bab873e": {
      "model_module": "@jupyter-widgets/controls",
      "model_module_version": "1.5.0",
      "model_name": "FloatProgressModel",
      "state": {
       "_dom_classes": [],
       "_model_module": "@jupyter-widgets/controls",
       "_model_module_version": "1.5.0",
       "_model_name": "FloatProgressModel",
       "_view_count": null,
       "_view_module": "@jupyter-widgets/controls",
       "_view_module_version": "1.5.0",
       "_view_name": "ProgressView",
       "bar_style": "",
       "description": "",
       "description_tooltip": null,
       "layout": "IPY_MODEL_79228946786148438beab7166d524031",
       "max": 81.0,
       "min": 0.0,
       "orientation": "horizontal",
       "style": "IPY_MODEL_1e3a4976d5774e11bbc2b83914827c97",
       "value": 81.0
      }
     },
     "0f7607e85d4544dfb34941cba4b68044": {
      "model_module": "@jupyter-widgets/controls",
      "model_module_version": "1.5.0",
      "model_name": "HBoxModel",
      "state": {
       "_dom_classes": [],
       "_model_module": "@jupyter-widgets/controls",
       "_model_module_version": "1.5.0",
       "_model_name": "HBoxModel",
       "_view_count": null,
       "_view_module": "@jupyter-widgets/controls",
       "_view_module_version": "1.5.0",
       "_view_name": "HBoxView",
       "box_style": "",
       "children": [
        "IPY_MODEL_dad8311fa90645099337a295acc6ca06",
        "IPY_MODEL_aaf0651e4c334a82ab830124a03a556b",
        "IPY_MODEL_85580d5d952846b7a7220916a8a05c07"
       ],
       "layout": "IPY_MODEL_e3589f5428324052aa1da989eedd0f91"
      }
     },
     "0f848ee901b2415398ddc012bcbb4c75": {
      "model_module": "@jupyter-widgets/controls",
      "model_module_version": "1.5.0",
      "model_name": "HTMLModel",
      "state": {
       "_dom_classes": [],
       "_model_module": "@jupyter-widgets/controls",
       "_model_module_version": "1.5.0",
       "_model_name": "HTMLModel",
       "_view_count": null,
       "_view_module": "@jupyter-widgets/controls",
       "_view_module_version": "1.5.0",
       "_view_name": "HTMLView",
       "description": "",
       "description_tooltip": null,
       "layout": "IPY_MODEL_c3fed47b307b4eadb2e38c2e578594ac",
       "placeholder": "​",
       "style": "IPY_MODEL_ea66506329194268848645d903a4ea5e",
       "value": "Epoch 5: 100%"
      }
     },
     "10482ea8339f48dd86488598c2f574a9": {
      "model_module": "@jupyter-widgets/controls",
      "model_module_version": "1.5.0",
      "model_name": "HTMLModel",
      "state": {
       "_dom_classes": [],
       "_model_module": "@jupyter-widgets/controls",
       "_model_module_version": "1.5.0",
       "_model_name": "HTMLModel",
       "_view_count": null,
       "_view_module": "@jupyter-widgets/controls",
       "_view_module_version": "1.5.0",
       "_view_name": "HTMLView",
       "description": "",
       "description_tooltip": null,
       "layout": "IPY_MODEL_c07807a282bd4e838c2758fa6147eb57",
       "placeholder": "​",
       "style": "IPY_MODEL_7fe0c61416474154b1bb5b3e93ecb3c3",
       "value": " 81/81 [00:13&lt;00:00,  6.69it/s, training_loss=0.003]"
      }
     },
     "110d5f01ac3d47fda7ae91bbe0a7fe6e": {
      "model_module": "@jupyter-widgets/base",
      "model_module_version": "1.2.0",
      "model_name": "LayoutModel",
      "state": {
       "_model_module": "@jupyter-widgets/base",
       "_model_module_version": "1.2.0",
       "_model_name": "LayoutModel",
       "_view_count": null,
       "_view_module": "@jupyter-widgets/base",
       "_view_module_version": "1.2.0",
       "_view_name": "LayoutView",
       "align_content": null,
       "align_items": null,
       "align_self": null,
       "border": null,
       "bottom": null,
       "display": null,
       "flex": null,
       "flex_flow": null,
       "grid_area": null,
       "grid_auto_columns": null,
       "grid_auto_flow": null,
       "grid_auto_rows": null,
       "grid_column": null,
       "grid_gap": null,
       "grid_row": null,
       "grid_template_areas": null,
       "grid_template_columns": null,
       "grid_template_rows": null,
       "height": null,
       "justify_content": null,
       "justify_items": null,
       "left": null,
       "margin": null,
       "max_height": null,
       "max_width": null,
       "min_height": null,
       "min_width": null,
       "object_fit": null,
       "object_position": null,
       "order": null,
       "overflow": null,
       "overflow_x": null,
       "overflow_y": null,
       "padding": null,
       "right": null,
       "top": null,
       "visibility": null,
       "width": null
      }
     },
     "1336f4b1a3c74919ad1af4dbd1da0cc5": {
      "model_module": "@jupyter-widgets/controls",
      "model_module_version": "1.5.0",
      "model_name": "HTMLModel",
      "state": {
       "_dom_classes": [],
       "_model_module": "@jupyter-widgets/controls",
       "_model_module_version": "1.5.0",
       "_model_name": "HTMLModel",
       "_view_count": null,
       "_view_module": "@jupyter-widgets/controls",
       "_view_module_version": "1.5.0",
       "_view_name": "HTMLView",
       "description": "",
       "description_tooltip": null,
       "layout": "IPY_MODEL_fb572ef72f064e7c82cbe34c239e8f85",
       "placeholder": "​",
       "style": "IPY_MODEL_783bff276cc34f7499d08e531198fab5",
       "value": " 570/570 [00:00&lt;00:00, 17.9kB/s]"
      }
     },
     "13bfa4b798d04393a26b4f2deacace13": {
      "model_module": "@jupyter-widgets/controls",
      "model_module_version": "1.5.0",
      "model_name": "FloatProgressModel",
      "state": {
       "_dom_classes": [],
       "_model_module": "@jupyter-widgets/controls",
       "_model_module_version": "1.5.0",
       "_model_name": "FloatProgressModel",
       "_view_count": null,
       "_view_module": "@jupyter-widgets/controls",
       "_view_module_version": "1.5.0",
       "_view_name": "ProgressView",
       "bar_style": "",
       "description": "",
       "description_tooltip": null,
       "layout": "IPY_MODEL_5ecb946ad52141b18a912a121a0253a7",
       "max": 81.0,
       "min": 0.0,
       "orientation": "horizontal",
       "style": "IPY_MODEL_2a37469ab7b54a1c8a80cd8a5824a731",
       "value": 81.0
      }
     },
     "1430d5793e0240ebb6d8f1630c9c73f9": {
      "model_module": "@jupyter-widgets/base",
      "model_module_version": "1.2.0",
      "model_name": "LayoutModel",
      "state": {
       "_model_module": "@jupyter-widgets/base",
       "_model_module_version": "1.2.0",
       "_model_name": "LayoutModel",
       "_view_count": null,
       "_view_module": "@jupyter-widgets/base",
       "_view_module_version": "1.2.0",
       "_view_name": "LayoutView",
       "align_content": null,
       "align_items": null,
       "align_self": null,
       "border": null,
       "bottom": null,
       "display": null,
       "flex": null,
       "flex_flow": null,
       "grid_area": null,
       "grid_auto_columns": null,
       "grid_auto_flow": null,
       "grid_auto_rows": null,
       "grid_column": null,
       "grid_gap": null,
       "grid_row": null,
       "grid_template_areas": null,
       "grid_template_columns": null,
       "grid_template_rows": null,
       "height": null,
       "justify_content": null,
       "justify_items": null,
       "left": null,
       "margin": null,
       "max_height": null,
       "max_width": null,
       "min_height": null,
       "min_width": null,
       "object_fit": null,
       "object_position": null,
       "order": null,
       "overflow": null,
       "overflow_x": null,
       "overflow_y": null,
       "padding": null,
       "right": null,
       "top": null,
       "visibility": null,
       "width": null
      }
     },
     "145be8191d604dc3b59c4dd53981a9e9": {
      "model_module": "@jupyter-widgets/controls",
      "model_module_version": "1.5.0",
      "model_name": "HTMLModel",
      "state": {
       "_dom_classes": [],
       "_model_module": "@jupyter-widgets/controls",
       "_model_module_version": "1.5.0",
       "_model_name": "HTMLModel",
       "_view_count": null,
       "_view_module": "@jupyter-widgets/controls",
       "_view_module_version": "1.5.0",
       "_view_name": "HTMLView",
       "description": "",
       "description_tooltip": null,
       "layout": "IPY_MODEL_4a016bbae67f45e1a97b00fb3c23265d",
       "placeholder": "​",
       "style": "IPY_MODEL_a46b1d67bdf14a54a630448d31b11416",
       "value": "Epoch 1: 100%"
      }
     },
     "1719324e5a4e45398fee7b595e6c0ef9": {
      "model_module": "@jupyter-widgets/controls",
      "model_module_version": "1.5.0",
      "model_name": "ProgressStyleModel",
      "state": {
       "_model_module": "@jupyter-widgets/controls",
       "_model_module_version": "1.5.0",
       "_model_name": "ProgressStyleModel",
       "_view_count": null,
       "_view_module": "@jupyter-widgets/base",
       "_view_module_version": "1.2.0",
       "_view_name": "StyleView",
       "bar_color": null,
       "description_width": ""
      }
     },
     "1a01c5d3cdad4ba0ad720fac9bdc24ea": {
      "model_module": "@jupyter-widgets/controls",
      "model_module_version": "1.5.0",
      "model_name": "HTMLModel",
      "state": {
       "_dom_classes": [],
       "_model_module": "@jupyter-widgets/controls",
       "_model_module_version": "1.5.0",
       "_model_name": "HTMLModel",
       "_view_count": null,
       "_view_module": "@jupyter-widgets/controls",
       "_view_module_version": "1.5.0",
       "_view_name": "HTMLView",
       "description": "",
       "description_tooltip": null,
       "layout": "IPY_MODEL_427faac1033c4cdcbac236d4d23d70d6",
       "placeholder": "​",
       "style": "IPY_MODEL_61374f91ca8e44cba8716d336ce4e561",
       "value": " 28.0/28.0 [00:00&lt;00:00, 1.05kB/s]"
      }
     },
     "1d7f1af850be4eebac144263d19f8b43": {
      "model_module": "@jupyter-widgets/controls",
      "model_module_version": "1.5.0",
      "model_name": "HTMLModel",
      "state": {
       "_dom_classes": [],
       "_model_module": "@jupyter-widgets/controls",
       "_model_module_version": "1.5.0",
       "_model_name": "HTMLModel",
       "_view_count": null,
       "_view_module": "@jupyter-widgets/controls",
       "_view_module_version": "1.5.0",
       "_view_name": "HTMLView",
       "description": "",
       "description_tooltip": null,
       "layout": "IPY_MODEL_2bc672f56c414db4a2431b19fca9479e",
       "placeholder": "​",
       "style": "IPY_MODEL_72433415fac74a6c9383376354792261",
       "value": " 81/81 [00:13&lt;00:00,  6.68it/s, training_loss=0.004]"
      }
     },
     "1e3a4976d5774e11bbc2b83914827c97": {
      "model_module": "@jupyter-widgets/controls",
      "model_module_version": "1.5.0",
      "model_name": "ProgressStyleModel",
      "state": {
       "_model_module": "@jupyter-widgets/controls",
       "_model_module_version": "1.5.0",
       "_model_name": "ProgressStyleModel",
       "_view_count": null,
       "_view_module": "@jupyter-widgets/base",
       "_view_module_version": "1.2.0",
       "_view_name": "StyleView",
       "bar_color": null,
       "description_width": ""
      }
     },
     "24a4bcf7432e4074a652cb37be85c03b": {
      "model_module": "@jupyter-widgets/controls",
      "model_module_version": "1.5.0",
      "model_name": "DescriptionStyleModel",
      "state": {
       "_model_module": "@jupyter-widgets/controls",
       "_model_module_version": "1.5.0",
       "_model_name": "DescriptionStyleModel",
       "_view_count": null,
       "_view_module": "@jupyter-widgets/base",
       "_view_module_version": "1.2.0",
       "_view_name": "StyleView",
       "description_width": ""
      }
     },
     "2596d1a42e1949d78491bd6da048ca6d": {
      "model_module": "@jupyter-widgets/controls",
      "model_module_version": "1.5.0",
      "model_name": "HBoxModel",
      "state": {
       "_dom_classes": [],
       "_model_module": "@jupyter-widgets/controls",
       "_model_module_version": "1.5.0",
       "_model_name": "HBoxModel",
       "_view_count": null,
       "_view_module": "@jupyter-widgets/controls",
       "_view_module_version": "1.5.0",
       "_view_name": "HBoxView",
       "box_style": "",
       "children": [
        "IPY_MODEL_a8ca5e0ce3e2473da2eb30145f0f31a3",
        "IPY_MODEL_13bfa4b798d04393a26b4f2deacace13",
        "IPY_MODEL_a81664f023a6439fb09f8480a6592966"
       ],
       "layout": "IPY_MODEL_b0e84c76b3bf498aa702b4f605330c7e"
      }
     },
     "26c945bcc50e41af96474fc2b8fa2f54": {
      "model_module": "@jupyter-widgets/base",
      "model_module_version": "1.2.0",
      "model_name": "LayoutModel",
      "state": {
       "_model_module": "@jupyter-widgets/base",
       "_model_module_version": "1.2.0",
       "_model_name": "LayoutModel",
       "_view_count": null,
       "_view_module": "@jupyter-widgets/base",
       "_view_module_version": "1.2.0",
       "_view_name": "LayoutView",
       "align_content": null,
       "align_items": null,
       "align_self": null,
       "border": null,
       "bottom": null,
       "display": null,
       "flex": null,
       "flex_flow": null,
       "grid_area": null,
       "grid_auto_columns": null,
       "grid_auto_flow": null,
       "grid_auto_rows": null,
       "grid_column": null,
       "grid_gap": null,
       "grid_row": null,
       "grid_template_areas": null,
       "grid_template_columns": null,
       "grid_template_rows": null,
       "height": null,
       "justify_content": null,
       "justify_items": null,
       "left": null,
       "margin": null,
       "max_height": null,
       "max_width": null,
       "min_height": null,
       "min_width": null,
       "object_fit": null,
       "object_position": null,
       "order": null,
       "overflow": null,
       "overflow_x": null,
       "overflow_y": null,
       "padding": null,
       "right": null,
       "top": null,
       "visibility": null,
       "width": null
      }
     },
     "27882a8a318a48c7ae5c28c3bb79b0ab": {
      "model_module": "@jupyter-widgets/base",
      "model_module_version": "1.2.0",
      "model_name": "LayoutModel",
      "state": {
       "_model_module": "@jupyter-widgets/base",
       "_model_module_version": "1.2.0",
       "_model_name": "LayoutModel",
       "_view_count": null,
       "_view_module": "@jupyter-widgets/base",
       "_view_module_version": "1.2.0",
       "_view_name": "LayoutView",
       "align_content": null,
       "align_items": null,
       "align_self": null,
       "border": null,
       "bottom": null,
       "display": null,
       "flex": null,
       "flex_flow": null,
       "grid_area": null,
       "grid_auto_columns": null,
       "grid_auto_flow": null,
       "grid_auto_rows": null,
       "grid_column": null,
       "grid_gap": null,
       "grid_row": null,
       "grid_template_areas": null,
       "grid_template_columns": null,
       "grid_template_rows": null,
       "height": null,
       "justify_content": null,
       "justify_items": null,
       "left": null,
       "margin": null,
       "max_height": null,
       "max_width": null,
       "min_height": null,
       "min_width": null,
       "object_fit": null,
       "object_position": null,
       "order": null,
       "overflow": null,
       "overflow_x": null,
       "overflow_y": null,
       "padding": null,
       "right": null,
       "top": null,
       "visibility": null,
       "width": null
      }
     },
     "29571512d82145fd938e05c01f20f0b4": {
      "model_module": "@jupyter-widgets/controls",
      "model_module_version": "1.5.0",
      "model_name": "FloatProgressModel",
      "state": {
       "_dom_classes": [],
       "_model_module": "@jupyter-widgets/controls",
       "_model_module_version": "1.5.0",
       "_model_name": "FloatProgressModel",
       "_view_count": null,
       "_view_module": "@jupyter-widgets/controls",
       "_view_module_version": "1.5.0",
       "_view_name": "ProgressView",
       "bar_style": "success",
       "description": "",
       "description_tooltip": null,
       "layout": "IPY_MODEL_4082231b87af4af2ac20a12b9c068453",
       "max": 10.0,
       "min": 0.0,
       "orientation": "horizontal",
       "style": "IPY_MODEL_acaad4f3a545451eb53bf5221397b7ab",
       "value": 10.0
      }
     },
     "2a37469ab7b54a1c8a80cd8a5824a731": {
      "model_module": "@jupyter-widgets/controls",
      "model_module_version": "1.5.0",
      "model_name": "ProgressStyleModel",
      "state": {
       "_model_module": "@jupyter-widgets/controls",
       "_model_module_version": "1.5.0",
       "_model_name": "ProgressStyleModel",
       "_view_count": null,
       "_view_module": "@jupyter-widgets/base",
       "_view_module_version": "1.2.0",
       "_view_name": "StyleView",
       "bar_color": null,
       "description_width": ""
      }
     },
     "2bb8721003564cb2bcbe26e1a299a53c": {
      "model_module": "@jupyter-widgets/base",
      "model_module_version": "1.2.0",
      "model_name": "LayoutModel",
      "state": {
       "_model_module": "@jupyter-widgets/base",
       "_model_module_version": "1.2.0",
       "_model_name": "LayoutModel",
       "_view_count": null,
       "_view_module": "@jupyter-widgets/base",
       "_view_module_version": "1.2.0",
       "_view_name": "LayoutView",
       "align_content": null,
       "align_items": null,
       "align_self": null,
       "border": null,
       "bottom": null,
       "display": null,
       "flex": null,
       "flex_flow": null,
       "grid_area": null,
       "grid_auto_columns": null,
       "grid_auto_flow": null,
       "grid_auto_rows": null,
       "grid_column": null,
       "grid_gap": null,
       "grid_row": null,
       "grid_template_areas": null,
       "grid_template_columns": null,
       "grid_template_rows": null,
       "height": null,
       "justify_content": null,
       "justify_items": null,
       "left": null,
       "margin": null,
       "max_height": null,
       "max_width": null,
       "min_height": null,
       "min_width": null,
       "object_fit": null,
       "object_position": null,
       "order": null,
       "overflow": null,
       "overflow_x": null,
       "overflow_y": null,
       "padding": null,
       "right": null,
       "top": null,
       "visibility": null,
       "width": null
      }
     },
     "2bc672f56c414db4a2431b19fca9479e": {
      "model_module": "@jupyter-widgets/base",
      "model_module_version": "1.2.0",
      "model_name": "LayoutModel",
      "state": {
       "_model_module": "@jupyter-widgets/base",
       "_model_module_version": "1.2.0",
       "_model_name": "LayoutModel",
       "_view_count": null,
       "_view_module": "@jupyter-widgets/base",
       "_view_module_version": "1.2.0",
       "_view_name": "LayoutView",
       "align_content": null,
       "align_items": null,
       "align_self": null,
       "border": null,
       "bottom": null,
       "display": null,
       "flex": null,
       "flex_flow": null,
       "grid_area": null,
       "grid_auto_columns": null,
       "grid_auto_flow": null,
       "grid_auto_rows": null,
       "grid_column": null,
       "grid_gap": null,
       "grid_row": null,
       "grid_template_areas": null,
       "grid_template_columns": null,
       "grid_template_rows": null,
       "height": null,
       "justify_content": null,
       "justify_items": null,
       "left": null,
       "margin": null,
       "max_height": null,
       "max_width": null,
       "min_height": null,
       "min_width": null,
       "object_fit": null,
       "object_position": null,
       "order": null,
       "overflow": null,
       "overflow_x": null,
       "overflow_y": null,
       "padding": null,
       "right": null,
       "top": null,
       "visibility": null,
       "width": null
      }
     },
     "2cdf237bc22445c08028b53891d75618": {
      "model_module": "@jupyter-widgets/controls",
      "model_module_version": "1.5.0",
      "model_name": "DescriptionStyleModel",
      "state": {
       "_model_module": "@jupyter-widgets/controls",
       "_model_module_version": "1.5.0",
       "_model_name": "DescriptionStyleModel",
       "_view_count": null,
       "_view_module": "@jupyter-widgets/base",
       "_view_module_version": "1.2.0",
       "_view_name": "StyleView",
       "description_width": ""
      }
     },
     "2ee8092b272a403ababe0767c3fb5646": {
      "model_module": "@jupyter-widgets/controls",
      "model_module_version": "1.5.0",
      "model_name": "HTMLModel",
      "state": {
       "_dom_classes": [],
       "_model_module": "@jupyter-widgets/controls",
       "_model_module_version": "1.5.0",
       "_model_name": "HTMLModel",
       "_view_count": null,
       "_view_module": "@jupyter-widgets/controls",
       "_view_module_version": "1.5.0",
       "_view_name": "HTMLView",
       "description": "",
       "description_tooltip": null,
       "layout": "IPY_MODEL_9d047d75900b4e15b9e0a057e7d81ffe",
       "placeholder": "​",
       "style": "IPY_MODEL_9faf43a5f7e245aa84c7381986b9d0b5",
       "value": "Epoch 2: 100%"
      }
     },
     "302d9783478e438bbdf93ecbc2bf6d8a": {
      "model_module": "@jupyter-widgets/base",
      "model_module_version": "1.2.0",
      "model_name": "LayoutModel",
      "state": {
       "_model_module": "@jupyter-widgets/base",
       "_model_module_version": "1.2.0",
       "_model_name": "LayoutModel",
       "_view_count": null,
       "_view_module": "@jupyter-widgets/base",
       "_view_module_version": "1.2.0",
       "_view_name": "LayoutView",
       "align_content": null,
       "align_items": null,
       "align_self": null,
       "border": null,
       "bottom": null,
       "display": null,
       "flex": null,
       "flex_flow": null,
       "grid_area": null,
       "grid_auto_columns": null,
       "grid_auto_flow": null,
       "grid_auto_rows": null,
       "grid_column": null,
       "grid_gap": null,
       "grid_row": null,
       "grid_template_areas": null,
       "grid_template_columns": null,
       "grid_template_rows": null,
       "height": null,
       "justify_content": null,
       "justify_items": null,
       "left": null,
       "margin": null,
       "max_height": null,
       "max_width": null,
       "min_height": null,
       "min_width": null,
       "object_fit": null,
       "object_position": null,
       "order": null,
       "overflow": null,
       "overflow_x": null,
       "overflow_y": null,
       "padding": null,
       "right": null,
       "top": null,
       "visibility": null,
       "width": null
      }
     },
     "30adf1d441924c3b8265ea1906f6443a": {
      "model_module": "@jupyter-widgets/controls",
      "model_module_version": "1.5.0",
      "model_name": "DescriptionStyleModel",
      "state": {
       "_model_module": "@jupyter-widgets/controls",
       "_model_module_version": "1.5.0",
       "_model_name": "DescriptionStyleModel",
       "_view_count": null,
       "_view_module": "@jupyter-widgets/base",
       "_view_module_version": "1.2.0",
       "_view_name": "StyleView",
       "description_width": ""
      }
     },
     "31abd265a5244f1eafe259c6192aae14": {
      "model_module": "@jupyter-widgets/controls",
      "model_module_version": "1.5.0",
      "model_name": "FloatProgressModel",
      "state": {
       "_dom_classes": [],
       "_model_module": "@jupyter-widgets/controls",
       "_model_module_version": "1.5.0",
       "_model_name": "FloatProgressModel",
       "_view_count": null,
       "_view_module": "@jupyter-widgets/controls",
       "_view_module_version": "1.5.0",
       "_view_name": "ProgressView",
       "bar_style": "",
       "description": "",
       "description_tooltip": null,
       "layout": "IPY_MODEL_5de4cf30337f4232a86bbf5f0e8dffbe",
       "max": 81.0,
       "min": 0.0,
       "orientation": "horizontal",
       "style": "IPY_MODEL_aab28396c6da44b7930240446323933e",
       "value": 81.0
      }
     },
     "32f9281c215349a1ad1b9194c0d9ad46": {
      "model_module": "@jupyter-widgets/controls",
      "model_module_version": "1.5.0",
      "model_name": "DescriptionStyleModel",
      "state": {
       "_model_module": "@jupyter-widgets/controls",
       "_model_module_version": "1.5.0",
       "_model_name": "DescriptionStyleModel",
       "_view_count": null,
       "_view_module": "@jupyter-widgets/base",
       "_view_module_version": "1.2.0",
       "_view_name": "StyleView",
       "description_width": ""
      }
     },
     "38bcd4c0676844efab56511b83b03f26": {
      "model_module": "@jupyter-widgets/base",
      "model_module_version": "1.2.0",
      "model_name": "LayoutModel",
      "state": {
       "_model_module": "@jupyter-widgets/base",
       "_model_module_version": "1.2.0",
       "_model_name": "LayoutModel",
       "_view_count": null,
       "_view_module": "@jupyter-widgets/base",
       "_view_module_version": "1.2.0",
       "_view_name": "LayoutView",
       "align_content": null,
       "align_items": null,
       "align_self": null,
       "border": null,
       "bottom": null,
       "display": null,
       "flex": null,
       "flex_flow": null,
       "grid_area": null,
       "grid_auto_columns": null,
       "grid_auto_flow": null,
       "grid_auto_rows": null,
       "grid_column": null,
       "grid_gap": null,
       "grid_row": null,
       "grid_template_areas": null,
       "grid_template_columns": null,
       "grid_template_rows": null,
       "height": null,
       "justify_content": null,
       "justify_items": null,
       "left": null,
       "margin": null,
       "max_height": null,
       "max_width": null,
       "min_height": null,
       "min_width": null,
       "object_fit": null,
       "object_position": null,
       "order": null,
       "overflow": null,
       "overflow_x": null,
       "overflow_y": null,
       "padding": null,
       "right": null,
       "top": null,
       "visibility": null,
       "width": null
      }
     },
     "3a3bccb2028a4631aa0869619465b72e": {
      "model_module": "@jupyter-widgets/controls",
      "model_module_version": "1.5.0",
      "model_name": "HBoxModel",
      "state": {
       "_dom_classes": [],
       "_model_module": "@jupyter-widgets/controls",
       "_model_module_version": "1.5.0",
       "_model_name": "HBoxModel",
       "_view_count": null,
       "_view_module": "@jupyter-widgets/controls",
       "_view_module_version": "1.5.0",
       "_view_name": "HBoxView",
       "box_style": "",
       "children": [
        "IPY_MODEL_08360bb2a92843b282488410194bac3c",
        "IPY_MODEL_3fbcad68deaf4692a66e25b0fa7c2969",
        "IPY_MODEL_6dc7d2be09ee48f1b919762afdfc16a4"
       ],
       "layout": "IPY_MODEL_e7280b1f9012491198d9d5ebedf77e22"
      }
     },
     "3c4196e59c904dad9f5250387ac1fdb1": {
      "model_module": "@jupyter-widgets/base",
      "model_module_version": "1.2.0",
      "model_name": "LayoutModel",
      "state": {
       "_model_module": "@jupyter-widgets/base",
       "_model_module_version": "1.2.0",
       "_model_name": "LayoutModel",
       "_view_count": null,
       "_view_module": "@jupyter-widgets/base",
       "_view_module_version": "1.2.0",
       "_view_name": "LayoutView",
       "align_content": null,
       "align_items": null,
       "align_self": null,
       "border": null,
       "bottom": null,
       "display": null,
       "flex": null,
       "flex_flow": null,
       "grid_area": null,
       "grid_auto_columns": null,
       "grid_auto_flow": null,
       "grid_auto_rows": null,
       "grid_column": null,
       "grid_gap": null,
       "grid_row": null,
       "grid_template_areas": null,
       "grid_template_columns": null,
       "grid_template_rows": null,
       "height": null,
       "justify_content": null,
       "justify_items": null,
       "left": null,
       "margin": null,
       "max_height": null,
       "max_width": null,
       "min_height": null,
       "min_width": null,
       "object_fit": null,
       "object_position": null,
       "order": null,
       "overflow": null,
       "overflow_x": null,
       "overflow_y": null,
       "padding": null,
       "right": null,
       "top": null,
       "visibility": null,
       "width": null
      }
     },
     "3d03dbd2412c4faf9bbbf17b5d67bf97": {
      "model_module": "@jupyter-widgets/base",
      "model_module_version": "1.2.0",
      "model_name": "LayoutModel",
      "state": {
       "_model_module": "@jupyter-widgets/base",
       "_model_module_version": "1.2.0",
       "_model_name": "LayoutModel",
       "_view_count": null,
       "_view_module": "@jupyter-widgets/base",
       "_view_module_version": "1.2.0",
       "_view_name": "LayoutView",
       "align_content": null,
       "align_items": null,
       "align_self": null,
       "border": null,
       "bottom": null,
       "display": null,
       "flex": null,
       "flex_flow": null,
       "grid_area": null,
       "grid_auto_columns": null,
       "grid_auto_flow": null,
       "grid_auto_rows": null,
       "grid_column": null,
       "grid_gap": null,
       "grid_row": null,
       "grid_template_areas": null,
       "grid_template_columns": null,
       "grid_template_rows": null,
       "height": null,
       "justify_content": null,
       "justify_items": null,
       "left": null,
       "margin": null,
       "max_height": null,
       "max_width": null,
       "min_height": null,
       "min_width": null,
       "object_fit": null,
       "object_position": null,
       "order": null,
       "overflow": null,
       "overflow_x": null,
       "overflow_y": null,
       "padding": null,
       "right": null,
       "top": null,
       "visibility": null,
       "width": null
      }
     },
     "3fbcad68deaf4692a66e25b0fa7c2969": {
      "model_module": "@jupyter-widgets/controls",
      "model_module_version": "1.5.0",
      "model_name": "FloatProgressModel",
      "state": {
       "_dom_classes": [],
       "_model_module": "@jupyter-widgets/controls",
       "_model_module_version": "1.5.0",
       "_model_name": "FloatProgressModel",
       "_view_count": null,
       "_view_module": "@jupyter-widgets/controls",
       "_view_module_version": "1.5.0",
       "_view_name": "ProgressView",
       "bar_style": "",
       "description": "",
       "description_tooltip": null,
       "layout": "IPY_MODEL_9935010305e943b3a4cb57880b19c0b6",
       "max": 81.0,
       "min": 0.0,
       "orientation": "horizontal",
       "style": "IPY_MODEL_a9f7c667a8434931b183bce15609ba0e",
       "value": 81.0
      }
     },
     "4082231b87af4af2ac20a12b9c068453": {
      "model_module": "@jupyter-widgets/base",
      "model_module_version": "1.2.0",
      "model_name": "LayoutModel",
      "state": {
       "_model_module": "@jupyter-widgets/base",
       "_model_module_version": "1.2.0",
       "_model_name": "LayoutModel",
       "_view_count": null,
       "_view_module": "@jupyter-widgets/base",
       "_view_module_version": "1.2.0",
       "_view_name": "LayoutView",
       "align_content": null,
       "align_items": null,
       "align_self": null,
       "border": null,
       "bottom": null,
       "display": null,
       "flex": null,
       "flex_flow": null,
       "grid_area": null,
       "grid_auto_columns": null,
       "grid_auto_flow": null,
       "grid_auto_rows": null,
       "grid_column": null,
       "grid_gap": null,
       "grid_row": null,
       "grid_template_areas": null,
       "grid_template_columns": null,
       "grid_template_rows": null,
       "height": null,
       "justify_content": null,
       "justify_items": null,
       "left": null,
       "margin": null,
       "max_height": null,
       "max_width": null,
       "min_height": null,
       "min_width": null,
       "object_fit": null,
       "object_position": null,
       "order": null,
       "overflow": null,
       "overflow_x": null,
       "overflow_y": null,
       "padding": null,
       "right": null,
       "top": null,
       "visibility": null,
       "width": null
      }
     },
     "41a243e75caa4f79a4308b79f8069d33": {
      "model_module": "@jupyter-widgets/controls",
      "model_module_version": "1.5.0",
      "model_name": "HBoxModel",
      "state": {
       "_dom_classes": [],
       "_model_module": "@jupyter-widgets/controls",
       "_model_module_version": "1.5.0",
       "_model_name": "HBoxModel",
       "_view_count": null,
       "_view_module": "@jupyter-widgets/controls",
       "_view_module_version": "1.5.0",
       "_view_name": "HBoxView",
       "box_style": "",
       "children": [
        "IPY_MODEL_0f848ee901b2415398ddc012bcbb4c75",
        "IPY_MODEL_8f2a5f32b15241b5a59de34772eaa398",
        "IPY_MODEL_927b92dea04d4a3a9908abbcb0ee6a49"
       ],
       "layout": "IPY_MODEL_73041fa0de6d403585f485e901113e15"
      }
     },
     "427faac1033c4cdcbac236d4d23d70d6": {
      "model_module": "@jupyter-widgets/base",
      "model_module_version": "1.2.0",
      "model_name": "LayoutModel",
      "state": {
       "_model_module": "@jupyter-widgets/base",
       "_model_module_version": "1.2.0",
       "_model_name": "LayoutModel",
       "_view_count": null,
       "_view_module": "@jupyter-widgets/base",
       "_view_module_version": "1.2.0",
       "_view_name": "LayoutView",
       "align_content": null,
       "align_items": null,
       "align_self": null,
       "border": null,
       "bottom": null,
       "display": null,
       "flex": null,
       "flex_flow": null,
       "grid_area": null,
       "grid_auto_columns": null,
       "grid_auto_flow": null,
       "grid_auto_rows": null,
       "grid_column": null,
       "grid_gap": null,
       "grid_row": null,
       "grid_template_areas": null,
       "grid_template_columns": null,
       "grid_template_rows": null,
       "height": null,
       "justify_content": null,
       "justify_items": null,
       "left": null,
       "margin": null,
       "max_height": null,
       "max_width": null,
       "min_height": null,
       "min_width": null,
       "object_fit": null,
       "object_position": null,
       "order": null,
       "overflow": null,
       "overflow_x": null,
       "overflow_y": null,
       "padding": null,
       "right": null,
       "top": null,
       "visibility": null,
       "width": null
      }
     },
     "43af6edbcba44760bfb70934e54104a0": {
      "model_module": "@jupyter-widgets/controls",
      "model_module_version": "1.5.0",
      "model_name": "HTMLModel",
      "state": {
       "_dom_classes": [],
       "_model_module": "@jupyter-widgets/controls",
       "_model_module_version": "1.5.0",
       "_model_name": "HTMLModel",
       "_view_count": null,
       "_view_module": "@jupyter-widgets/controls",
       "_view_module_version": "1.5.0",
       "_view_name": "HTMLView",
       "description": "",
       "description_tooltip": null,
       "layout": "IPY_MODEL_38bcd4c0676844efab56511b83b03f26",
       "placeholder": "​",
       "style": "IPY_MODEL_24a4bcf7432e4074a652cb37be85c03b",
       "value": "Downloading: 100%"
      }
     },
     "43fd8649918e4f448e688a7ceb1910fd": {
      "model_module": "@jupyter-widgets/controls",
      "model_module_version": "1.5.0",
      "model_name": "HTMLModel",
      "state": {
       "_dom_classes": [],
       "_model_module": "@jupyter-widgets/controls",
       "_model_module_version": "1.5.0",
       "_model_name": "HTMLModel",
       "_view_count": null,
       "_view_module": "@jupyter-widgets/controls",
       "_view_module_version": "1.5.0",
       "_view_name": "HTMLView",
       "description": "",
       "description_tooltip": null,
       "layout": "IPY_MODEL_e317d52193454e49bc3b0dd6797c002d",
       "placeholder": "​",
       "style": "IPY_MODEL_f42917ab1cf4484bbea06744c02b7c83",
       "value": "100%"
      }
     },
     "47d4b7ff9d044776a05fe20add3aa2a5": {
      "model_module": "@jupyter-widgets/controls",
      "model_module_version": "1.5.0",
      "model_name": "DescriptionStyleModel",
      "state": {
       "_model_module": "@jupyter-widgets/controls",
       "_model_module_version": "1.5.0",
       "_model_name": "DescriptionStyleModel",
       "_view_count": null,
       "_view_module": "@jupyter-widgets/base",
       "_view_module_version": "1.2.0",
       "_view_name": "StyleView",
       "description_width": ""
      }
     },
     "4a016bbae67f45e1a97b00fb3c23265d": {
      "model_module": "@jupyter-widgets/base",
      "model_module_version": "1.2.0",
      "model_name": "LayoutModel",
      "state": {
       "_model_module": "@jupyter-widgets/base",
       "_model_module_version": "1.2.0",
       "_model_name": "LayoutModel",
       "_view_count": null,
       "_view_module": "@jupyter-widgets/base",
       "_view_module_version": "1.2.0",
       "_view_name": "LayoutView",
       "align_content": null,
       "align_items": null,
       "align_self": null,
       "border": null,
       "bottom": null,
       "display": null,
       "flex": null,
       "flex_flow": null,
       "grid_area": null,
       "grid_auto_columns": null,
       "grid_auto_flow": null,
       "grid_auto_rows": null,
       "grid_column": null,
       "grid_gap": null,
       "grid_row": null,
       "grid_template_areas": null,
       "grid_template_columns": null,
       "grid_template_rows": null,
       "height": null,
       "justify_content": null,
       "justify_items": null,
       "left": null,
       "margin": null,
       "max_height": null,
       "max_width": null,
       "min_height": null,
       "min_width": null,
       "object_fit": null,
       "object_position": null,
       "order": null,
       "overflow": null,
       "overflow_x": null,
       "overflow_y": null,
       "padding": null,
       "right": null,
       "top": null,
       "visibility": null,
       "width": null
      }
     },
     "4b31fe947ecf4abeb422ac119254895e": {
      "model_module": "@jupyter-widgets/controls",
      "model_module_version": "1.5.0",
      "model_name": "DescriptionStyleModel",
      "state": {
       "_model_module": "@jupyter-widgets/controls",
       "_model_module_version": "1.5.0",
       "_model_name": "DescriptionStyleModel",
       "_view_count": null,
       "_view_module": "@jupyter-widgets/base",
       "_view_module_version": "1.2.0",
       "_view_name": "StyleView",
       "description_width": ""
      }
     },
     "4ec638466e65475ba5ff92e92a1f9031": {
      "model_module": "@jupyter-widgets/base",
      "model_module_version": "1.2.0",
      "model_name": "LayoutModel",
      "state": {
       "_model_module": "@jupyter-widgets/base",
       "_model_module_version": "1.2.0",
       "_model_name": "LayoutModel",
       "_view_count": null,
       "_view_module": "@jupyter-widgets/base",
       "_view_module_version": "1.2.0",
       "_view_name": "LayoutView",
       "align_content": null,
       "align_items": null,
       "align_self": null,
       "border": null,
       "bottom": null,
       "display": null,
       "flex": null,
       "flex_flow": null,
       "grid_area": null,
       "grid_auto_columns": null,
       "grid_auto_flow": null,
       "grid_auto_rows": null,
       "grid_column": null,
       "grid_gap": null,
       "grid_row": null,
       "grid_template_areas": null,
       "grid_template_columns": null,
       "grid_template_rows": null,
       "height": null,
       "justify_content": null,
       "justify_items": null,
       "left": null,
       "margin": null,
       "max_height": null,
       "max_width": null,
       "min_height": null,
       "min_width": null,
       "object_fit": null,
       "object_position": null,
       "order": null,
       "overflow": null,
       "overflow_x": null,
       "overflow_y": null,
       "padding": null,
       "right": null,
       "top": null,
       "visibility": null,
       "width": null
      }
     },
     "5138b15d12974e3b952b4de4e1e960b8": {
      "model_module": "@jupyter-widgets/controls",
      "model_module_version": "1.5.0",
      "model_name": "HTMLModel",
      "state": {
       "_dom_classes": [],
       "_model_module": "@jupyter-widgets/controls",
       "_model_module_version": "1.5.0",
       "_model_name": "HTMLModel",
       "_view_count": null,
       "_view_module": "@jupyter-widgets/controls",
       "_view_module_version": "1.5.0",
       "_view_name": "HTMLView",
       "description": "",
       "description_tooltip": null,
       "layout": "IPY_MODEL_6db58d316b8744458884ec56e8d6f2a9",
       "placeholder": "​",
       "style": "IPY_MODEL_e5cbd626fe3d4b4e99aa64f134789aaa",
       "value": "Epoch 8: 100%"
      }
     },
     "51a3e44bb53d4b2da2cbe823d25e2bb6": {
      "model_module": "@jupyter-widgets/controls",
      "model_module_version": "1.5.0",
      "model_name": "ProgressStyleModel",
      "state": {
       "_model_module": "@jupyter-widgets/controls",
       "_model_module_version": "1.5.0",
       "_model_name": "ProgressStyleModel",
       "_view_count": null,
       "_view_module": "@jupyter-widgets/base",
       "_view_module_version": "1.2.0",
       "_view_name": "StyleView",
       "bar_color": null,
       "description_width": ""
      }
     },
     "56db6bbc28314d90ba0c8553f8747bf1": {
      "model_module": "@jupyter-widgets/controls",
      "model_module_version": "1.5.0",
      "model_name": "HBoxModel",
      "state": {
       "_dom_classes": [],
       "_model_module": "@jupyter-widgets/controls",
       "_model_module_version": "1.5.0",
       "_model_name": "HBoxModel",
       "_view_count": null,
       "_view_module": "@jupyter-widgets/controls",
       "_view_module_version": "1.5.0",
       "_view_name": "HBoxView",
       "box_style": "",
       "children": [
        "IPY_MODEL_5138b15d12974e3b952b4de4e1e960b8",
        "IPY_MODEL_31abd265a5244f1eafe259c6192aae14",
        "IPY_MODEL_a60cb4ce15d54e048cba6ad1f475e134"
       ],
       "layout": "IPY_MODEL_77d5060b698b46cdb2116ac0f5a47563"
      }
     },
     "598bd67826ca4064ac77e0705ef8bead": {
      "model_module": "@jupyter-widgets/controls",
      "model_module_version": "1.5.0",
      "model_name": "ProgressStyleModel",
      "state": {
       "_model_module": "@jupyter-widgets/controls",
       "_model_module_version": "1.5.0",
       "_model_name": "ProgressStyleModel",
       "_view_count": null,
       "_view_module": "@jupyter-widgets/base",
       "_view_module_version": "1.2.0",
       "_view_name": "StyleView",
       "bar_color": null,
       "description_width": ""
      }
     },
     "5a06aecdded84d1489865689636c6026": {
      "model_module": "@jupyter-widgets/controls",
      "model_module_version": "1.5.0",
      "model_name": "FloatProgressModel",
      "state": {
       "_dom_classes": [],
       "_model_module": "@jupyter-widgets/controls",
       "_model_module_version": "1.5.0",
       "_model_name": "FloatProgressModel",
       "_view_count": null,
       "_view_module": "@jupyter-widgets/controls",
       "_view_module_version": "1.5.0",
       "_view_name": "ProgressView",
       "bar_style": "",
       "description": "",
       "description_tooltip": null,
       "layout": "IPY_MODEL_6d05caeb57a649aeaf8a4f4f60f41f3b",
       "max": 81.0,
       "min": 0.0,
       "orientation": "horizontal",
       "style": "IPY_MODEL_cb6d2cbe71234b498f2f414541edb5bb",
       "value": 81.0
      }
     },
     "5d939319c2fb4c1bbcf21b7b875a280e": {
      "model_module": "@jupyter-widgets/controls",
      "model_module_version": "1.5.0",
      "model_name": "FloatProgressModel",
      "state": {
       "_dom_classes": [],
       "_model_module": "@jupyter-widgets/controls",
       "_model_module_version": "1.5.0",
       "_model_name": "FloatProgressModel",
       "_view_count": null,
       "_view_module": "@jupyter-widgets/controls",
       "_view_module_version": "1.5.0",
       "_view_name": "ProgressView",
       "bar_style": "success",
       "description": "",
       "description_tooltip": null,
       "layout": "IPY_MODEL_3d03dbd2412c4faf9bbbf17b5d67bf97",
       "max": 440473133.0,
       "min": 0.0,
       "orientation": "horizontal",
       "style": "IPY_MODEL_598bd67826ca4064ac77e0705ef8bead",
       "value": 440473133.0
      }
     },
     "5dd9b2d0b9ae48019a1d1410bbef24fd": {
      "model_module": "@jupyter-widgets/controls",
      "model_module_version": "1.5.0",
      "model_name": "HTMLModel",
      "state": {
       "_dom_classes": [],
       "_model_module": "@jupyter-widgets/controls",
       "_model_module_version": "1.5.0",
       "_model_name": "HTMLModel",
       "_view_count": null,
       "_view_module": "@jupyter-widgets/controls",
       "_view_module_version": "1.5.0",
       "_view_name": "HTMLView",
       "description": "",
       "description_tooltip": null,
       "layout": "IPY_MODEL_ac3b4742181d4f159f662e13fe1dba3f",
       "placeholder": "​",
       "style": "IPY_MODEL_cf371a8aab4549c5a8a3dccaea5406c4",
       "value": "Downloading: 100%"
      }
     },
     "5de4cf30337f4232a86bbf5f0e8dffbe": {
      "model_module": "@jupyter-widgets/base",
      "model_module_version": "1.2.0",
      "model_name": "LayoutModel",
      "state": {
       "_model_module": "@jupyter-widgets/base",
       "_model_module_version": "1.2.0",
       "_model_name": "LayoutModel",
       "_view_count": null,
       "_view_module": "@jupyter-widgets/base",
       "_view_module_version": "1.2.0",
       "_view_name": "LayoutView",
       "align_content": null,
       "align_items": null,
       "align_self": null,
       "border": null,
       "bottom": null,
       "display": null,
       "flex": null,
       "flex_flow": null,
       "grid_area": null,
       "grid_auto_columns": null,
       "grid_auto_flow": null,
       "grid_auto_rows": null,
       "grid_column": null,
       "grid_gap": null,
       "grid_row": null,
       "grid_template_areas": null,
       "grid_template_columns": null,
       "grid_template_rows": null,
       "height": null,
       "justify_content": null,
       "justify_items": null,
       "left": null,
       "margin": null,
       "max_height": null,
       "max_width": null,
       "min_height": null,
       "min_width": null,
       "object_fit": null,
       "object_position": null,
       "order": null,
       "overflow": null,
       "overflow_x": null,
       "overflow_y": null,
       "padding": null,
       "right": null,
       "top": null,
       "visibility": null,
       "width": null
      }
     },
     "5e9d54514e83493687d9cf3b4f3af850": {
      "model_module": "@jupyter-widgets/controls",
      "model_module_version": "1.5.0",
      "model_name": "DescriptionStyleModel",
      "state": {
       "_model_module": "@jupyter-widgets/controls",
       "_model_module_version": "1.5.0",
       "_model_name": "DescriptionStyleModel",
       "_view_count": null,
       "_view_module": "@jupyter-widgets/base",
       "_view_module_version": "1.2.0",
       "_view_name": "StyleView",
       "description_width": ""
      }
     },
     "5ecb946ad52141b18a912a121a0253a7": {
      "model_module": "@jupyter-widgets/base",
      "model_module_version": "1.2.0",
      "model_name": "LayoutModel",
      "state": {
       "_model_module": "@jupyter-widgets/base",
       "_model_module_version": "1.2.0",
       "_model_name": "LayoutModel",
       "_view_count": null,
       "_view_module": "@jupyter-widgets/base",
       "_view_module_version": "1.2.0",
       "_view_name": "LayoutView",
       "align_content": null,
       "align_items": null,
       "align_self": null,
       "border": null,
       "bottom": null,
       "display": null,
       "flex": null,
       "flex_flow": null,
       "grid_area": null,
       "grid_auto_columns": null,
       "grid_auto_flow": null,
       "grid_auto_rows": null,
       "grid_column": null,
       "grid_gap": null,
       "grid_row": null,
       "grid_template_areas": null,
       "grid_template_columns": null,
       "grid_template_rows": null,
       "height": null,
       "justify_content": null,
       "justify_items": null,
       "left": null,
       "margin": null,
       "max_height": null,
       "max_width": null,
       "min_height": null,
       "min_width": null,
       "object_fit": null,
       "object_position": null,
       "order": null,
       "overflow": null,
       "overflow_x": null,
       "overflow_y": null,
       "padding": null,
       "right": null,
       "top": null,
       "visibility": null,
       "width": null
      }
     },
     "607dd534312b4e0daf736c53fba4f602": {
      "model_module": "@jupyter-widgets/base",
      "model_module_version": "1.2.0",
      "model_name": "LayoutModel",
      "state": {
       "_model_module": "@jupyter-widgets/base",
       "_model_module_version": "1.2.0",
       "_model_name": "LayoutModel",
       "_view_count": null,
       "_view_module": "@jupyter-widgets/base",
       "_view_module_version": "1.2.0",
       "_view_name": "LayoutView",
       "align_content": null,
       "align_items": null,
       "align_self": null,
       "border": null,
       "bottom": null,
       "display": null,
       "flex": null,
       "flex_flow": null,
       "grid_area": null,
       "grid_auto_columns": null,
       "grid_auto_flow": null,
       "grid_auto_rows": null,
       "grid_column": null,
       "grid_gap": null,
       "grid_row": null,
       "grid_template_areas": null,
       "grid_template_columns": null,
       "grid_template_rows": null,
       "height": null,
       "justify_content": null,
       "justify_items": null,
       "left": null,
       "margin": null,
       "max_height": null,
       "max_width": null,
       "min_height": null,
       "min_width": null,
       "object_fit": null,
       "object_position": null,
       "order": null,
       "overflow": null,
       "overflow_x": null,
       "overflow_y": null,
       "padding": null,
       "right": null,
       "top": null,
       "visibility": null,
       "width": null
      }
     },
     "61374f91ca8e44cba8716d336ce4e561": {
      "model_module": "@jupyter-widgets/controls",
      "model_module_version": "1.5.0",
      "model_name": "DescriptionStyleModel",
      "state": {
       "_model_module": "@jupyter-widgets/controls",
       "_model_module_version": "1.5.0",
       "_model_name": "DescriptionStyleModel",
       "_view_count": null,
       "_view_module": "@jupyter-widgets/base",
       "_view_module_version": "1.2.0",
       "_view_name": "StyleView",
       "description_width": ""
      }
     },
     "6261411b2141425b999feece0c6b59e4": {
      "model_module": "@jupyter-widgets/base",
      "model_module_version": "1.2.0",
      "model_name": "LayoutModel",
      "state": {
       "_model_module": "@jupyter-widgets/base",
       "_model_module_version": "1.2.0",
       "_model_name": "LayoutModel",
       "_view_count": null,
       "_view_module": "@jupyter-widgets/base",
       "_view_module_version": "1.2.0",
       "_view_name": "LayoutView",
       "align_content": null,
       "align_items": null,
       "align_self": null,
       "border": null,
       "bottom": null,
       "display": null,
       "flex": null,
       "flex_flow": null,
       "grid_area": null,
       "grid_auto_columns": null,
       "grid_auto_flow": null,
       "grid_auto_rows": null,
       "grid_column": null,
       "grid_gap": null,
       "grid_row": null,
       "grid_template_areas": null,
       "grid_template_columns": null,
       "grid_template_rows": null,
       "height": null,
       "justify_content": null,
       "justify_items": null,
       "left": null,
       "margin": null,
       "max_height": null,
       "max_width": null,
       "min_height": null,
       "min_width": null,
       "object_fit": null,
       "object_position": null,
       "order": null,
       "overflow": null,
       "overflow_x": null,
       "overflow_y": null,
       "padding": null,
       "right": null,
       "top": null,
       "visibility": null,
       "width": null
      }
     },
     "67263766b58847a78325566052e31dff": {
      "model_module": "@jupyter-widgets/controls",
      "model_module_version": "1.5.0",
      "model_name": "HBoxModel",
      "state": {
       "_dom_classes": [],
       "_model_module": "@jupyter-widgets/controls",
       "_model_module_version": "1.5.0",
       "_model_name": "HBoxModel",
       "_view_count": null,
       "_view_module": "@jupyter-widgets/controls",
       "_view_module_version": "1.5.0",
       "_view_name": "HBoxView",
       "box_style": "",
       "children": [
        "IPY_MODEL_b9a1fc8dadbe4d04b11e8145f6d855d0",
        "IPY_MODEL_730d6db2d6564f25836d1b846d506c79",
        "IPY_MODEL_1a01c5d3cdad4ba0ad720fac9bdc24ea"
       ],
       "layout": "IPY_MODEL_9877fe96454e4f5fafe115f5c70a1289"
      }
     },
     "67f428b094d64ba1840cef7276938dd7": {
      "model_module": "@jupyter-widgets/base",
      "model_module_version": "1.2.0",
      "model_name": "LayoutModel",
      "state": {
       "_model_module": "@jupyter-widgets/base",
       "_model_module_version": "1.2.0",
       "_model_name": "LayoutModel",
       "_view_count": null,
       "_view_module": "@jupyter-widgets/base",
       "_view_module_version": "1.2.0",
       "_view_name": "LayoutView",
       "align_content": null,
       "align_items": null,
       "align_self": null,
       "border": null,
       "bottom": null,
       "display": null,
       "flex": null,
       "flex_flow": null,
       "grid_area": null,
       "grid_auto_columns": null,
       "grid_auto_flow": null,
       "grid_auto_rows": null,
       "grid_column": null,
       "grid_gap": null,
       "grid_row": null,
       "grid_template_areas": null,
       "grid_template_columns": null,
       "grid_template_rows": null,
       "height": null,
       "justify_content": null,
       "justify_items": null,
       "left": null,
       "margin": null,
       "max_height": null,
       "max_width": null,
       "min_height": null,
       "min_width": null,
       "object_fit": null,
       "object_position": null,
       "order": null,
       "overflow": null,
       "overflow_x": null,
       "overflow_y": null,
       "padding": null,
       "right": null,
       "top": null,
       "visibility": null,
       "width": null
      }
     },
     "6d05caeb57a649aeaf8a4f4f60f41f3b": {
      "model_module": "@jupyter-widgets/base",
      "model_module_version": "1.2.0",
      "model_name": "LayoutModel",
      "state": {
       "_model_module": "@jupyter-widgets/base",
       "_model_module_version": "1.2.0",
       "_model_name": "LayoutModel",
       "_view_count": null,
       "_view_module": "@jupyter-widgets/base",
       "_view_module_version": "1.2.0",
       "_view_name": "LayoutView",
       "align_content": null,
       "align_items": null,
       "align_self": null,
       "border": null,
       "bottom": null,
       "display": null,
       "flex": null,
       "flex_flow": null,
       "grid_area": null,
       "grid_auto_columns": null,
       "grid_auto_flow": null,
       "grid_auto_rows": null,
       "grid_column": null,
       "grid_gap": null,
       "grid_row": null,
       "grid_template_areas": null,
       "grid_template_columns": null,
       "grid_template_rows": null,
       "height": null,
       "justify_content": null,
       "justify_items": null,
       "left": null,
       "margin": null,
       "max_height": null,
       "max_width": null,
       "min_height": null,
       "min_width": null,
       "object_fit": null,
       "object_position": null,
       "order": null,
       "overflow": null,
       "overflow_x": null,
       "overflow_y": null,
       "padding": null,
       "right": null,
       "top": null,
       "visibility": null,
       "width": null
      }
     },
     "6db58d316b8744458884ec56e8d6f2a9": {
      "model_module": "@jupyter-widgets/base",
      "model_module_version": "1.2.0",
      "model_name": "LayoutModel",
      "state": {
       "_model_module": "@jupyter-widgets/base",
       "_model_module_version": "1.2.0",
       "_model_name": "LayoutModel",
       "_view_count": null,
       "_view_module": "@jupyter-widgets/base",
       "_view_module_version": "1.2.0",
       "_view_name": "LayoutView",
       "align_content": null,
       "align_items": null,
       "align_self": null,
       "border": null,
       "bottom": null,
       "display": null,
       "flex": null,
       "flex_flow": null,
       "grid_area": null,
       "grid_auto_columns": null,
       "grid_auto_flow": null,
       "grid_auto_rows": null,
       "grid_column": null,
       "grid_gap": null,
       "grid_row": null,
       "grid_template_areas": null,
       "grid_template_columns": null,
       "grid_template_rows": null,
       "height": null,
       "justify_content": null,
       "justify_items": null,
       "left": null,
       "margin": null,
       "max_height": null,
       "max_width": null,
       "min_height": null,
       "min_width": null,
       "object_fit": null,
       "object_position": null,
       "order": null,
       "overflow": null,
       "overflow_x": null,
       "overflow_y": null,
       "padding": null,
       "right": null,
       "top": null,
       "visibility": null,
       "width": null
      }
     },
     "6dc7d2be09ee48f1b919762afdfc16a4": {
      "model_module": "@jupyter-widgets/controls",
      "model_module_version": "1.5.0",
      "model_name": "HTMLModel",
      "state": {
       "_dom_classes": [],
       "_model_module": "@jupyter-widgets/controls",
       "_model_module_version": "1.5.0",
       "_model_name": "HTMLModel",
       "_view_count": null,
       "_view_module": "@jupyter-widgets/controls",
       "_view_module_version": "1.5.0",
       "_view_name": "HTMLView",
       "description": "",
       "description_tooltip": null,
       "layout": "IPY_MODEL_1430d5793e0240ebb6d8f1630c9c73f9",
       "placeholder": "​",
       "style": "IPY_MODEL_b079b4c94ab34a92957f67bf06ad7257",
       "value": " 81/81 [00:13&lt;00:00,  6.57it/s, training_loss=0.001]"
      }
     },
     "714edf32fa934886be1e49660e489cf1": {
      "model_module": "@jupyter-widgets/controls",
      "model_module_version": "1.5.0",
      "model_name": "DescriptionStyleModel",
      "state": {
       "_model_module": "@jupyter-widgets/controls",
       "_model_module_version": "1.5.0",
       "_model_name": "DescriptionStyleModel",
       "_view_count": null,
       "_view_module": "@jupyter-widgets/base",
       "_view_module_version": "1.2.0",
       "_view_name": "StyleView",
       "description_width": ""
      }
     },
     "72433415fac74a6c9383376354792261": {
      "model_module": "@jupyter-widgets/controls",
      "model_module_version": "1.5.0",
      "model_name": "DescriptionStyleModel",
      "state": {
       "_model_module": "@jupyter-widgets/controls",
       "_model_module_version": "1.5.0",
       "_model_name": "DescriptionStyleModel",
       "_view_count": null,
       "_view_module": "@jupyter-widgets/base",
       "_view_module_version": "1.2.0",
       "_view_name": "StyleView",
       "description_width": ""
      }
     },
     "73040e0313c3458383d5153fdaeaaa6b": {
      "model_module": "@jupyter-widgets/base",
      "model_module_version": "1.2.0",
      "model_name": "LayoutModel",
      "state": {
       "_model_module": "@jupyter-widgets/base",
       "_model_module_version": "1.2.0",
       "_model_name": "LayoutModel",
       "_view_count": null,
       "_view_module": "@jupyter-widgets/base",
       "_view_module_version": "1.2.0",
       "_view_name": "LayoutView",
       "align_content": null,
       "align_items": null,
       "align_self": null,
       "border": null,
       "bottom": null,
       "display": null,
       "flex": null,
       "flex_flow": null,
       "grid_area": null,
       "grid_auto_columns": null,
       "grid_auto_flow": null,
       "grid_auto_rows": null,
       "grid_column": null,
       "grid_gap": null,
       "grid_row": null,
       "grid_template_areas": null,
       "grid_template_columns": null,
       "grid_template_rows": null,
       "height": null,
       "justify_content": null,
       "justify_items": null,
       "left": null,
       "margin": null,
       "max_height": null,
       "max_width": null,
       "min_height": null,
       "min_width": null,
       "object_fit": null,
       "object_position": null,
       "order": null,
       "overflow": null,
       "overflow_x": null,
       "overflow_y": null,
       "padding": null,
       "right": null,
       "top": null,
       "visibility": null,
       "width": null
      }
     },
     "73041fa0de6d403585f485e901113e15": {
      "model_module": "@jupyter-widgets/base",
      "model_module_version": "1.2.0",
      "model_name": "LayoutModel",
      "state": {
       "_model_module": "@jupyter-widgets/base",
       "_model_module_version": "1.2.0",
       "_model_name": "LayoutModel",
       "_view_count": null,
       "_view_module": "@jupyter-widgets/base",
       "_view_module_version": "1.2.0",
       "_view_name": "LayoutView",
       "align_content": null,
       "align_items": null,
       "align_self": null,
       "border": null,
       "bottom": null,
       "display": null,
       "flex": null,
       "flex_flow": null,
       "grid_area": null,
       "grid_auto_columns": null,
       "grid_auto_flow": null,
       "grid_auto_rows": null,
       "grid_column": null,
       "grid_gap": null,
       "grid_row": null,
       "grid_template_areas": null,
       "grid_template_columns": null,
       "grid_template_rows": null,
       "height": null,
       "justify_content": null,
       "justify_items": null,
       "left": null,
       "margin": null,
       "max_height": null,
       "max_width": null,
       "min_height": null,
       "min_width": null,
       "object_fit": null,
       "object_position": null,
       "order": null,
       "overflow": null,
       "overflow_x": null,
       "overflow_y": null,
       "padding": null,
       "right": null,
       "top": null,
       "visibility": null,
       "width": null
      }
     },
     "730d6db2d6564f25836d1b846d506c79": {
      "model_module": "@jupyter-widgets/controls",
      "model_module_version": "1.5.0",
      "model_name": "FloatProgressModel",
      "state": {
       "_dom_classes": [],
       "_model_module": "@jupyter-widgets/controls",
       "_model_module_version": "1.5.0",
       "_model_name": "FloatProgressModel",
       "_view_count": null,
       "_view_module": "@jupyter-widgets/controls",
       "_view_module_version": "1.5.0",
       "_view_name": "ProgressView",
       "bar_style": "success",
       "description": "",
       "description_tooltip": null,
       "layout": "IPY_MODEL_26c945bcc50e41af96474fc2b8fa2f54",
       "max": 28.0,
       "min": 0.0,
       "orientation": "horizontal",
       "style": "IPY_MODEL_1719324e5a4e45398fee7b595e6c0ef9",
       "value": 28.0
      }
     },
     "733dc5b5841b44ecb270c1f4d9274cf0": {
      "model_module": "@jupyter-widgets/base",
      "model_module_version": "1.2.0",
      "model_name": "LayoutModel",
      "state": {
       "_model_module": "@jupyter-widgets/base",
       "_model_module_version": "1.2.0",
       "_model_name": "LayoutModel",
       "_view_count": null,
       "_view_module": "@jupyter-widgets/base",
       "_view_module_version": "1.2.0",
       "_view_name": "LayoutView",
       "align_content": null,
       "align_items": null,
       "align_self": null,
       "border": null,
       "bottom": null,
       "display": null,
       "flex": null,
       "flex_flow": null,
       "grid_area": null,
       "grid_auto_columns": null,
       "grid_auto_flow": null,
       "grid_auto_rows": null,
       "grid_column": null,
       "grid_gap": null,
       "grid_row": null,
       "grid_template_areas": null,
       "grid_template_columns": null,
       "grid_template_rows": null,
       "height": null,
       "justify_content": null,
       "justify_items": null,
       "left": null,
       "margin": null,
       "max_height": null,
       "max_width": null,
       "min_height": null,
       "min_width": null,
       "object_fit": null,
       "object_position": null,
       "order": null,
       "overflow": null,
       "overflow_x": null,
       "overflow_y": null,
       "padding": null,
       "right": null,
       "top": null,
       "visibility": null,
       "width": null
      }
     },
     "749ca90a7f2f46a0ab2ec554cad4c49c": {
      "model_module": "@jupyter-widgets/controls",
      "model_module_version": "1.5.0",
      "model_name": "HBoxModel",
      "state": {
       "_dom_classes": [],
       "_model_module": "@jupyter-widgets/controls",
       "_model_module_version": "1.5.0",
       "_model_name": "HBoxModel",
       "_view_count": null,
       "_view_module": "@jupyter-widgets/controls",
       "_view_module_version": "1.5.0",
       "_view_name": "HBoxView",
       "box_style": "",
       "children": [
        "IPY_MODEL_43af6edbcba44760bfb70934e54104a0",
        "IPY_MODEL_8359bfa10f204dc7817f25d0ad75d5fe",
        "IPY_MODEL_1336f4b1a3c74919ad1af4dbd1da0cc5"
       ],
       "layout": "IPY_MODEL_009ffa1f78504fd6a5eef2414d2bec36"
      }
     },
     "74eb0dc596474df78a13c8fc5fa960b9": {
      "model_module": "@jupyter-widgets/controls",
      "model_module_version": "1.5.0",
      "model_name": "ProgressStyleModel",
      "state": {
       "_model_module": "@jupyter-widgets/controls",
       "_model_module_version": "1.5.0",
       "_model_name": "ProgressStyleModel",
       "_view_count": null,
       "_view_module": "@jupyter-widgets/base",
       "_view_module_version": "1.2.0",
       "_view_name": "StyleView",
       "bar_color": null,
       "description_width": ""
      }
     },
     "7529c87ae6474abe8a1d8dfc55a39576": {
      "model_module": "@jupyter-widgets/controls",
      "model_module_version": "1.5.0",
      "model_name": "HTMLModel",
      "state": {
       "_dom_classes": [],
       "_model_module": "@jupyter-widgets/controls",
       "_model_module_version": "1.5.0",
       "_model_name": "HTMLModel",
       "_view_count": null,
       "_view_module": "@jupyter-widgets/controls",
       "_view_module_version": "1.5.0",
       "_view_name": "HTMLView",
       "description": "",
       "description_tooltip": null,
       "layout": "IPY_MODEL_db3aee2ae7d54abfb9499d321d053a1e",
       "placeholder": "​",
       "style": "IPY_MODEL_afa46969b4154a839ec26996a6a91c95",
       "value": "Epoch 4: 100%"
      }
     },
     "75f5ed46f2d549e0a76813bbd73c6e1a": {
      "model_module": "@jupyter-widgets/base",
      "model_module_version": "1.2.0",
      "model_name": "LayoutModel",
      "state": {
       "_model_module": "@jupyter-widgets/base",
       "_model_module_version": "1.2.0",
       "_model_name": "LayoutModel",
       "_view_count": null,
       "_view_module": "@jupyter-widgets/base",
       "_view_module_version": "1.2.0",
       "_view_name": "LayoutView",
       "align_content": null,
       "align_items": null,
       "align_self": null,
       "border": null,
       "bottom": null,
       "display": null,
       "flex": null,
       "flex_flow": null,
       "grid_area": null,
       "grid_auto_columns": null,
       "grid_auto_flow": null,
       "grid_auto_rows": null,
       "grid_column": null,
       "grid_gap": null,
       "grid_row": null,
       "grid_template_areas": null,
       "grid_template_columns": null,
       "grid_template_rows": null,
       "height": null,
       "justify_content": null,
       "justify_items": null,
       "left": null,
       "margin": null,
       "max_height": null,
       "max_width": null,
       "min_height": null,
       "min_width": null,
       "object_fit": null,
       "object_position": null,
       "order": null,
       "overflow": null,
       "overflow_x": null,
       "overflow_y": null,
       "padding": null,
       "right": null,
       "top": null,
       "visibility": null,
       "width": null
      }
     },
     "77d5060b698b46cdb2116ac0f5a47563": {
      "model_module": "@jupyter-widgets/base",
      "model_module_version": "1.2.0",
      "model_name": "LayoutModel",
      "state": {
       "_model_module": "@jupyter-widgets/base",
       "_model_module_version": "1.2.0",
       "_model_name": "LayoutModel",
       "_view_count": null,
       "_view_module": "@jupyter-widgets/base",
       "_view_module_version": "1.2.0",
       "_view_name": "LayoutView",
       "align_content": null,
       "align_items": null,
       "align_self": null,
       "border": null,
       "bottom": null,
       "display": null,
       "flex": null,
       "flex_flow": null,
       "grid_area": null,
       "grid_auto_columns": null,
       "grid_auto_flow": null,
       "grid_auto_rows": null,
       "grid_column": null,
       "grid_gap": null,
       "grid_row": null,
       "grid_template_areas": null,
       "grid_template_columns": null,
       "grid_template_rows": null,
       "height": null,
       "justify_content": null,
       "justify_items": null,
       "left": null,
       "margin": null,
       "max_height": null,
       "max_width": null,
       "min_height": null,
       "min_width": null,
       "object_fit": null,
       "object_position": null,
       "order": null,
       "overflow": null,
       "overflow_x": null,
       "overflow_y": null,
       "padding": null,
       "right": null,
       "top": null,
       "visibility": null,
       "width": null
      }
     },
     "783bff276cc34f7499d08e531198fab5": {
      "model_module": "@jupyter-widgets/controls",
      "model_module_version": "1.5.0",
      "model_name": "DescriptionStyleModel",
      "state": {
       "_model_module": "@jupyter-widgets/controls",
       "_model_module_version": "1.5.0",
       "_model_name": "DescriptionStyleModel",
       "_view_count": null,
       "_view_module": "@jupyter-widgets/base",
       "_view_module_version": "1.2.0",
       "_view_name": "StyleView",
       "description_width": ""
      }
     },
     "78ac9014b9c9443eab85a27fbe5d8802": {
      "model_module": "@jupyter-widgets/controls",
      "model_module_version": "1.5.0",
      "model_name": "HBoxModel",
      "state": {
       "_dom_classes": [],
       "_model_module": "@jupyter-widgets/controls",
       "_model_module_version": "1.5.0",
       "_model_name": "HBoxModel",
       "_view_count": null,
       "_view_module": "@jupyter-widgets/controls",
       "_view_module_version": "1.5.0",
       "_view_name": "HBoxView",
       "box_style": "",
       "children": [
        "IPY_MODEL_865b914ae1a4444fb2e7c3c2604564d7",
        "IPY_MODEL_0efb6e01ddda4337afe67a5f9bab873e",
        "IPY_MODEL_1d7f1af850be4eebac144263d19f8b43"
       ],
       "layout": "IPY_MODEL_2bb8721003564cb2bcbe26e1a299a53c"
      }
     },
     "79228946786148438beab7166d524031": {
      "model_module": "@jupyter-widgets/base",
      "model_module_version": "1.2.0",
      "model_name": "LayoutModel",
      "state": {
       "_model_module": "@jupyter-widgets/base",
       "_model_module_version": "1.2.0",
       "_model_name": "LayoutModel",
       "_view_count": null,
       "_view_module": "@jupyter-widgets/base",
       "_view_module_version": "1.2.0",
       "_view_name": "LayoutView",
       "align_content": null,
       "align_items": null,
       "align_self": null,
       "border": null,
       "bottom": null,
       "display": null,
       "flex": null,
       "flex_flow": null,
       "grid_area": null,
       "grid_auto_columns": null,
       "grid_auto_flow": null,
       "grid_auto_rows": null,
       "grid_column": null,
       "grid_gap": null,
       "grid_row": null,
       "grid_template_areas": null,
       "grid_template_columns": null,
       "grid_template_rows": null,
       "height": null,
       "justify_content": null,
       "justify_items": null,
       "left": null,
       "margin": null,
       "max_height": null,
       "max_width": null,
       "min_height": null,
       "min_width": null,
       "object_fit": null,
       "object_position": null,
       "order": null,
       "overflow": null,
       "overflow_x": null,
       "overflow_y": null,
       "padding": null,
       "right": null,
       "top": null,
       "visibility": null,
       "width": null
      }
     },
     "7abff0ef30f44e03b9ed754883e9574a": {
      "model_module": "@jupyter-widgets/controls",
      "model_module_version": "1.5.0",
      "model_name": "HBoxModel",
      "state": {
       "_dom_classes": [],
       "_model_module": "@jupyter-widgets/controls",
       "_model_module_version": "1.5.0",
       "_model_name": "HBoxModel",
       "_view_count": null,
       "_view_module": "@jupyter-widgets/controls",
       "_view_module_version": "1.5.0",
       "_view_name": "HBoxView",
       "box_style": "",
       "children": [
        "IPY_MODEL_9cd97a1e63df41d99bc852475a7d164b",
        "IPY_MODEL_e2dd4eb8084943b5ae354e673617a495",
        "IPY_MODEL_db892fcecef74a50ad847fc20318dc50"
       ],
       "layout": "IPY_MODEL_cad2669b1d42450688e84a6f486d307a"
      }
     },
     "7fe0c61416474154b1bb5b3e93ecb3c3": {
      "model_module": "@jupyter-widgets/controls",
      "model_module_version": "1.5.0",
      "model_name": "DescriptionStyleModel",
      "state": {
       "_model_module": "@jupyter-widgets/controls",
       "_model_module_version": "1.5.0",
       "_model_name": "DescriptionStyleModel",
       "_view_count": null,
       "_view_module": "@jupyter-widgets/base",
       "_view_module_version": "1.2.0",
       "_view_name": "StyleView",
       "description_width": ""
      }
     },
     "8067cef27d6c453cba9e2a2403019e01": {
      "model_module": "@jupyter-widgets/base",
      "model_module_version": "1.2.0",
      "model_name": "LayoutModel",
      "state": {
       "_model_module": "@jupyter-widgets/base",
       "_model_module_version": "1.2.0",
       "_model_name": "LayoutModel",
       "_view_count": null,
       "_view_module": "@jupyter-widgets/base",
       "_view_module_version": "1.2.0",
       "_view_name": "LayoutView",
       "align_content": null,
       "align_items": null,
       "align_self": null,
       "border": null,
       "bottom": null,
       "display": null,
       "flex": null,
       "flex_flow": null,
       "grid_area": null,
       "grid_auto_columns": null,
       "grid_auto_flow": null,
       "grid_auto_rows": null,
       "grid_column": null,
       "grid_gap": null,
       "grid_row": null,
       "grid_template_areas": null,
       "grid_template_columns": null,
       "grid_template_rows": null,
       "height": null,
       "justify_content": null,
       "justify_items": null,
       "left": null,
       "margin": null,
       "max_height": null,
       "max_width": null,
       "min_height": null,
       "min_width": null,
       "object_fit": null,
       "object_position": null,
       "order": null,
       "overflow": null,
       "overflow_x": null,
       "overflow_y": null,
       "padding": null,
       "right": null,
       "top": null,
       "visibility": null,
       "width": null
      }
     },
     "8359bfa10f204dc7817f25d0ad75d5fe": {
      "model_module": "@jupyter-widgets/controls",
      "model_module_version": "1.5.0",
      "model_name": "FloatProgressModel",
      "state": {
       "_dom_classes": [],
       "_model_module": "@jupyter-widgets/controls",
       "_model_module_version": "1.5.0",
       "_model_name": "FloatProgressModel",
       "_view_count": null,
       "_view_module": "@jupyter-widgets/controls",
       "_view_module_version": "1.5.0",
       "_view_name": "ProgressView",
       "bar_style": "success",
       "description": "",
       "description_tooltip": null,
       "layout": "IPY_MODEL_dc694b7256fd417d868fa1cf48b6de28",
       "max": 570.0,
       "min": 0.0,
       "orientation": "horizontal",
       "style": "IPY_MODEL_c955e731486e41f98c2ebe122fe1ea48",
       "value": 570.0
      }
     },
     "839c42f555a343b2aabac18a3eecae9e": {
      "model_module": "@jupyter-widgets/controls",
      "model_module_version": "1.5.0",
      "model_name": "DescriptionStyleModel",
      "state": {
       "_model_module": "@jupyter-widgets/controls",
       "_model_module_version": "1.5.0",
       "_model_name": "DescriptionStyleModel",
       "_view_count": null,
       "_view_module": "@jupyter-widgets/base",
       "_view_module_version": "1.2.0",
       "_view_name": "StyleView",
       "description_width": ""
      }
     },
     "85580d5d952846b7a7220916a8a05c07": {
      "model_module": "@jupyter-widgets/controls",
      "model_module_version": "1.5.0",
      "model_name": "HTMLModel",
      "state": {
       "_dom_classes": [],
       "_model_module": "@jupyter-widgets/controls",
       "_model_module_version": "1.5.0",
       "_model_name": "HTMLModel",
       "_view_count": null,
       "_view_module": "@jupyter-widgets/controls",
       "_view_module_version": "1.5.0",
       "_view_name": "HTMLView",
       "description": "",
       "description_tooltip": null,
       "layout": "IPY_MODEL_03a2676d061c4b3c89bd59f1c4a25142",
       "placeholder": "​",
       "style": "IPY_MODEL_30adf1d441924c3b8265ea1906f6443a",
       "value": " 226k/226k [00:00&lt;00:00, 1.52MB/s]"
      }
     },
     "858800833007476c9fa1902cd288ad6d": {
      "model_module": "@jupyter-widgets/base",
      "model_module_version": "1.2.0",
      "model_name": "LayoutModel",
      "state": {
       "_model_module": "@jupyter-widgets/base",
       "_model_module_version": "1.2.0",
       "_model_name": "LayoutModel",
       "_view_count": null,
       "_view_module": "@jupyter-widgets/base",
       "_view_module_version": "1.2.0",
       "_view_name": "LayoutView",
       "align_content": null,
       "align_items": null,
       "align_self": null,
       "border": null,
       "bottom": null,
       "display": null,
       "flex": null,
       "flex_flow": null,
       "grid_area": null,
       "grid_auto_columns": null,
       "grid_auto_flow": null,
       "grid_auto_rows": null,
       "grid_column": null,
       "grid_gap": null,
       "grid_row": null,
       "grid_template_areas": null,
       "grid_template_columns": null,
       "grid_template_rows": null,
       "height": null,
       "justify_content": null,
       "justify_items": null,
       "left": null,
       "margin": null,
       "max_height": null,
       "max_width": null,
       "min_height": null,
       "min_width": null,
       "object_fit": null,
       "object_position": null,
       "order": null,
       "overflow": null,
       "overflow_x": null,
       "overflow_y": null,
       "padding": null,
       "right": null,
       "top": null,
       "visibility": null,
       "width": null
      }
     },
     "865b914ae1a4444fb2e7c3c2604564d7": {
      "model_module": "@jupyter-widgets/controls",
      "model_module_version": "1.5.0",
      "model_name": "HTMLModel",
      "state": {
       "_dom_classes": [],
       "_model_module": "@jupyter-widgets/controls",
       "_model_module_version": "1.5.0",
       "_model_name": "HTMLModel",
       "_view_count": null,
       "_view_module": "@jupyter-widgets/controls",
       "_view_module_version": "1.5.0",
       "_view_name": "HTMLView",
       "description": "",
       "description_tooltip": null,
       "layout": "IPY_MODEL_27882a8a318a48c7ae5c28c3bb79b0ab",
       "placeholder": "​",
       "style": "IPY_MODEL_32f9281c215349a1ad1b9194c0d9ad46",
       "value": "Epoch 3: 100%"
      }
     },
     "8737db0c310f4defa37450ff2ef91f02": {
      "model_module": "@jupyter-widgets/base",
      "model_module_version": "1.2.0",
      "model_name": "LayoutModel",
      "state": {
       "_model_module": "@jupyter-widgets/base",
       "_model_module_version": "1.2.0",
       "_model_name": "LayoutModel",
       "_view_count": null,
       "_view_module": "@jupyter-widgets/base",
       "_view_module_version": "1.2.0",
       "_view_name": "LayoutView",
       "align_content": null,
       "align_items": null,
       "align_self": null,
       "border": null,
       "bottom": null,
       "display": null,
       "flex": null,
       "flex_flow": null,
       "grid_area": null,
       "grid_auto_columns": null,
       "grid_auto_flow": null,
       "grid_auto_rows": null,
       "grid_column": null,
       "grid_gap": null,
       "grid_row": null,
       "grid_template_areas": null,
       "grid_template_columns": null,
       "grid_template_rows": null,
       "height": null,
       "justify_content": null,
       "justify_items": null,
       "left": null,
       "margin": null,
       "max_height": null,
       "max_width": null,
       "min_height": null,
       "min_width": null,
       "object_fit": null,
       "object_position": null,
       "order": null,
       "overflow": null,
       "overflow_x": null,
       "overflow_y": null,
       "padding": null,
       "right": null,
       "top": null,
       "visibility": null,
       "width": null
      }
     },
     "8841ccfea46143768b6f40d9b091e98e": {
      "model_module": "@jupyter-widgets/controls",
      "model_module_version": "1.5.0",
      "model_name": "HBoxModel",
      "state": {
       "_dom_classes": [],
       "_model_module": "@jupyter-widgets/controls",
       "_model_module_version": "1.5.0",
       "_model_name": "HBoxModel",
       "_view_count": null,
       "_view_module": "@jupyter-widgets/controls",
       "_view_module_version": "1.5.0",
       "_view_name": "HBoxView",
       "box_style": "",
       "children": [
        "IPY_MODEL_b62973f0b41a48dba9f33315502ec124",
        "IPY_MODEL_0a77bf2c21e14118ba7433beb8e14ef9",
        "IPY_MODEL_bd35e85dacef46a181a392fe1e139e7b"
       ],
       "layout": "IPY_MODEL_8737db0c310f4defa37450ff2ef91f02"
      }
     },
     "8c13aa071666497898c03122e43e3058": {
      "model_module": "@jupyter-widgets/base",
      "model_module_version": "1.2.0",
      "model_name": "LayoutModel",
      "state": {
       "_model_module": "@jupyter-widgets/base",
       "_model_module_version": "1.2.0",
       "_model_name": "LayoutModel",
       "_view_count": null,
       "_view_module": "@jupyter-widgets/base",
       "_view_module_version": "1.2.0",
       "_view_name": "LayoutView",
       "align_content": null,
       "align_items": null,
       "align_self": null,
       "border": null,
       "bottom": null,
       "display": null,
       "flex": null,
       "flex_flow": null,
       "grid_area": null,
       "grid_auto_columns": null,
       "grid_auto_flow": null,
       "grid_auto_rows": null,
       "grid_column": null,
       "grid_gap": null,
       "grid_row": null,
       "grid_template_areas": null,
       "grid_template_columns": null,
       "grid_template_rows": null,
       "height": null,
       "justify_content": null,
       "justify_items": null,
       "left": null,
       "margin": null,
       "max_height": null,
       "max_width": null,
       "min_height": null,
       "min_width": null,
       "object_fit": null,
       "object_position": null,
       "order": null,
       "overflow": null,
       "overflow_x": null,
       "overflow_y": null,
       "padding": null,
       "right": null,
       "top": null,
       "visibility": null,
       "width": null
      }
     },
     "8f23ec0d2610437895fc26e1fa49a4f9": {
      "model_module": "@jupyter-widgets/controls",
      "model_module_version": "1.5.0",
      "model_name": "DescriptionStyleModel",
      "state": {
       "_model_module": "@jupyter-widgets/controls",
       "_model_module_version": "1.5.0",
       "_model_name": "DescriptionStyleModel",
       "_view_count": null,
       "_view_module": "@jupyter-widgets/base",
       "_view_module_version": "1.2.0",
       "_view_name": "StyleView",
       "description_width": ""
      }
     },
     "8f2a5f32b15241b5a59de34772eaa398": {
      "model_module": "@jupyter-widgets/controls",
      "model_module_version": "1.5.0",
      "model_name": "FloatProgressModel",
      "state": {
       "_dom_classes": [],
       "_model_module": "@jupyter-widgets/controls",
       "_model_module_version": "1.5.0",
       "_model_name": "FloatProgressModel",
       "_view_count": null,
       "_view_module": "@jupyter-widgets/controls",
       "_view_module_version": "1.5.0",
       "_view_name": "ProgressView",
       "bar_style": "",
       "description": "",
       "description_tooltip": null,
       "layout": "IPY_MODEL_d92d3cb48850434fa327751c664bd0a0",
       "max": 81.0,
       "min": 0.0,
       "orientation": "horizontal",
       "style": "IPY_MODEL_f3b636b78b434a638fb7b7d37752c2e3",
       "value": 81.0
      }
     },
     "900b8a5d18444dc5a27d1194df8738ab": {
      "model_module": "@jupyter-widgets/controls",
      "model_module_version": "1.5.0",
      "model_name": "HTMLModel",
      "state": {
       "_dom_classes": [],
       "_model_module": "@jupyter-widgets/controls",
       "_model_module_version": "1.5.0",
       "_model_name": "HTMLModel",
       "_view_count": null,
       "_view_module": "@jupyter-widgets/controls",
       "_view_module_version": "1.5.0",
       "_view_name": "HTMLView",
       "description": "",
       "description_tooltip": null,
       "layout": "IPY_MODEL_75f5ed46f2d549e0a76813bbd73c6e1a",
       "placeholder": "​",
       "style": "IPY_MODEL_47d4b7ff9d044776a05fe20add3aa2a5",
       "value": " 81/81 [00:13&lt;00:00,  6.61it/s, training_loss=0.424]"
      }
     },
     "90e36e02e7474699aed8c764489914bb": {
      "model_module": "@jupyter-widgets/controls",
      "model_module_version": "1.5.0",
      "model_name": "ProgressStyleModel",
      "state": {
       "_model_module": "@jupyter-widgets/controls",
       "_model_module_version": "1.5.0",
       "_model_name": "ProgressStyleModel",
       "_view_count": null,
       "_view_module": "@jupyter-widgets/base",
       "_view_module_version": "1.2.0",
       "_view_name": "StyleView",
       "bar_color": null,
       "description_width": ""
      }
     },
     "927b92dea04d4a3a9908abbcb0ee6a49": {
      "model_module": "@jupyter-widgets/controls",
      "model_module_version": "1.5.0",
      "model_name": "HTMLModel",
      "state": {
       "_dom_classes": [],
       "_model_module": "@jupyter-widgets/controls",
       "_model_module_version": "1.5.0",
       "_model_name": "HTMLModel",
       "_view_count": null,
       "_view_module": "@jupyter-widgets/controls",
       "_view_module_version": "1.5.0",
       "_view_name": "HTMLView",
       "description": "",
       "description_tooltip": null,
       "layout": "IPY_MODEL_3c4196e59c904dad9f5250387ac1fdb1",
       "placeholder": "​",
       "style": "IPY_MODEL_714edf32fa934886be1e49660e489cf1",
       "value": " 81/81 [00:13&lt;00:00,  6.50it/s, training_loss=0.001]"
      }
     },
     "9877fe96454e4f5fafe115f5c70a1289": {
      "model_module": "@jupyter-widgets/base",
      "model_module_version": "1.2.0",
      "model_name": "LayoutModel",
      "state": {
       "_model_module": "@jupyter-widgets/base",
       "_model_module_version": "1.2.0",
       "_model_name": "LayoutModel",
       "_view_count": null,
       "_view_module": "@jupyter-widgets/base",
       "_view_module_version": "1.2.0",
       "_view_name": "LayoutView",
       "align_content": null,
       "align_items": null,
       "align_self": null,
       "border": null,
       "bottom": null,
       "display": null,
       "flex": null,
       "flex_flow": null,
       "grid_area": null,
       "grid_auto_columns": null,
       "grid_auto_flow": null,
       "grid_auto_rows": null,
       "grid_column": null,
       "grid_gap": null,
       "grid_row": null,
       "grid_template_areas": null,
       "grid_template_columns": null,
       "grid_template_rows": null,
       "height": null,
       "justify_content": null,
       "justify_items": null,
       "left": null,
       "margin": null,
       "max_height": null,
       "max_width": null,
       "min_height": null,
       "min_width": null,
       "object_fit": null,
       "object_position": null,
       "order": null,
       "overflow": null,
       "overflow_x": null,
       "overflow_y": null,
       "padding": null,
       "right": null,
       "top": null,
       "visibility": null,
       "width": null
      }
     },
     "9935010305e943b3a4cb57880b19c0b6": {
      "model_module": "@jupyter-widgets/base",
      "model_module_version": "1.2.0",
      "model_name": "LayoutModel",
      "state": {
       "_model_module": "@jupyter-widgets/base",
       "_model_module_version": "1.2.0",
       "_model_name": "LayoutModel",
       "_view_count": null,
       "_view_module": "@jupyter-widgets/base",
       "_view_module_version": "1.2.0",
       "_view_name": "LayoutView",
       "align_content": null,
       "align_items": null,
       "align_self": null,
       "border": null,
       "bottom": null,
       "display": null,
       "flex": null,
       "flex_flow": null,
       "grid_area": null,
       "grid_auto_columns": null,
       "grid_auto_flow": null,
       "grid_auto_rows": null,
       "grid_column": null,
       "grid_gap": null,
       "grid_row": null,
       "grid_template_areas": null,
       "grid_template_columns": null,
       "grid_template_rows": null,
       "height": null,
       "justify_content": null,
       "justify_items": null,
       "left": null,
       "margin": null,
       "max_height": null,
       "max_width": null,
       "min_height": null,
       "min_width": null,
       "object_fit": null,
       "object_position": null,
       "order": null,
       "overflow": null,
       "overflow_x": null,
       "overflow_y": null,
       "padding": null,
       "right": null,
       "top": null,
       "visibility": null,
       "width": null
      }
     },
     "9cd97a1e63df41d99bc852475a7d164b": {
      "model_module": "@jupyter-widgets/controls",
      "model_module_version": "1.5.0",
      "model_name": "HTMLModel",
      "state": {
       "_dom_classes": [],
       "_model_module": "@jupyter-widgets/controls",
       "_model_module_version": "1.5.0",
       "_model_name": "HTMLModel",
       "_view_count": null,
       "_view_module": "@jupyter-widgets/controls",
       "_view_module_version": "1.5.0",
       "_view_name": "HTMLView",
       "description": "",
       "description_tooltip": null,
       "layout": "IPY_MODEL_b5505cb97fcc431a8cbca0445f7b410b",
       "placeholder": "​",
       "style": "IPY_MODEL_d813d94a61eb4d20b95b95585786f817",
       "value": "Epoch 9: 100%"
      }
     },
     "9d047d75900b4e15b9e0a057e7d81ffe": {
      "model_module": "@jupyter-widgets/base",
      "model_module_version": "1.2.0",
      "model_name": "LayoutModel",
      "state": {
       "_model_module": "@jupyter-widgets/base",
       "_model_module_version": "1.2.0",
       "_model_name": "LayoutModel",
       "_view_count": null,
       "_view_module": "@jupyter-widgets/base",
       "_view_module_version": "1.2.0",
       "_view_name": "LayoutView",
       "align_content": null,
       "align_items": null,
       "align_self": null,
       "border": null,
       "bottom": null,
       "display": null,
       "flex": null,
       "flex_flow": null,
       "grid_area": null,
       "grid_auto_columns": null,
       "grid_auto_flow": null,
       "grid_auto_rows": null,
       "grid_column": null,
       "grid_gap": null,
       "grid_row": null,
       "grid_template_areas": null,
       "grid_template_columns": null,
       "grid_template_rows": null,
       "height": null,
       "justify_content": null,
       "justify_items": null,
       "left": null,
       "margin": null,
       "max_height": null,
       "max_width": null,
       "min_height": null,
       "min_width": null,
       "object_fit": null,
       "object_position": null,
       "order": null,
       "overflow": null,
       "overflow_x": null,
       "overflow_y": null,
       "padding": null,
       "right": null,
       "top": null,
       "visibility": null,
       "width": null
      }
     },
     "9faf43a5f7e245aa84c7381986b9d0b5": {
      "model_module": "@jupyter-widgets/controls",
      "model_module_version": "1.5.0",
      "model_name": "DescriptionStyleModel",
      "state": {
       "_model_module": "@jupyter-widgets/controls",
       "_model_module_version": "1.5.0",
       "_model_name": "DescriptionStyleModel",
       "_view_count": null,
       "_view_module": "@jupyter-widgets/base",
       "_view_module_version": "1.2.0",
       "_view_name": "StyleView",
       "description_width": ""
      }
     },
     "9fafe6b84c3d436b843f710c8aceb3c4": {
      "model_module": "@jupyter-widgets/controls",
      "model_module_version": "1.5.0",
      "model_name": "FloatProgressModel",
      "state": {
       "_dom_classes": [],
       "_model_module": "@jupyter-widgets/controls",
       "_model_module_version": "1.5.0",
       "_model_name": "FloatProgressModel",
       "_view_count": null,
       "_view_module": "@jupyter-widgets/controls",
       "_view_module_version": "1.5.0",
       "_view_name": "ProgressView",
       "bar_style": "",
       "description": "",
       "description_tooltip": null,
       "layout": "IPY_MODEL_4ec638466e65475ba5ff92e92a1f9031",
       "max": 81.0,
       "min": 0.0,
       "orientation": "horizontal",
       "style": "IPY_MODEL_ed5e582ad1c34087a67ec8ee94f2e7cf",
       "value": 81.0
      }
     },
     "a46b1d67bdf14a54a630448d31b11416": {
      "model_module": "@jupyter-widgets/controls",
      "model_module_version": "1.5.0",
      "model_name": "DescriptionStyleModel",
      "state": {
       "_model_module": "@jupyter-widgets/controls",
       "_model_module_version": "1.5.0",
       "_model_name": "DescriptionStyleModel",
       "_view_count": null,
       "_view_module": "@jupyter-widgets/base",
       "_view_module_version": "1.2.0",
       "_view_name": "StyleView",
       "description_width": ""
      }
     },
     "a48a554169e44c1c9d753f6a7db48e56": {
      "model_module": "@jupyter-widgets/controls",
      "model_module_version": "1.5.0",
      "model_name": "HBoxModel",
      "state": {
       "_dom_classes": [],
       "_model_module": "@jupyter-widgets/controls",
       "_model_module_version": "1.5.0",
       "_model_name": "HBoxModel",
       "_view_count": null,
       "_view_module": "@jupyter-widgets/controls",
       "_view_module_version": "1.5.0",
       "_view_name": "HBoxView",
       "box_style": "",
       "children": [
        "IPY_MODEL_5dd9b2d0b9ae48019a1d1410bbef24fd",
        "IPY_MODEL_5d939319c2fb4c1bbcf21b7b875a280e",
        "IPY_MODEL_c4e766a9b04243d3b2387e95ce44fe3a"
       ],
       "layout": "IPY_MODEL_67f428b094d64ba1840cef7276938dd7"
      }
     },
     "a60cb4ce15d54e048cba6ad1f475e134": {
      "model_module": "@jupyter-widgets/controls",
      "model_module_version": "1.5.0",
      "model_name": "HTMLModel",
      "state": {
       "_dom_classes": [],
       "_model_module": "@jupyter-widgets/controls",
       "_model_module_version": "1.5.0",
       "_model_name": "HTMLModel",
       "_view_count": null,
       "_view_module": "@jupyter-widgets/controls",
       "_view_module_version": "1.5.0",
       "_view_name": "HTMLView",
       "description": "",
       "description_tooltip": null,
       "layout": "IPY_MODEL_b69a6b8999da4de69691fc0e9e11b32b",
       "placeholder": "​",
       "style": "IPY_MODEL_cd171106c8ca42d9abff4c5b1c1984c5",
       "value": " 81/81 [00:13&lt;00:00,  6.53it/s, training_loss=0.001]"
      }
     },
     "a81664f023a6439fb09f8480a6592966": {
      "model_module": "@jupyter-widgets/controls",
      "model_module_version": "1.5.0",
      "model_name": "HTMLModel",
      "state": {
       "_dom_classes": [],
       "_model_module": "@jupyter-widgets/controls",
       "_model_module_version": "1.5.0",
       "_model_name": "HTMLModel",
       "_view_count": null,
       "_view_module": "@jupyter-widgets/controls",
       "_view_module_version": "1.5.0",
       "_view_name": "HTMLView",
       "description": "",
       "description_tooltip": null,
       "layout": "IPY_MODEL_8067cef27d6c453cba9e2a2403019e01",
       "placeholder": "​",
       "style": "IPY_MODEL_0ce9c9e0785940dc8d29acc38e1388cf",
       "value": " 81/81 [00:13&lt;00:00,  6.59it/s, training_loss=0.001]"
      }
     },
     "a8ca5e0ce3e2473da2eb30145f0f31a3": {
      "model_module": "@jupyter-widgets/controls",
      "model_module_version": "1.5.0",
      "model_name": "HTMLModel",
      "state": {
       "_dom_classes": [],
       "_model_module": "@jupyter-widgets/controls",
       "_model_module_version": "1.5.0",
       "_model_name": "HTMLModel",
       "_view_count": null,
       "_view_module": "@jupyter-widgets/controls",
       "_view_module_version": "1.5.0",
       "_view_name": "HTMLView",
       "description": "",
       "description_tooltip": null,
       "layout": "IPY_MODEL_73040e0313c3458383d5153fdaeaaa6b",
       "placeholder": "​",
       "style": "IPY_MODEL_c47d45301cc8481c8f8a061836837528",
       "value": "Epoch 6: 100%"
      }
     },
     "a9f7c667a8434931b183bce15609ba0e": {
      "model_module": "@jupyter-widgets/controls",
      "model_module_version": "1.5.0",
      "model_name": "ProgressStyleModel",
      "state": {
       "_model_module": "@jupyter-widgets/controls",
       "_model_module_version": "1.5.0",
       "_model_name": "ProgressStyleModel",
       "_view_count": null,
       "_view_module": "@jupyter-widgets/base",
       "_view_module_version": "1.2.0",
       "_view_name": "StyleView",
       "bar_color": null,
       "description_width": ""
      }
     },
     "aab28396c6da44b7930240446323933e": {
      "model_module": "@jupyter-widgets/controls",
      "model_module_version": "1.5.0",
      "model_name": "ProgressStyleModel",
      "state": {
       "_model_module": "@jupyter-widgets/controls",
       "_model_module_version": "1.5.0",
       "_model_name": "ProgressStyleModel",
       "_view_count": null,
       "_view_module": "@jupyter-widgets/base",
       "_view_module_version": "1.2.0",
       "_view_name": "StyleView",
       "bar_color": null,
       "description_width": ""
      }
     },
     "aaf0651e4c334a82ab830124a03a556b": {
      "model_module": "@jupyter-widgets/controls",
      "model_module_version": "1.5.0",
      "model_name": "FloatProgressModel",
      "state": {
       "_dom_classes": [],
       "_model_module": "@jupyter-widgets/controls",
       "_model_module_version": "1.5.0",
       "_model_name": "FloatProgressModel",
       "_view_count": null,
       "_view_module": "@jupyter-widgets/controls",
       "_view_module_version": "1.5.0",
       "_view_name": "ProgressView",
       "bar_style": "success",
       "description": "",
       "description_tooltip": null,
       "layout": "IPY_MODEL_c4c5d9c18ae94d55a9bb40f587e4e57e",
       "max": 231508.0,
       "min": 0.0,
       "orientation": "horizontal",
       "style": "IPY_MODEL_d9b50cb649d6452daf894c1ab1eb9538",
       "value": 231508.0
      }
     },
     "ac3b4742181d4f159f662e13fe1dba3f": {
      "model_module": "@jupyter-widgets/base",
      "model_module_version": "1.2.0",
      "model_name": "LayoutModel",
      "state": {
       "_model_module": "@jupyter-widgets/base",
       "_model_module_version": "1.2.0",
       "_model_name": "LayoutModel",
       "_view_count": null,
       "_view_module": "@jupyter-widgets/base",
       "_view_module_version": "1.2.0",
       "_view_name": "LayoutView",
       "align_content": null,
       "align_items": null,
       "align_self": null,
       "border": null,
       "bottom": null,
       "display": null,
       "flex": null,
       "flex_flow": null,
       "grid_area": null,
       "grid_auto_columns": null,
       "grid_auto_flow": null,
       "grid_auto_rows": null,
       "grid_column": null,
       "grid_gap": null,
       "grid_row": null,
       "grid_template_areas": null,
       "grid_template_columns": null,
       "grid_template_rows": null,
       "height": null,
       "justify_content": null,
       "justify_items": null,
       "left": null,
       "margin": null,
       "max_height": null,
       "max_width": null,
       "min_height": null,
       "min_width": null,
       "object_fit": null,
       "object_position": null,
       "order": null,
       "overflow": null,
       "overflow_x": null,
       "overflow_y": null,
       "padding": null,
       "right": null,
       "top": null,
       "visibility": null,
       "width": null
      }
     },
     "acaad4f3a545451eb53bf5221397b7ab": {
      "model_module": "@jupyter-widgets/controls",
      "model_module_version": "1.5.0",
      "model_name": "ProgressStyleModel",
      "state": {
       "_model_module": "@jupyter-widgets/controls",
       "_model_module_version": "1.5.0",
       "_model_name": "ProgressStyleModel",
       "_view_count": null,
       "_view_module": "@jupyter-widgets/base",
       "_view_module_version": "1.2.0",
       "_view_name": "StyleView",
       "bar_color": null,
       "description_width": ""
      }
     },
     "afa46969b4154a839ec26996a6a91c95": {
      "model_module": "@jupyter-widgets/controls",
      "model_module_version": "1.5.0",
      "model_name": "DescriptionStyleModel",
      "state": {
       "_model_module": "@jupyter-widgets/controls",
       "_model_module_version": "1.5.0",
       "_model_name": "DescriptionStyleModel",
       "_view_count": null,
       "_view_module": "@jupyter-widgets/base",
       "_view_module_version": "1.2.0",
       "_view_name": "StyleView",
       "description_width": ""
      }
     },
     "b079b4c94ab34a92957f67bf06ad7257": {
      "model_module": "@jupyter-widgets/controls",
      "model_module_version": "1.5.0",
      "model_name": "DescriptionStyleModel",
      "state": {
       "_model_module": "@jupyter-widgets/controls",
       "_model_module_version": "1.5.0",
       "_model_name": "DescriptionStyleModel",
       "_view_count": null,
       "_view_module": "@jupyter-widgets/base",
       "_view_module_version": "1.2.0",
       "_view_name": "StyleView",
       "description_width": ""
      }
     },
     "b0e84c76b3bf498aa702b4f605330c7e": {
      "model_module": "@jupyter-widgets/base",
      "model_module_version": "1.2.0",
      "model_name": "LayoutModel",
      "state": {
       "_model_module": "@jupyter-widgets/base",
       "_model_module_version": "1.2.0",
       "_model_name": "LayoutModel",
       "_view_count": null,
       "_view_module": "@jupyter-widgets/base",
       "_view_module_version": "1.2.0",
       "_view_name": "LayoutView",
       "align_content": null,
       "align_items": null,
       "align_self": null,
       "border": null,
       "bottom": null,
       "display": null,
       "flex": null,
       "flex_flow": null,
       "grid_area": null,
       "grid_auto_columns": null,
       "grid_auto_flow": null,
       "grid_auto_rows": null,
       "grid_column": null,
       "grid_gap": null,
       "grid_row": null,
       "grid_template_areas": null,
       "grid_template_columns": null,
       "grid_template_rows": null,
       "height": null,
       "justify_content": null,
       "justify_items": null,
       "left": null,
       "margin": null,
       "max_height": null,
       "max_width": null,
       "min_height": null,
       "min_width": null,
       "object_fit": null,
       "object_position": null,
       "order": null,
       "overflow": null,
       "overflow_x": null,
       "overflow_y": null,
       "padding": null,
       "right": null,
       "top": null,
       "visibility": null,
       "width": null
      }
     },
     "b1037c25e1374e5a928e3135fad89eae": {
      "model_module": "@jupyter-widgets/controls",
      "model_module_version": "1.5.0",
      "model_name": "FloatProgressModel",
      "state": {
       "_dom_classes": [],
       "_model_module": "@jupyter-widgets/controls",
       "_model_module_version": "1.5.0",
       "_model_name": "FloatProgressModel",
       "_view_count": null,
       "_view_module": "@jupyter-widgets/controls",
       "_view_module_version": "1.5.0",
       "_view_name": "ProgressView",
       "bar_style": "",
       "description": "",
       "description_tooltip": null,
       "layout": "IPY_MODEL_d5fd1b389d6f42f0af1e1bba97584a9d",
       "max": 81.0,
       "min": 0.0,
       "orientation": "horizontal",
       "style": "IPY_MODEL_90e36e02e7474699aed8c764489914bb",
       "value": 81.0
      }
     },
     "b1c873a3ff9b4bc3aa406534353a128d": {
      "model_module": "@jupyter-widgets/controls",
      "model_module_version": "1.5.0",
      "model_name": "DescriptionStyleModel",
      "state": {
       "_model_module": "@jupyter-widgets/controls",
       "_model_module_version": "1.5.0",
       "_model_name": "DescriptionStyleModel",
       "_view_count": null,
       "_view_module": "@jupyter-widgets/base",
       "_view_module_version": "1.2.0",
       "_view_name": "StyleView",
       "description_width": ""
      }
     },
     "b5505cb97fcc431a8cbca0445f7b410b": {
      "model_module": "@jupyter-widgets/base",
      "model_module_version": "1.2.0",
      "model_name": "LayoutModel",
      "state": {
       "_model_module": "@jupyter-widgets/base",
       "_model_module_version": "1.2.0",
       "_model_name": "LayoutModel",
       "_view_count": null,
       "_view_module": "@jupyter-widgets/base",
       "_view_module_version": "1.2.0",
       "_view_name": "LayoutView",
       "align_content": null,
       "align_items": null,
       "align_self": null,
       "border": null,
       "bottom": null,
       "display": null,
       "flex": null,
       "flex_flow": null,
       "grid_area": null,
       "grid_auto_columns": null,
       "grid_auto_flow": null,
       "grid_auto_rows": null,
       "grid_column": null,
       "grid_gap": null,
       "grid_row": null,
       "grid_template_areas": null,
       "grid_template_columns": null,
       "grid_template_rows": null,
       "height": null,
       "justify_content": null,
       "justify_items": null,
       "left": null,
       "margin": null,
       "max_height": null,
       "max_width": null,
       "min_height": null,
       "min_width": null,
       "object_fit": null,
       "object_position": null,
       "order": null,
       "overflow": null,
       "overflow_x": null,
       "overflow_y": null,
       "padding": null,
       "right": null,
       "top": null,
       "visibility": null,
       "width": null
      }
     },
     "b62973f0b41a48dba9f33315502ec124": {
      "model_module": "@jupyter-widgets/controls",
      "model_module_version": "1.5.0",
      "model_name": "HTMLModel",
      "state": {
       "_dom_classes": [],
       "_model_module": "@jupyter-widgets/controls",
       "_model_module_version": "1.5.0",
       "_model_name": "HTMLModel",
       "_view_count": null,
       "_view_module": "@jupyter-widgets/controls",
       "_view_module_version": "1.5.0",
       "_view_name": "HTMLView",
       "description": "",
       "description_tooltip": null,
       "layout": "IPY_MODEL_110d5f01ac3d47fda7ae91bbe0a7fe6e",
       "placeholder": "​",
       "style": "IPY_MODEL_b1c873a3ff9b4bc3aa406534353a128d",
       "value": "Epoch 10: 100%"
      }
     },
     "b69a6b8999da4de69691fc0e9e11b32b": {
      "model_module": "@jupyter-widgets/base",
      "model_module_version": "1.2.0",
      "model_name": "LayoutModel",
      "state": {
       "_model_module": "@jupyter-widgets/base",
       "_model_module_version": "1.2.0",
       "_model_name": "LayoutModel",
       "_view_count": null,
       "_view_module": "@jupyter-widgets/base",
       "_view_module_version": "1.2.0",
       "_view_name": "LayoutView",
       "align_content": null,
       "align_items": null,
       "align_self": null,
       "border": null,
       "bottom": null,
       "display": null,
       "flex": null,
       "flex_flow": null,
       "grid_area": null,
       "grid_auto_columns": null,
       "grid_auto_flow": null,
       "grid_auto_rows": null,
       "grid_column": null,
       "grid_gap": null,
       "grid_row": null,
       "grid_template_areas": null,
       "grid_template_columns": null,
       "grid_template_rows": null,
       "height": null,
       "justify_content": null,
       "justify_items": null,
       "left": null,
       "margin": null,
       "max_height": null,
       "max_width": null,
       "min_height": null,
       "min_width": null,
       "object_fit": null,
       "object_position": null,
       "order": null,
       "overflow": null,
       "overflow_x": null,
       "overflow_y": null,
       "padding": null,
       "right": null,
       "top": null,
       "visibility": null,
       "width": null
      }
     },
     "b72dae89d7e646cc909786271a8e0730": {
      "model_module": "@jupyter-widgets/base",
      "model_module_version": "1.2.0",
      "model_name": "LayoutModel",
      "state": {
       "_model_module": "@jupyter-widgets/base",
       "_model_module_version": "1.2.0",
       "_model_name": "LayoutModel",
       "_view_count": null,
       "_view_module": "@jupyter-widgets/base",
       "_view_module_version": "1.2.0",
       "_view_name": "LayoutView",
       "align_content": null,
       "align_items": null,
       "align_self": null,
       "border": null,
       "bottom": null,
       "display": null,
       "flex": null,
       "flex_flow": null,
       "grid_area": null,
       "grid_auto_columns": null,
       "grid_auto_flow": null,
       "grid_auto_rows": null,
       "grid_column": null,
       "grid_gap": null,
       "grid_row": null,
       "grid_template_areas": null,
       "grid_template_columns": null,
       "grid_template_rows": null,
       "height": null,
       "justify_content": null,
       "justify_items": null,
       "left": null,
       "margin": null,
       "max_height": null,
       "max_width": null,
       "min_height": null,
       "min_width": null,
       "object_fit": null,
       "object_position": null,
       "order": null,
       "overflow": null,
       "overflow_x": null,
       "overflow_y": null,
       "padding": null,
       "right": null,
       "top": null,
       "visibility": null,
       "width": null
      }
     },
     "b9a1fc8dadbe4d04b11e8145f6d855d0": {
      "model_module": "@jupyter-widgets/controls",
      "model_module_version": "1.5.0",
      "model_name": "HTMLModel",
      "state": {
       "_dom_classes": [],
       "_model_module": "@jupyter-widgets/controls",
       "_model_module_version": "1.5.0",
       "_model_name": "HTMLModel",
       "_view_count": null,
       "_view_module": "@jupyter-widgets/controls",
       "_view_module_version": "1.5.0",
       "_view_name": "HTMLView",
       "description": "",
       "description_tooltip": null,
       "layout": "IPY_MODEL_8c13aa071666497898c03122e43e3058",
       "placeholder": "​",
       "style": "IPY_MODEL_f8a17c1509b5447aac51047b529c5e83",
       "value": "Downloading: 100%"
      }
     },
     "bcfd3c56ef8d4b8ab07df84d7e3f8fdb": {
      "model_module": "@jupyter-widgets/controls",
      "model_module_version": "1.5.0",
      "model_name": "HTMLModel",
      "state": {
       "_dom_classes": [],
       "_model_module": "@jupyter-widgets/controls",
       "_model_module_version": "1.5.0",
       "_model_name": "HTMLModel",
       "_view_count": null,
       "_view_module": "@jupyter-widgets/controls",
       "_view_module_version": "1.5.0",
       "_view_name": "HTMLView",
       "description": "",
       "description_tooltip": null,
       "layout": "IPY_MODEL_733dc5b5841b44ecb270c1f4d9274cf0",
       "placeholder": "​",
       "style": "IPY_MODEL_2cdf237bc22445c08028b53891d75618",
       "value": " 81/81 [00:14&lt;00:00,  6.83it/s, training_loss=0.511]"
      }
     },
     "bd35e85dacef46a181a392fe1e139e7b": {
      "model_module": "@jupyter-widgets/controls",
      "model_module_version": "1.5.0",
      "model_name": "HTMLModel",
      "state": {
       "_dom_classes": [],
       "_model_module": "@jupyter-widgets/controls",
       "_model_module_version": "1.5.0",
       "_model_name": "HTMLModel",
       "_view_count": null,
       "_view_module": "@jupyter-widgets/controls",
       "_view_module_version": "1.5.0",
       "_view_name": "HTMLView",
       "description": "",
       "description_tooltip": null,
       "layout": "IPY_MODEL_f03eb2a0f7c0405a9f9b6db4a9f0bd27",
       "placeholder": "​",
       "style": "IPY_MODEL_e34d48d4f8034b6a944aa7e001457249",
       "value": " 81/81 [00:13&lt;00:00,  6.33it/s, training_loss=0.001]"
      }
     },
     "c07807a282bd4e838c2758fa6147eb57": {
      "model_module": "@jupyter-widgets/base",
      "model_module_version": "1.2.0",
      "model_name": "LayoutModel",
      "state": {
       "_model_module": "@jupyter-widgets/base",
       "_model_module_version": "1.2.0",
       "_model_name": "LayoutModel",
       "_view_count": null,
       "_view_module": "@jupyter-widgets/base",
       "_view_module_version": "1.2.0",
       "_view_name": "LayoutView",
       "align_content": null,
       "align_items": null,
       "align_self": null,
       "border": null,
       "bottom": null,
       "display": null,
       "flex": null,
       "flex_flow": null,
       "grid_area": null,
       "grid_auto_columns": null,
       "grid_auto_flow": null,
       "grid_auto_rows": null,
       "grid_column": null,
       "grid_gap": null,
       "grid_row": null,
       "grid_template_areas": null,
       "grid_template_columns": null,
       "grid_template_rows": null,
       "height": null,
       "justify_content": null,
       "justify_items": null,
       "left": null,
       "margin": null,
       "max_height": null,
       "max_width": null,
       "min_height": null,
       "min_width": null,
       "object_fit": null,
       "object_position": null,
       "order": null,
       "overflow": null,
       "overflow_x": null,
       "overflow_y": null,
       "padding": null,
       "right": null,
       "top": null,
       "visibility": null,
       "width": null
      }
     },
     "c19c1d499f9b47fba3a8efd336d39da1": {
      "model_module": "@jupyter-widgets/controls",
      "model_module_version": "1.5.0",
      "model_name": "HBoxModel",
      "state": {
       "_dom_classes": [],
       "_model_module": "@jupyter-widgets/controls",
       "_model_module_version": "1.5.0",
       "_model_name": "HBoxModel",
       "_view_count": null,
       "_view_module": "@jupyter-widgets/controls",
       "_view_module_version": "1.5.0",
       "_view_name": "HBoxView",
       "box_style": "",
       "children": [
        "IPY_MODEL_43fd8649918e4f448e688a7ceb1910fd",
        "IPY_MODEL_29571512d82145fd938e05c01f20f0b4",
        "IPY_MODEL_c54c8de7140045beb9bf69f6219f6222"
       ],
       "layout": "IPY_MODEL_b72dae89d7e646cc909786271a8e0730"
      }
     },
     "c3fed47b307b4eadb2e38c2e578594ac": {
      "model_module": "@jupyter-widgets/base",
      "model_module_version": "1.2.0",
      "model_name": "LayoutModel",
      "state": {
       "_model_module": "@jupyter-widgets/base",
       "_model_module_version": "1.2.0",
       "_model_name": "LayoutModel",
       "_view_count": null,
       "_view_module": "@jupyter-widgets/base",
       "_view_module_version": "1.2.0",
       "_view_name": "LayoutView",
       "align_content": null,
       "align_items": null,
       "align_self": null,
       "border": null,
       "bottom": null,
       "display": null,
       "flex": null,
       "flex_flow": null,
       "grid_area": null,
       "grid_auto_columns": null,
       "grid_auto_flow": null,
       "grid_auto_rows": null,
       "grid_column": null,
       "grid_gap": null,
       "grid_row": null,
       "grid_template_areas": null,
       "grid_template_columns": null,
       "grid_template_rows": null,
       "height": null,
       "justify_content": null,
       "justify_items": null,
       "left": null,
       "margin": null,
       "max_height": null,
       "max_width": null,
       "min_height": null,
       "min_width": null,
       "object_fit": null,
       "object_position": null,
       "order": null,
       "overflow": null,
       "overflow_x": null,
       "overflow_y": null,
       "padding": null,
       "right": null,
       "top": null,
       "visibility": null,
       "width": null
      }
     },
     "c47d45301cc8481c8f8a061836837528": {
      "model_module": "@jupyter-widgets/controls",
      "model_module_version": "1.5.0",
      "model_name": "DescriptionStyleModel",
      "state": {
       "_model_module": "@jupyter-widgets/controls",
       "_model_module_version": "1.5.0",
       "_model_name": "DescriptionStyleModel",
       "_view_count": null,
       "_view_module": "@jupyter-widgets/base",
       "_view_module_version": "1.2.0",
       "_view_name": "StyleView",
       "description_width": ""
      }
     },
     "c4c5d9c18ae94d55a9bb40f587e4e57e": {
      "model_module": "@jupyter-widgets/base",
      "model_module_version": "1.2.0",
      "model_name": "LayoutModel",
      "state": {
       "_model_module": "@jupyter-widgets/base",
       "_model_module_version": "1.2.0",
       "_model_name": "LayoutModel",
       "_view_count": null,
       "_view_module": "@jupyter-widgets/base",
       "_view_module_version": "1.2.0",
       "_view_name": "LayoutView",
       "align_content": null,
       "align_items": null,
       "align_self": null,
       "border": null,
       "bottom": null,
       "display": null,
       "flex": null,
       "flex_flow": null,
       "grid_area": null,
       "grid_auto_columns": null,
       "grid_auto_flow": null,
       "grid_auto_rows": null,
       "grid_column": null,
       "grid_gap": null,
       "grid_row": null,
       "grid_template_areas": null,
       "grid_template_columns": null,
       "grid_template_rows": null,
       "height": null,
       "justify_content": null,
       "justify_items": null,
       "left": null,
       "margin": null,
       "max_height": null,
       "max_width": null,
       "min_height": null,
       "min_width": null,
       "object_fit": null,
       "object_position": null,
       "order": null,
       "overflow": null,
       "overflow_x": null,
       "overflow_y": null,
       "padding": null,
       "right": null,
       "top": null,
       "visibility": null,
       "width": null
      }
     },
     "c4e766a9b04243d3b2387e95ce44fe3a": {
      "model_module": "@jupyter-widgets/controls",
      "model_module_version": "1.5.0",
      "model_name": "HTMLModel",
      "state": {
       "_dom_classes": [],
       "_model_module": "@jupyter-widgets/controls",
       "_model_module_version": "1.5.0",
       "_model_name": "HTMLModel",
       "_view_count": null,
       "_view_module": "@jupyter-widgets/controls",
       "_view_module_version": "1.5.0",
       "_view_name": "HTMLView",
       "description": "",
       "description_tooltip": null,
       "layout": "IPY_MODEL_302d9783478e438bbdf93ecbc2bf6d8a",
       "placeholder": "​",
       "style": "IPY_MODEL_4b31fe947ecf4abeb422ac119254895e",
       "value": " 420M/420M [00:14&lt;00:00, 26.0MB/s]"
      }
     },
     "c54c8de7140045beb9bf69f6219f6222": {
      "model_module": "@jupyter-widgets/controls",
      "model_module_version": "1.5.0",
      "model_name": "HTMLModel",
      "state": {
       "_dom_classes": [],
       "_model_module": "@jupyter-widgets/controls",
       "_model_module_version": "1.5.0",
       "_model_name": "HTMLModel",
       "_view_count": null,
       "_view_module": "@jupyter-widgets/controls",
       "_view_module_version": "1.5.0",
       "_view_name": "HTMLView",
       "description": "",
       "description_tooltip": null,
       "layout": "IPY_MODEL_858800833007476c9fa1902cd288ad6d",
       "placeholder": "​",
       "style": "IPY_MODEL_ce8c8fc9b7a54562bfabb770ee27abb5",
       "value": " 10/10 [02:29&lt;00:00, 15.03s/it]"
      }
     },
     "c955e731486e41f98c2ebe122fe1ea48": {
      "model_module": "@jupyter-widgets/controls",
      "model_module_version": "1.5.0",
      "model_name": "ProgressStyleModel",
      "state": {
       "_model_module": "@jupyter-widgets/controls",
       "_model_module_version": "1.5.0",
       "_model_name": "ProgressStyleModel",
       "_view_count": null,
       "_view_module": "@jupyter-widgets/base",
       "_view_module_version": "1.2.0",
       "_view_name": "StyleView",
       "bar_color": null,
       "description_width": ""
      }
     },
     "cad2669b1d42450688e84a6f486d307a": {
      "model_module": "@jupyter-widgets/base",
      "model_module_version": "1.2.0",
      "model_name": "LayoutModel",
      "state": {
       "_model_module": "@jupyter-widgets/base",
       "_model_module_version": "1.2.0",
       "_model_name": "LayoutModel",
       "_view_count": null,
       "_view_module": "@jupyter-widgets/base",
       "_view_module_version": "1.2.0",
       "_view_name": "LayoutView",
       "align_content": null,
       "align_items": null,
       "align_self": null,
       "border": null,
       "bottom": null,
       "display": null,
       "flex": null,
       "flex_flow": null,
       "grid_area": null,
       "grid_auto_columns": null,
       "grid_auto_flow": null,
       "grid_auto_rows": null,
       "grid_column": null,
       "grid_gap": null,
       "grid_row": null,
       "grid_template_areas": null,
       "grid_template_columns": null,
       "grid_template_rows": null,
       "height": null,
       "justify_content": null,
       "justify_items": null,
       "left": null,
       "margin": null,
       "max_height": null,
       "max_width": null,
       "min_height": null,
       "min_width": null,
       "object_fit": null,
       "object_position": null,
       "order": null,
       "overflow": null,
       "overflow_x": null,
       "overflow_y": null,
       "padding": null,
       "right": null,
       "top": null,
       "visibility": null,
       "width": null
      }
     },
     "cb6d2cbe71234b498f2f414541edb5bb": {
      "model_module": "@jupyter-widgets/controls",
      "model_module_version": "1.5.0",
      "model_name": "ProgressStyleModel",
      "state": {
       "_model_module": "@jupyter-widgets/controls",
       "_model_module_version": "1.5.0",
       "_model_name": "ProgressStyleModel",
       "_view_count": null,
       "_view_module": "@jupyter-widgets/base",
       "_view_module_version": "1.2.0",
       "_view_name": "StyleView",
       "bar_color": null,
       "description_width": ""
      }
     },
     "cd171106c8ca42d9abff4c5b1c1984c5": {
      "model_module": "@jupyter-widgets/controls",
      "model_module_version": "1.5.0",
      "model_name": "DescriptionStyleModel",
      "state": {
       "_model_module": "@jupyter-widgets/controls",
       "_model_module_version": "1.5.0",
       "_model_name": "DescriptionStyleModel",
       "_view_count": null,
       "_view_module": "@jupyter-widgets/base",
       "_view_module_version": "1.2.0",
       "_view_name": "StyleView",
       "description_width": ""
      }
     },
     "ce8c8fc9b7a54562bfabb770ee27abb5": {
      "model_module": "@jupyter-widgets/controls",
      "model_module_version": "1.5.0",
      "model_name": "DescriptionStyleModel",
      "state": {
       "_model_module": "@jupyter-widgets/controls",
       "_model_module_version": "1.5.0",
       "_model_name": "DescriptionStyleModel",
       "_view_count": null,
       "_view_module": "@jupyter-widgets/base",
       "_view_module_version": "1.2.0",
       "_view_name": "StyleView",
       "description_width": ""
      }
     },
     "cf371a8aab4549c5a8a3dccaea5406c4": {
      "model_module": "@jupyter-widgets/controls",
      "model_module_version": "1.5.0",
      "model_name": "DescriptionStyleModel",
      "state": {
       "_model_module": "@jupyter-widgets/controls",
       "_model_module_version": "1.5.0",
       "_model_name": "DescriptionStyleModel",
       "_view_count": null,
       "_view_module": "@jupyter-widgets/base",
       "_view_module_version": "1.2.0",
       "_view_name": "StyleView",
       "description_width": ""
      }
     },
     "d5fd1b389d6f42f0af1e1bba97584a9d": {
      "model_module": "@jupyter-widgets/base",
      "model_module_version": "1.2.0",
      "model_name": "LayoutModel",
      "state": {
       "_model_module": "@jupyter-widgets/base",
       "_model_module_version": "1.2.0",
       "_model_name": "LayoutModel",
       "_view_count": null,
       "_view_module": "@jupyter-widgets/base",
       "_view_module_version": "1.2.0",
       "_view_name": "LayoutView",
       "align_content": null,
       "align_items": null,
       "align_self": null,
       "border": null,
       "bottom": null,
       "display": null,
       "flex": null,
       "flex_flow": null,
       "grid_area": null,
       "grid_auto_columns": null,
       "grid_auto_flow": null,
       "grid_auto_rows": null,
       "grid_column": null,
       "grid_gap": null,
       "grid_row": null,
       "grid_template_areas": null,
       "grid_template_columns": null,
       "grid_template_rows": null,
       "height": null,
       "justify_content": null,
       "justify_items": null,
       "left": null,
       "margin": null,
       "max_height": null,
       "max_width": null,
       "min_height": null,
       "min_width": null,
       "object_fit": null,
       "object_position": null,
       "order": null,
       "overflow": null,
       "overflow_x": null,
       "overflow_y": null,
       "padding": null,
       "right": null,
       "top": null,
       "visibility": null,
       "width": null
      }
     },
     "d60fa19e7f9e4ebbb33cb25499e47733": {
      "model_module": "@jupyter-widgets/base",
      "model_module_version": "1.2.0",
      "model_name": "LayoutModel",
      "state": {
       "_model_module": "@jupyter-widgets/base",
       "_model_module_version": "1.2.0",
       "_model_name": "LayoutModel",
       "_view_count": null,
       "_view_module": "@jupyter-widgets/base",
       "_view_module_version": "1.2.0",
       "_view_name": "LayoutView",
       "align_content": null,
       "align_items": null,
       "align_self": null,
       "border": null,
       "bottom": null,
       "display": null,
       "flex": null,
       "flex_flow": null,
       "grid_area": null,
       "grid_auto_columns": null,
       "grid_auto_flow": null,
       "grid_auto_rows": null,
       "grid_column": null,
       "grid_gap": null,
       "grid_row": null,
       "grid_template_areas": null,
       "grid_template_columns": null,
       "grid_template_rows": null,
       "height": null,
       "justify_content": null,
       "justify_items": null,
       "left": null,
       "margin": null,
       "max_height": null,
       "max_width": null,
       "min_height": null,
       "min_width": null,
       "object_fit": null,
       "object_position": null,
       "order": null,
       "overflow": null,
       "overflow_x": null,
       "overflow_y": null,
       "padding": null,
       "right": null,
       "top": null,
       "visibility": null,
       "width": null
      }
     },
     "d813d94a61eb4d20b95b95585786f817": {
      "model_module": "@jupyter-widgets/controls",
      "model_module_version": "1.5.0",
      "model_name": "DescriptionStyleModel",
      "state": {
       "_model_module": "@jupyter-widgets/controls",
       "_model_module_version": "1.5.0",
       "_model_name": "DescriptionStyleModel",
       "_view_count": null,
       "_view_module": "@jupyter-widgets/base",
       "_view_module_version": "1.2.0",
       "_view_name": "StyleView",
       "description_width": ""
      }
     },
     "d84ba132048142ffa11cf2541e8b1943": {
      "model_module": "@jupyter-widgets/base",
      "model_module_version": "1.2.0",
      "model_name": "LayoutModel",
      "state": {
       "_model_module": "@jupyter-widgets/base",
       "_model_module_version": "1.2.0",
       "_model_name": "LayoutModel",
       "_view_count": null,
       "_view_module": "@jupyter-widgets/base",
       "_view_module_version": "1.2.0",
       "_view_name": "LayoutView",
       "align_content": null,
       "align_items": null,
       "align_self": null,
       "border": null,
       "bottom": null,
       "display": null,
       "flex": null,
       "flex_flow": null,
       "grid_area": null,
       "grid_auto_columns": null,
       "grid_auto_flow": null,
       "grid_auto_rows": null,
       "grid_column": null,
       "grid_gap": null,
       "grid_row": null,
       "grid_template_areas": null,
       "grid_template_columns": null,
       "grid_template_rows": null,
       "height": null,
       "justify_content": null,
       "justify_items": null,
       "left": null,
       "margin": null,
       "max_height": null,
       "max_width": null,
       "min_height": null,
       "min_width": null,
       "object_fit": null,
       "object_position": null,
       "order": null,
       "overflow": null,
       "overflow_x": null,
       "overflow_y": null,
       "padding": null,
       "right": null,
       "top": null,
       "visibility": null,
       "width": null
      }
     },
     "d92d3cb48850434fa327751c664bd0a0": {
      "model_module": "@jupyter-widgets/base",
      "model_module_version": "1.2.0",
      "model_name": "LayoutModel",
      "state": {
       "_model_module": "@jupyter-widgets/base",
       "_model_module_version": "1.2.0",
       "_model_name": "LayoutModel",
       "_view_count": null,
       "_view_module": "@jupyter-widgets/base",
       "_view_module_version": "1.2.0",
       "_view_name": "LayoutView",
       "align_content": null,
       "align_items": null,
       "align_self": null,
       "border": null,
       "bottom": null,
       "display": null,
       "flex": null,
       "flex_flow": null,
       "grid_area": null,
       "grid_auto_columns": null,
       "grid_auto_flow": null,
       "grid_auto_rows": null,
       "grid_column": null,
       "grid_gap": null,
       "grid_row": null,
       "grid_template_areas": null,
       "grid_template_columns": null,
       "grid_template_rows": null,
       "height": null,
       "justify_content": null,
       "justify_items": null,
       "left": null,
       "margin": null,
       "max_height": null,
       "max_width": null,
       "min_height": null,
       "min_width": null,
       "object_fit": null,
       "object_position": null,
       "order": null,
       "overflow": null,
       "overflow_x": null,
       "overflow_y": null,
       "padding": null,
       "right": null,
       "top": null,
       "visibility": null,
       "width": null
      }
     },
     "d9b50cb649d6452daf894c1ab1eb9538": {
      "model_module": "@jupyter-widgets/controls",
      "model_module_version": "1.5.0",
      "model_name": "ProgressStyleModel",
      "state": {
       "_model_module": "@jupyter-widgets/controls",
       "_model_module_version": "1.5.0",
       "_model_name": "ProgressStyleModel",
       "_view_count": null,
       "_view_module": "@jupyter-widgets/base",
       "_view_module_version": "1.2.0",
       "_view_name": "StyleView",
       "bar_color": null,
       "description_width": ""
      }
     },
     "dad8311fa90645099337a295acc6ca06": {
      "model_module": "@jupyter-widgets/controls",
      "model_module_version": "1.5.0",
      "model_name": "HTMLModel",
      "state": {
       "_dom_classes": [],
       "_model_module": "@jupyter-widgets/controls",
       "_model_module_version": "1.5.0",
       "_model_name": "HTMLModel",
       "_view_count": null,
       "_view_module": "@jupyter-widgets/controls",
       "_view_module_version": "1.5.0",
       "_view_name": "HTMLView",
       "description": "",
       "description_tooltip": null,
       "layout": "IPY_MODEL_f7afe214ce2f4383bbc5fd043a304cbb",
       "placeholder": "​",
       "style": "IPY_MODEL_839c42f555a343b2aabac18a3eecae9e",
       "value": "Downloading: 100%"
      }
     },
     "db3aee2ae7d54abfb9499d321d053a1e": {
      "model_module": "@jupyter-widgets/base",
      "model_module_version": "1.2.0",
      "model_name": "LayoutModel",
      "state": {
       "_model_module": "@jupyter-widgets/base",
       "_model_module_version": "1.2.0",
       "_model_name": "LayoutModel",
       "_view_count": null,
       "_view_module": "@jupyter-widgets/base",
       "_view_module_version": "1.2.0",
       "_view_name": "LayoutView",
       "align_content": null,
       "align_items": null,
       "align_self": null,
       "border": null,
       "bottom": null,
       "display": null,
       "flex": null,
       "flex_flow": null,
       "grid_area": null,
       "grid_auto_columns": null,
       "grid_auto_flow": null,
       "grid_auto_rows": null,
       "grid_column": null,
       "grid_gap": null,
       "grid_row": null,
       "grid_template_areas": null,
       "grid_template_columns": null,
       "grid_template_rows": null,
       "height": null,
       "justify_content": null,
       "justify_items": null,
       "left": null,
       "margin": null,
       "max_height": null,
       "max_width": null,
       "min_height": null,
       "min_width": null,
       "object_fit": null,
       "object_position": null,
       "order": null,
       "overflow": null,
       "overflow_x": null,
       "overflow_y": null,
       "padding": null,
       "right": null,
       "top": null,
       "visibility": null,
       "width": null
      }
     },
     "db892fcecef74a50ad847fc20318dc50": {
      "model_module": "@jupyter-widgets/controls",
      "model_module_version": "1.5.0",
      "model_name": "HTMLModel",
      "state": {
       "_dom_classes": [],
       "_model_module": "@jupyter-widgets/controls",
       "_model_module_version": "1.5.0",
       "_model_name": "HTMLModel",
       "_view_count": null,
       "_view_module": "@jupyter-widgets/controls",
       "_view_module_version": "1.5.0",
       "_view_name": "HTMLView",
       "description": "",
       "description_tooltip": null,
       "layout": "IPY_MODEL_6261411b2141425b999feece0c6b59e4",
       "placeholder": "​",
       "style": "IPY_MODEL_8f23ec0d2610437895fc26e1fa49a4f9",
       "value": " 81/81 [00:13&lt;00:00,  6.56it/s, training_loss=0.008]"
      }
     },
     "dc471968738e4a36bb99ded486f6471b": {
      "model_module": "@jupyter-widgets/base",
      "model_module_version": "1.2.0",
      "model_name": "LayoutModel",
      "state": {
       "_model_module": "@jupyter-widgets/base",
       "_model_module_version": "1.2.0",
       "_model_name": "LayoutModel",
       "_view_count": null,
       "_view_module": "@jupyter-widgets/base",
       "_view_module_version": "1.2.0",
       "_view_name": "LayoutView",
       "align_content": null,
       "align_items": null,
       "align_self": null,
       "border": null,
       "bottom": null,
       "display": null,
       "flex": null,
       "flex_flow": null,
       "grid_area": null,
       "grid_auto_columns": null,
       "grid_auto_flow": null,
       "grid_auto_rows": null,
       "grid_column": null,
       "grid_gap": null,
       "grid_row": null,
       "grid_template_areas": null,
       "grid_template_columns": null,
       "grid_template_rows": null,
       "height": null,
       "justify_content": null,
       "justify_items": null,
       "left": null,
       "margin": null,
       "max_height": null,
       "max_width": null,
       "min_height": null,
       "min_width": null,
       "object_fit": null,
       "object_position": null,
       "order": null,
       "overflow": null,
       "overflow_x": null,
       "overflow_y": null,
       "padding": null,
       "right": null,
       "top": null,
       "visibility": null,
       "width": null
      }
     },
     "dc694b7256fd417d868fa1cf48b6de28": {
      "model_module": "@jupyter-widgets/base",
      "model_module_version": "1.2.0",
      "model_name": "LayoutModel",
      "state": {
       "_model_module": "@jupyter-widgets/base",
       "_model_module_version": "1.2.0",
       "_model_name": "LayoutModel",
       "_view_count": null,
       "_view_module": "@jupyter-widgets/base",
       "_view_module_version": "1.2.0",
       "_view_name": "LayoutView",
       "align_content": null,
       "align_items": null,
       "align_self": null,
       "border": null,
       "bottom": null,
       "display": null,
       "flex": null,
       "flex_flow": null,
       "grid_area": null,
       "grid_auto_columns": null,
       "grid_auto_flow": null,
       "grid_auto_rows": null,
       "grid_column": null,
       "grid_gap": null,
       "grid_row": null,
       "grid_template_areas": null,
       "grid_template_columns": null,
       "grid_template_rows": null,
       "height": null,
       "justify_content": null,
       "justify_items": null,
       "left": null,
       "margin": null,
       "max_height": null,
       "max_width": null,
       "min_height": null,
       "min_width": null,
       "object_fit": null,
       "object_position": null,
       "order": null,
       "overflow": null,
       "overflow_x": null,
       "overflow_y": null,
       "padding": null,
       "right": null,
       "top": null,
       "visibility": null,
       "width": null
      }
     },
     "e2dd4eb8084943b5ae354e673617a495": {
      "model_module": "@jupyter-widgets/controls",
      "model_module_version": "1.5.0",
      "model_name": "FloatProgressModel",
      "state": {
       "_dom_classes": [],
       "_model_module": "@jupyter-widgets/controls",
       "_model_module_version": "1.5.0",
       "_model_name": "FloatProgressModel",
       "_view_count": null,
       "_view_module": "@jupyter-widgets/controls",
       "_view_module_version": "1.5.0",
       "_view_name": "ProgressView",
       "bar_style": "",
       "description": "",
       "description_tooltip": null,
       "layout": "IPY_MODEL_d60fa19e7f9e4ebbb33cb25499e47733",
       "max": 81.0,
       "min": 0.0,
       "orientation": "horizontal",
       "style": "IPY_MODEL_51a3e44bb53d4b2da2cbe823d25e2bb6",
       "value": 81.0
      }
     },
     "e317d52193454e49bc3b0dd6797c002d": {
      "model_module": "@jupyter-widgets/base",
      "model_module_version": "1.2.0",
      "model_name": "LayoutModel",
      "state": {
       "_model_module": "@jupyter-widgets/base",
       "_model_module_version": "1.2.0",
       "_model_name": "LayoutModel",
       "_view_count": null,
       "_view_module": "@jupyter-widgets/base",
       "_view_module_version": "1.2.0",
       "_view_name": "LayoutView",
       "align_content": null,
       "align_items": null,
       "align_self": null,
       "border": null,
       "bottom": null,
       "display": null,
       "flex": null,
       "flex_flow": null,
       "grid_area": null,
       "grid_auto_columns": null,
       "grid_auto_flow": null,
       "grid_auto_rows": null,
       "grid_column": null,
       "grid_gap": null,
       "grid_row": null,
       "grid_template_areas": null,
       "grid_template_columns": null,
       "grid_template_rows": null,
       "height": null,
       "justify_content": null,
       "justify_items": null,
       "left": null,
       "margin": null,
       "max_height": null,
       "max_width": null,
       "min_height": null,
       "min_width": null,
       "object_fit": null,
       "object_position": null,
       "order": null,
       "overflow": null,
       "overflow_x": null,
       "overflow_y": null,
       "padding": null,
       "right": null,
       "top": null,
       "visibility": null,
       "width": null
      }
     },
     "e34d48d4f8034b6a944aa7e001457249": {
      "model_module": "@jupyter-widgets/controls",
      "model_module_version": "1.5.0",
      "model_name": "DescriptionStyleModel",
      "state": {
       "_model_module": "@jupyter-widgets/controls",
       "_model_module_version": "1.5.0",
       "_model_name": "DescriptionStyleModel",
       "_view_count": null,
       "_view_module": "@jupyter-widgets/base",
       "_view_module_version": "1.2.0",
       "_view_name": "StyleView",
       "description_width": ""
      }
     },
     "e3589f5428324052aa1da989eedd0f91": {
      "model_module": "@jupyter-widgets/base",
      "model_module_version": "1.2.0",
      "model_name": "LayoutModel",
      "state": {
       "_model_module": "@jupyter-widgets/base",
       "_model_module_version": "1.2.0",
       "_model_name": "LayoutModel",
       "_view_count": null,
       "_view_module": "@jupyter-widgets/base",
       "_view_module_version": "1.2.0",
       "_view_name": "LayoutView",
       "align_content": null,
       "align_items": null,
       "align_self": null,
       "border": null,
       "bottom": null,
       "display": null,
       "flex": null,
       "flex_flow": null,
       "grid_area": null,
       "grid_auto_columns": null,
       "grid_auto_flow": null,
       "grid_auto_rows": null,
       "grid_column": null,
       "grid_gap": null,
       "grid_row": null,
       "grid_template_areas": null,
       "grid_template_columns": null,
       "grid_template_rows": null,
       "height": null,
       "justify_content": null,
       "justify_items": null,
       "left": null,
       "margin": null,
       "max_height": null,
       "max_width": null,
       "min_height": null,
       "min_width": null,
       "object_fit": null,
       "object_position": null,
       "order": null,
       "overflow": null,
       "overflow_x": null,
       "overflow_y": null,
       "padding": null,
       "right": null,
       "top": null,
       "visibility": null,
       "width": null
      }
     },
     "e3b2aa93b2bc44c0bf1aa27ba33e3a83": {
      "model_module": "@jupyter-widgets/base",
      "model_module_version": "1.2.0",
      "model_name": "LayoutModel",
      "state": {
       "_model_module": "@jupyter-widgets/base",
       "_model_module_version": "1.2.0",
       "_model_name": "LayoutModel",
       "_view_count": null,
       "_view_module": "@jupyter-widgets/base",
       "_view_module_version": "1.2.0",
       "_view_name": "LayoutView",
       "align_content": null,
       "align_items": null,
       "align_self": null,
       "border": null,
       "bottom": null,
       "display": null,
       "flex": null,
       "flex_flow": null,
       "grid_area": null,
       "grid_auto_columns": null,
       "grid_auto_flow": null,
       "grid_auto_rows": null,
       "grid_column": null,
       "grid_gap": null,
       "grid_row": null,
       "grid_template_areas": null,
       "grid_template_columns": null,
       "grid_template_rows": null,
       "height": null,
       "justify_content": null,
       "justify_items": null,
       "left": null,
       "margin": null,
       "max_height": null,
       "max_width": null,
       "min_height": null,
       "min_width": null,
       "object_fit": null,
       "object_position": null,
       "order": null,
       "overflow": null,
       "overflow_x": null,
       "overflow_y": null,
       "padding": null,
       "right": null,
       "top": null,
       "visibility": null,
       "width": null
      }
     },
     "e5cbd626fe3d4b4e99aa64f134789aaa": {
      "model_module": "@jupyter-widgets/controls",
      "model_module_version": "1.5.0",
      "model_name": "DescriptionStyleModel",
      "state": {
       "_model_module": "@jupyter-widgets/controls",
       "_model_module_version": "1.5.0",
       "_model_name": "DescriptionStyleModel",
       "_view_count": null,
       "_view_module": "@jupyter-widgets/base",
       "_view_module_version": "1.2.0",
       "_view_name": "StyleView",
       "description_width": ""
      }
     },
     "e7280b1f9012491198d9d5ebedf77e22": {
      "model_module": "@jupyter-widgets/base",
      "model_module_version": "1.2.0",
      "model_name": "LayoutModel",
      "state": {
       "_model_module": "@jupyter-widgets/base",
       "_model_module_version": "1.2.0",
       "_model_name": "LayoutModel",
       "_view_count": null,
       "_view_module": "@jupyter-widgets/base",
       "_view_module_version": "1.2.0",
       "_view_name": "LayoutView",
       "align_content": null,
       "align_items": null,
       "align_self": null,
       "border": null,
       "bottom": null,
       "display": null,
       "flex": null,
       "flex_flow": null,
       "grid_area": null,
       "grid_auto_columns": null,
       "grid_auto_flow": null,
       "grid_auto_rows": null,
       "grid_column": null,
       "grid_gap": null,
       "grid_row": null,
       "grid_template_areas": null,
       "grid_template_columns": null,
       "grid_template_rows": null,
       "height": null,
       "justify_content": null,
       "justify_items": null,
       "left": null,
       "margin": null,
       "max_height": null,
       "max_width": null,
       "min_height": null,
       "min_width": null,
       "object_fit": null,
       "object_position": null,
       "order": null,
       "overflow": null,
       "overflow_x": null,
       "overflow_y": null,
       "padding": null,
       "right": null,
       "top": null,
       "visibility": null,
       "width": null
      }
     },
     "ea66506329194268848645d903a4ea5e": {
      "model_module": "@jupyter-widgets/controls",
      "model_module_version": "1.5.0",
      "model_name": "DescriptionStyleModel",
      "state": {
       "_model_module": "@jupyter-widgets/controls",
       "_model_module_version": "1.5.0",
       "_model_name": "DescriptionStyleModel",
       "_view_count": null,
       "_view_module": "@jupyter-widgets/base",
       "_view_module_version": "1.2.0",
       "_view_name": "StyleView",
       "description_width": ""
      }
     },
     "ed435fe6c93048738298a5fa450449b1": {
      "model_module": "@jupyter-widgets/controls",
      "model_module_version": "1.5.0",
      "model_name": "HBoxModel",
      "state": {
       "_dom_classes": [],
       "_model_module": "@jupyter-widgets/controls",
       "_model_module_version": "1.5.0",
       "_model_name": "HBoxModel",
       "_view_count": null,
       "_view_module": "@jupyter-widgets/controls",
       "_view_module_version": "1.5.0",
       "_view_name": "HBoxView",
       "box_style": "",
       "children": [
        "IPY_MODEL_2ee8092b272a403ababe0767c3fb5646",
        "IPY_MODEL_5a06aecdded84d1489865689636c6026",
        "IPY_MODEL_900b8a5d18444dc5a27d1194df8738ab"
       ],
       "layout": "IPY_MODEL_d84ba132048142ffa11cf2541e8b1943"
      }
     },
     "ed5e582ad1c34087a67ec8ee94f2e7cf": {
      "model_module": "@jupyter-widgets/controls",
      "model_module_version": "1.5.0",
      "model_name": "ProgressStyleModel",
      "state": {
       "_model_module": "@jupyter-widgets/controls",
       "_model_module_version": "1.5.0",
       "_model_name": "ProgressStyleModel",
       "_view_count": null,
       "_view_module": "@jupyter-widgets/base",
       "_view_module_version": "1.2.0",
       "_view_name": "StyleView",
       "bar_color": null,
       "description_width": ""
      }
     },
     "f03eb2a0f7c0405a9f9b6db4a9f0bd27": {
      "model_module": "@jupyter-widgets/base",
      "model_module_version": "1.2.0",
      "model_name": "LayoutModel",
      "state": {
       "_model_module": "@jupyter-widgets/base",
       "_model_module_version": "1.2.0",
       "_model_name": "LayoutModel",
       "_view_count": null,
       "_view_module": "@jupyter-widgets/base",
       "_view_module_version": "1.2.0",
       "_view_name": "LayoutView",
       "align_content": null,
       "align_items": null,
       "align_self": null,
       "border": null,
       "bottom": null,
       "display": null,
       "flex": null,
       "flex_flow": null,
       "grid_area": null,
       "grid_auto_columns": null,
       "grid_auto_flow": null,
       "grid_auto_rows": null,
       "grid_column": null,
       "grid_gap": null,
       "grid_row": null,
       "grid_template_areas": null,
       "grid_template_columns": null,
       "grid_template_rows": null,
       "height": null,
       "justify_content": null,
       "justify_items": null,
       "left": null,
       "margin": null,
       "max_height": null,
       "max_width": null,
       "min_height": null,
       "min_width": null,
       "object_fit": null,
       "object_position": null,
       "order": null,
       "overflow": null,
       "overflow_x": null,
       "overflow_y": null,
       "padding": null,
       "right": null,
       "top": null,
       "visibility": null,
       "width": null
      }
     },
     "f0e82c9d425b401cae30300a82a086cb": {
      "model_module": "@jupyter-widgets/controls",
      "model_module_version": "1.5.0",
      "model_name": "HBoxModel",
      "state": {
       "_dom_classes": [],
       "_model_module": "@jupyter-widgets/controls",
       "_model_module_version": "1.5.0",
       "_model_name": "HBoxModel",
       "_view_count": null,
       "_view_module": "@jupyter-widgets/controls",
       "_view_module_version": "1.5.0",
       "_view_name": "HBoxView",
       "box_style": "",
       "children": [
        "IPY_MODEL_7529c87ae6474abe8a1d8dfc55a39576",
        "IPY_MODEL_9fafe6b84c3d436b843f710c8aceb3c4",
        "IPY_MODEL_10482ea8339f48dd86488598c2f574a9"
       ],
       "layout": "IPY_MODEL_fde8bc9cce954daea8e7bde3154eb70a"
      }
     },
     "f3b636b78b434a638fb7b7d37752c2e3": {
      "model_module": "@jupyter-widgets/controls",
      "model_module_version": "1.5.0",
      "model_name": "ProgressStyleModel",
      "state": {
       "_model_module": "@jupyter-widgets/controls",
       "_model_module_version": "1.5.0",
       "_model_name": "ProgressStyleModel",
       "_view_count": null,
       "_view_module": "@jupyter-widgets/base",
       "_view_module_version": "1.2.0",
       "_view_name": "StyleView",
       "bar_color": null,
       "description_width": ""
      }
     },
     "f42917ab1cf4484bbea06744c02b7c83": {
      "model_module": "@jupyter-widgets/controls",
      "model_module_version": "1.5.0",
      "model_name": "DescriptionStyleModel",
      "state": {
       "_model_module": "@jupyter-widgets/controls",
       "_model_module_version": "1.5.0",
       "_model_name": "DescriptionStyleModel",
       "_view_count": null,
       "_view_module": "@jupyter-widgets/base",
       "_view_module_version": "1.2.0",
       "_view_name": "StyleView",
       "description_width": ""
      }
     },
     "f7afe214ce2f4383bbc5fd043a304cbb": {
      "model_module": "@jupyter-widgets/base",
      "model_module_version": "1.2.0",
      "model_name": "LayoutModel",
      "state": {
       "_model_module": "@jupyter-widgets/base",
       "_model_module_version": "1.2.0",
       "_model_name": "LayoutModel",
       "_view_count": null,
       "_view_module": "@jupyter-widgets/base",
       "_view_module_version": "1.2.0",
       "_view_name": "LayoutView",
       "align_content": null,
       "align_items": null,
       "align_self": null,
       "border": null,
       "bottom": null,
       "display": null,
       "flex": null,
       "flex_flow": null,
       "grid_area": null,
       "grid_auto_columns": null,
       "grid_auto_flow": null,
       "grid_auto_rows": null,
       "grid_column": null,
       "grid_gap": null,
       "grid_row": null,
       "grid_template_areas": null,
       "grid_template_columns": null,
       "grid_template_rows": null,
       "height": null,
       "justify_content": null,
       "justify_items": null,
       "left": null,
       "margin": null,
       "max_height": null,
       "max_width": null,
       "min_height": null,
       "min_width": null,
       "object_fit": null,
       "object_position": null,
       "order": null,
       "overflow": null,
       "overflow_x": null,
       "overflow_y": null,
       "padding": null,
       "right": null,
       "top": null,
       "visibility": null,
       "width": null
      }
     },
     "f8a17c1509b5447aac51047b529c5e83": {
      "model_module": "@jupyter-widgets/controls",
      "model_module_version": "1.5.0",
      "model_name": "DescriptionStyleModel",
      "state": {
       "_model_module": "@jupyter-widgets/controls",
       "_model_module_version": "1.5.0",
       "_model_name": "DescriptionStyleModel",
       "_view_count": null,
       "_view_module": "@jupyter-widgets/base",
       "_view_module_version": "1.2.0",
       "_view_name": "StyleView",
       "description_width": ""
      }
     },
     "fb572ef72f064e7c82cbe34c239e8f85": {
      "model_module": "@jupyter-widgets/base",
      "model_module_version": "1.2.0",
      "model_name": "LayoutModel",
      "state": {
       "_model_module": "@jupyter-widgets/base",
       "_model_module_version": "1.2.0",
       "_model_name": "LayoutModel",
       "_view_count": null,
       "_view_module": "@jupyter-widgets/base",
       "_view_module_version": "1.2.0",
       "_view_name": "LayoutView",
       "align_content": null,
       "align_items": null,
       "align_self": null,
       "border": null,
       "bottom": null,
       "display": null,
       "flex": null,
       "flex_flow": null,
       "grid_area": null,
       "grid_auto_columns": null,
       "grid_auto_flow": null,
       "grid_auto_rows": null,
       "grid_column": null,
       "grid_gap": null,
       "grid_row": null,
       "grid_template_areas": null,
       "grid_template_columns": null,
       "grid_template_rows": null,
       "height": null,
       "justify_content": null,
       "justify_items": null,
       "left": null,
       "margin": null,
       "max_height": null,
       "max_width": null,
       "min_height": null,
       "min_width": null,
       "object_fit": null,
       "object_position": null,
       "order": null,
       "overflow": null,
       "overflow_x": null,
       "overflow_y": null,
       "padding": null,
       "right": null,
       "top": null,
       "visibility": null,
       "width": null
      }
     },
     "fde8bc9cce954daea8e7bde3154eb70a": {
      "model_module": "@jupyter-widgets/base",
      "model_module_version": "1.2.0",
      "model_name": "LayoutModel",
      "state": {
       "_model_module": "@jupyter-widgets/base",
       "_model_module_version": "1.2.0",
       "_model_name": "LayoutModel",
       "_view_count": null,
       "_view_module": "@jupyter-widgets/base",
       "_view_module_version": "1.2.0",
       "_view_name": "LayoutView",
       "align_content": null,
       "align_items": null,
       "align_self": null,
       "border": null,
       "bottom": null,
       "display": null,
       "flex": null,
       "flex_flow": null,
       "grid_area": null,
       "grid_auto_columns": null,
       "grid_auto_flow": null,
       "grid_auto_rows": null,
       "grid_column": null,
       "grid_gap": null,
       "grid_row": null,
       "grid_template_areas": null,
       "grid_template_columns": null,
       "grid_template_rows": null,
       "height": null,
       "justify_content": null,
       "justify_items": null,
       "left": null,
       "margin": null,
       "max_height": null,
       "max_width": null,
       "min_height": null,
       "min_width": null,
       "object_fit": null,
       "object_position": null,
       "order": null,
       "overflow": null,
       "overflow_x": null,
       "overflow_y": null,
       "padding": null,
       "right": null,
       "top": null,
       "visibility": null,
       "width": null
      }
     }
    },
    "version_major": 2,
    "version_minor": 0
   }
  }
 },
 "nbformat": 4,
 "nbformat_minor": 5
}
